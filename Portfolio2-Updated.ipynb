{
 "cells": [
  {
   "cell_type": "markdown",
   "id": "f96467db-df5a-4d4f-badb-0131fb420935",
   "metadata": {},
   "source": [
    "<center> <h2> Portfolio Project #2 </h2> </center>  \n",
    "<center> <h3> Perform RFM and Association on Superstore Data <h3> </center>"
   ]
  },
  {
   "cell_type": "markdown",
   "id": "08bc2b6c-7e1b-4693-a366-0a3092079fe1",
   "metadata": {},
   "source": [
    "<h2>Objective</h2>\n",
    "\n",
    "To optimize sales and customer satisfaction,I will conduct RFM and Market Basket Analysis to identify product associations in customer orders. By uncovering which products are frequently purchased together, my aim to enhance cross-selling, inventory management, and personalized marketing strategies, ultimately increasing sales and customer experience"
   ]
  },
  {
   "cell_type": "markdown",
   "id": "bf8171e6-2441-4e25-8424-53eb5cfc9bb2",
   "metadata": {},
   "source": [
    "<h2> Importing Files and Libraries</h2>\n",
    "\n",
    "**i. Import Required libraries and Data File**"
   ]
  },
  {
   "cell_type": "code",
   "execution_count": 4,
   "id": "d84decae-b011-47ab-9c85-46483fd3c1e2",
   "metadata": {
    "tags": []
   },
   "outputs": [],
   "source": [
    "import pandas as pd\n",
    "import numpy as np\n",
    "import seaborn as sn\n",
    "import matplotlib.pyplot as plt\n",
    "import os\n",
    "from mlxtend.frequent_patterns import apriori\n",
    "from mlxtend.frequent_patterns import association_rules\n",
    "\n",
    "%matplotlib inline"
   ]
  },
  {
   "cell_type": "code",
   "execution_count": 5,
   "id": "c5e275f5-86bf-45de-822e-990cc9b6a116",
   "metadata": {
    "tags": []
   },
   "outputs": [],
   "source": [
    "from mlxtend.frequent_patterns import apriori\n",
    "from mlxtend.frequent_patterns import association_rules"
   ]
  },
  {
   "cell_type": "markdown",
   "id": "d70451bf-e317-47c7-9ab7-d5fd1aaa3864",
   "metadata": {},
   "source": [
    "**ii. Read Excel file**"
   ]
  },
  {
   "cell_type": "code",
   "execution_count": 6,
   "id": "b3b7a1f8-d101-472a-8f06-7c0329b49083",
   "metadata": {
    "tags": []
   },
   "outputs": [],
   "source": [
    "df = pd.read_excel(\"Online Retail.xlsx\")"
   ]
  },
  {
   "cell_type": "code",
   "execution_count": 8,
   "id": "c4f356e4-0282-42d5-95be-9c5f120a49e2",
   "metadata": {
    "tags": []
   },
   "outputs": [
    {
     "data": {
      "text/html": [
       "<div>\n",
       "<style scoped>\n",
       "    .dataframe tbody tr th:only-of-type {\n",
       "        vertical-align: middle;\n",
       "    }\n",
       "\n",
       "    .dataframe tbody tr th {\n",
       "        vertical-align: top;\n",
       "    }\n",
       "\n",
       "    .dataframe thead th {\n",
       "        text-align: right;\n",
       "    }\n",
       "</style>\n",
       "<table border=\"1\" class=\"dataframe\">\n",
       "  <thead>\n",
       "    <tr style=\"text-align: right;\">\n",
       "      <th></th>\n",
       "      <th>InvoiceNo</th>\n",
       "      <th>StockCode</th>\n",
       "      <th>Description</th>\n",
       "      <th>Quantity</th>\n",
       "      <th>InvoiceDate</th>\n",
       "      <th>UnitPrice</th>\n",
       "      <th>CustomerID</th>\n",
       "      <th>Country</th>\n",
       "    </tr>\n",
       "  </thead>\n",
       "  <tbody>\n",
       "    <tr>\n",
       "      <th>0</th>\n",
       "      <td>536365</td>\n",
       "      <td>85123A</td>\n",
       "      <td>WHITE HANGING HEART T-LIGHT HOLDER</td>\n",
       "      <td>6</td>\n",
       "      <td>2010-12-01 08:26:00</td>\n",
       "      <td>2.55</td>\n",
       "      <td>17850.0</td>\n",
       "      <td>United Kingdom</td>\n",
       "    </tr>\n",
       "    <tr>\n",
       "      <th>1</th>\n",
       "      <td>536365</td>\n",
       "      <td>71053</td>\n",
       "      <td>WHITE METAL LANTERN</td>\n",
       "      <td>6</td>\n",
       "      <td>2010-12-01 08:26:00</td>\n",
       "      <td>3.39</td>\n",
       "      <td>17850.0</td>\n",
       "      <td>United Kingdom</td>\n",
       "    </tr>\n",
       "    <tr>\n",
       "      <th>2</th>\n",
       "      <td>536365</td>\n",
       "      <td>84406B</td>\n",
       "      <td>CREAM CUPID HEARTS COAT HANGER</td>\n",
       "      <td>8</td>\n",
       "      <td>2010-12-01 08:26:00</td>\n",
       "      <td>2.75</td>\n",
       "      <td>17850.0</td>\n",
       "      <td>United Kingdom</td>\n",
       "    </tr>\n",
       "    <tr>\n",
       "      <th>3</th>\n",
       "      <td>536365</td>\n",
       "      <td>84029G</td>\n",
       "      <td>KNITTED UNION FLAG HOT WATER BOTTLE</td>\n",
       "      <td>6</td>\n",
       "      <td>2010-12-01 08:26:00</td>\n",
       "      <td>3.39</td>\n",
       "      <td>17850.0</td>\n",
       "      <td>United Kingdom</td>\n",
       "    </tr>\n",
       "    <tr>\n",
       "      <th>4</th>\n",
       "      <td>536365</td>\n",
       "      <td>84029E</td>\n",
       "      <td>RED WOOLLY HOTTIE WHITE HEART.</td>\n",
       "      <td>6</td>\n",
       "      <td>2010-12-01 08:26:00</td>\n",
       "      <td>3.39</td>\n",
       "      <td>17850.0</td>\n",
       "      <td>United Kingdom</td>\n",
       "    </tr>\n",
       "  </tbody>\n",
       "</table>\n",
       "</div>"
      ],
      "text/plain": [
       "  InvoiceNo StockCode                          Description  Quantity  \\\n",
       "0    536365    85123A   WHITE HANGING HEART T-LIGHT HOLDER         6   \n",
       "1    536365     71053                  WHITE METAL LANTERN         6   \n",
       "2    536365    84406B       CREAM CUPID HEARTS COAT HANGER         8   \n",
       "3    536365    84029G  KNITTED UNION FLAG HOT WATER BOTTLE         6   \n",
       "4    536365    84029E       RED WOOLLY HOTTIE WHITE HEART.         6   \n",
       "\n",
       "          InvoiceDate  UnitPrice  CustomerID         Country  \n",
       "0 2010-12-01 08:26:00       2.55     17850.0  United Kingdom  \n",
       "1 2010-12-01 08:26:00       3.39     17850.0  United Kingdom  \n",
       "2 2010-12-01 08:26:00       2.75     17850.0  United Kingdom  \n",
       "3 2010-12-01 08:26:00       3.39     17850.0  United Kingdom  \n",
       "4 2010-12-01 08:26:00       3.39     17850.0  United Kingdom  "
      ]
     },
     "execution_count": 8,
     "metadata": {},
     "output_type": "execute_result"
    }
   ],
   "source": [
    "df.head(5)"
   ]
  },
  {
   "cell_type": "code",
   "execution_count": 9,
   "id": "05c7295b-d235-4b06-8763-630e23c7ecb5",
   "metadata": {
    "tags": []
   },
   "outputs": [
    {
     "data": {
      "text/plain": [
       "Index(['InvoiceNo', 'StockCode', 'Description', 'Quantity', 'InvoiceDate',\n",
       "       'UnitPrice', 'CustomerID', 'Country'],\n",
       "      dtype='object')"
      ]
     },
     "execution_count": 9,
     "metadata": {},
     "output_type": "execute_result"
    }
   ],
   "source": [
    "df.columns"
   ]
  },
  {
   "cell_type": "markdown",
   "id": "8f707774-d0c0-42e4-ab7e-bfaef5558ee4",
   "metadata": {},
   "source": [
    "- **BillNo:** Invoice number. Nominal, a 6-digit integral number uniquely assigned to each transaction. If this code starts with the letter 'c', it indicates a cancellation.\n",
    "- **Itemname:** Product (item) name. Nominal.\n",
    "- **Quantity:** The quantities of each product (item) per transaction. Numeric.\n",
    "- **Date:** Invoice Date and time. Numeric, the day and time when each transaction was generated.\n",
    "- **Price:** Unit price. Numeric, Product price per unit in sterling.\n",
    "- **CustomerID:** Customer number. Nominal, a 5-digit integral number uniquely assigned to each customer.\n",
    "- **Country:** Country name. Nominal, the name of the country where each customer resides.\n"
   ]
  },
  {
   "cell_type": "code",
   "execution_count": 10,
   "id": "f69d2794-d1e8-4356-9aab-90f001b4287e",
   "metadata": {
    "tags": []
   },
   "outputs": [
    {
     "name": "stdout",
     "output_type": "stream",
     "text": [
      "<class 'pandas.core.frame.DataFrame'>\n",
      "RangeIndex: 541909 entries, 0 to 541908\n",
      "Data columns (total 8 columns):\n",
      " #   Column       Non-Null Count   Dtype         \n",
      "---  ------       --------------   -----         \n",
      " 0   InvoiceNo    541909 non-null  object        \n",
      " 1   StockCode    541909 non-null  object        \n",
      " 2   Description  540455 non-null  object        \n",
      " 3   Quantity     541909 non-null  int64         \n",
      " 4   InvoiceDate  541909 non-null  datetime64[ns]\n",
      " 5   UnitPrice    541909 non-null  float64       \n",
      " 6   CustomerID   406829 non-null  float64       \n",
      " 7   Country      541909 non-null  object        \n",
      "dtypes: datetime64[ns](1), float64(2), int64(1), object(4)\n",
      "memory usage: 33.1+ MB\n"
     ]
    }
   ],
   "source": [
    "df.info()"
   ]
  },
  {
   "cell_type": "code",
   "execution_count": 11,
   "id": "ffce0fae-94ad-45d1-84b9-211075f5d339",
   "metadata": {
    "tags": []
   },
   "outputs": [
    {
     "name": "stdout",
     "output_type": "stream",
     "text": [
      "Number of rows in dataset is:  541909\n",
      "Number of columns in dataset is:  8\n"
     ]
    }
   ],
   "source": [
    "print(\"Number of rows in dataset is: \", df.shape[0])\n",
    "print(\"Number of columns in dataset is: \", df.shape[1])"
   ]
  },
  {
   "cell_type": "markdown",
   "id": "6a4fcd72-1c21-440e-aa73-c72dfb3eb124",
   "metadata": {},
   "source": [
    "<h2> Data Preprocessing</h2>\n"
   ]
  },
  {
   "cell_type": "code",
   "execution_count": 12,
   "id": "c960da90-b931-46fa-9fb9-8afa396be7f2",
   "metadata": {
    "tags": []
   },
   "outputs": [
    {
     "name": "stdout",
     "output_type": "stream",
     "text": [
      "Duplicate entries: 5268\n",
      "1% rows are duplicate.\n"
     ]
    }
   ],
   "source": [
    "print('Duplicate entries: {}'.format(df.duplicated().sum()))\n",
    "print('{}% rows are duplicate.'.format(round((df.duplicated().sum()/df.shape[0])*100),2))\n",
    "#Remove duplicate data\n",
    "df.drop_duplicates(inplace = True)"
   ]
  },
  {
   "cell_type": "code",
   "execution_count": 14,
   "id": "fb8092ef-8fc9-468e-86ac-da6c2efc3856",
   "metadata": {
    "tags": []
   },
   "outputs": [],
   "source": [
    "df['Customer ID'] = df['CustomerID'].astype(str)"
   ]
  },
  {
   "cell_type": "code",
   "execution_count": 15,
   "id": "e091b62c-9c1d-48bf-ba0c-169542a104d8",
   "metadata": {
    "tags": []
   },
   "outputs": [
    {
     "data": {
      "text/html": [
       "<div>\n",
       "<style scoped>\n",
       "    .dataframe tbody tr th:only-of-type {\n",
       "        vertical-align: middle;\n",
       "    }\n",
       "\n",
       "    .dataframe tbody tr th {\n",
       "        vertical-align: top;\n",
       "    }\n",
       "\n",
       "    .dataframe thead th {\n",
       "        text-align: right;\n",
       "    }\n",
       "</style>\n",
       "<table border=\"1\" class=\"dataframe\">\n",
       "  <thead>\n",
       "    <tr style=\"text-align: right;\">\n",
       "      <th></th>\n",
       "      <th>Quantity</th>\n",
       "      <th>InvoiceDate</th>\n",
       "      <th>UnitPrice</th>\n",
       "      <th>CustomerID</th>\n",
       "    </tr>\n",
       "  </thead>\n",
       "  <tbody>\n",
       "    <tr>\n",
       "      <th>count</th>\n",
       "      <td>536641.000000</td>\n",
       "      <td>536641</td>\n",
       "      <td>536641.000000</td>\n",
       "      <td>401604.000000</td>\n",
       "    </tr>\n",
       "    <tr>\n",
       "      <th>mean</th>\n",
       "      <td>9.620029</td>\n",
       "      <td>2011-07-04 08:57:06.087421952</td>\n",
       "      <td>4.632656</td>\n",
       "      <td>15281.160818</td>\n",
       "    </tr>\n",
       "    <tr>\n",
       "      <th>min</th>\n",
       "      <td>-80995.000000</td>\n",
       "      <td>2010-12-01 08:26:00</td>\n",
       "      <td>-11062.060000</td>\n",
       "      <td>12346.000000</td>\n",
       "    </tr>\n",
       "    <tr>\n",
       "      <th>25%</th>\n",
       "      <td>1.000000</td>\n",
       "      <td>2011-03-28 10:52:00</td>\n",
       "      <td>1.250000</td>\n",
       "      <td>13939.000000</td>\n",
       "    </tr>\n",
       "    <tr>\n",
       "      <th>50%</th>\n",
       "      <td>3.000000</td>\n",
       "      <td>2011-07-19 14:04:00</td>\n",
       "      <td>2.080000</td>\n",
       "      <td>15145.000000</td>\n",
       "    </tr>\n",
       "    <tr>\n",
       "      <th>75%</th>\n",
       "      <td>10.000000</td>\n",
       "      <td>2011-10-18 17:05:00</td>\n",
       "      <td>4.130000</td>\n",
       "      <td>16784.000000</td>\n",
       "    </tr>\n",
       "    <tr>\n",
       "      <th>max</th>\n",
       "      <td>80995.000000</td>\n",
       "      <td>2011-12-09 12:50:00</td>\n",
       "      <td>38970.000000</td>\n",
       "      <td>18287.000000</td>\n",
       "    </tr>\n",
       "    <tr>\n",
       "      <th>std</th>\n",
       "      <td>219.130156</td>\n",
       "      <td>NaN</td>\n",
       "      <td>97.233118</td>\n",
       "      <td>1714.006089</td>\n",
       "    </tr>\n",
       "  </tbody>\n",
       "</table>\n",
       "</div>"
      ],
      "text/plain": [
       "            Quantity                    InvoiceDate      UnitPrice  \\\n",
       "count  536641.000000                         536641  536641.000000   \n",
       "mean        9.620029  2011-07-04 08:57:06.087421952       4.632656   \n",
       "min    -80995.000000            2010-12-01 08:26:00  -11062.060000   \n",
       "25%         1.000000            2011-03-28 10:52:00       1.250000   \n",
       "50%         3.000000            2011-07-19 14:04:00       2.080000   \n",
       "75%        10.000000            2011-10-18 17:05:00       4.130000   \n",
       "max     80995.000000            2011-12-09 12:50:00   38970.000000   \n",
       "std       219.130156                            NaN      97.233118   \n",
       "\n",
       "          CustomerID  \n",
       "count  401604.000000  \n",
       "mean    15281.160818  \n",
       "min     12346.000000  \n",
       "25%     13939.000000  \n",
       "50%     15145.000000  \n",
       "75%     16784.000000  \n",
       "max     18287.000000  \n",
       "std      1714.006089  "
      ]
     },
     "execution_count": 15,
     "metadata": {},
     "output_type": "execute_result"
    }
   ],
   "source": [
    "df.describe()"
   ]
  },
  {
   "cell_type": "code",
   "execution_count": 18,
   "id": "cbb89035-cf87-47b0-a83e-6b651192cba7",
   "metadata": {
    "tags": []
   },
   "outputs": [
    {
     "data": {
      "text/html": [
       "<div>\n",
       "<style scoped>\n",
       "    .dataframe tbody tr th:only-of-type {\n",
       "        vertical-align: middle;\n",
       "    }\n",
       "\n",
       "    .dataframe tbody tr th {\n",
       "        vertical-align: top;\n",
       "    }\n",
       "\n",
       "    .dataframe thead th {\n",
       "        text-align: right;\n",
       "    }\n",
       "</style>\n",
       "<table border=\"1\" class=\"dataframe\">\n",
       "  <thead>\n",
       "    <tr style=\"text-align: right;\">\n",
       "      <th></th>\n",
       "      <th>products</th>\n",
       "      <th>transactions</th>\n",
       "      <th>customers</th>\n",
       "    </tr>\n",
       "  </thead>\n",
       "  <tbody>\n",
       "    <tr>\n",
       "      <th>quantity</th>\n",
       "      <td>4070</td>\n",
       "      <td>25900</td>\n",
       "      <td>4373</td>\n",
       "    </tr>\n",
       "  </tbody>\n",
       "</table>\n",
       "</div>"
      ],
      "text/plain": [
       "          products  transactions  customers\n",
       "quantity      4070         25900       4373"
      ]
     },
     "execution_count": 18,
     "metadata": {},
     "output_type": "execute_result"
    }
   ],
   "source": [
    "pd.DataFrame([{'products': len(df['StockCode'].value_counts()),    \n",
    "               'transactions': len(df['InvoiceNo'].value_counts()),\n",
    "               'customers': len(df['CustomerID'].unique().tolist()),  \n",
    "              }], columns = ['products', 'transactions', 'customers'], index = ['quantity'])"
   ]
  },
  {
   "cell_type": "code",
   "execution_count": 19,
   "id": "48efab8d-897f-4e50-8e30-62ff12f3c67a",
   "metadata": {
    "tags": []
   },
   "outputs": [
    {
     "data": {
      "text/plain": [
       "InvoiceNo\n",
       "0    527390\n",
       "1      9251\n",
       "Name: count, dtype: int64"
      ]
     },
     "execution_count": 19,
     "metadata": {},
     "output_type": "execute_result"
    }
   ],
   "source": [
    "cancelled = df['InvoiceNo'].astype(str).str.contains('C')\n",
    "cancelled.fillna(0, inplace=True)\n",
    "cancelled = cancelled.astype(int)\n",
    "cancelled.value_counts()"
   ]
  },
  {
   "cell_type": "code",
   "execution_count": 20,
   "id": "329987bd-066d-4c65-8e2f-92be3a988db1",
   "metadata": {
    "tags": []
   },
   "outputs": [
    {
     "data": {
      "text/html": [
       "<div>\n",
       "<style scoped>\n",
       "    .dataframe tbody tr th:only-of-type {\n",
       "        vertical-align: middle;\n",
       "    }\n",
       "\n",
       "    .dataframe tbody tr th {\n",
       "        vertical-align: top;\n",
       "    }\n",
       "\n",
       "    .dataframe thead th {\n",
       "        text-align: right;\n",
       "    }\n",
       "</style>\n",
       "<table border=\"1\" class=\"dataframe\">\n",
       "  <thead>\n",
       "    <tr style=\"text-align: right;\">\n",
       "      <th></th>\n",
       "      <th>InvoiceNo</th>\n",
       "      <th>StockCode</th>\n",
       "      <th>Description</th>\n",
       "      <th>Quantity</th>\n",
       "      <th>InvoiceDate</th>\n",
       "      <th>UnitPrice</th>\n",
       "      <th>CustomerID</th>\n",
       "      <th>Country</th>\n",
       "      <th>Customer ID</th>\n",
       "      <th>order_canceled</th>\n",
       "    </tr>\n",
       "  </thead>\n",
       "  <tbody>\n",
       "    <tr>\n",
       "      <th>0</th>\n",
       "      <td>536365</td>\n",
       "      <td>85123A</td>\n",
       "      <td>WHITE HANGING HEART T-LIGHT HOLDER</td>\n",
       "      <td>6</td>\n",
       "      <td>2010-12-01 08:26:00</td>\n",
       "      <td>2.55</td>\n",
       "      <td>17850.0</td>\n",
       "      <td>United Kingdom</td>\n",
       "      <td>17850.0</td>\n",
       "      <td>0</td>\n",
       "    </tr>\n",
       "    <tr>\n",
       "      <th>1</th>\n",
       "      <td>536365</td>\n",
       "      <td>71053</td>\n",
       "      <td>WHITE METAL LANTERN</td>\n",
       "      <td>6</td>\n",
       "      <td>2010-12-01 08:26:00</td>\n",
       "      <td>3.39</td>\n",
       "      <td>17850.0</td>\n",
       "      <td>United Kingdom</td>\n",
       "      <td>17850.0</td>\n",
       "      <td>0</td>\n",
       "    </tr>\n",
       "    <tr>\n",
       "      <th>2</th>\n",
       "      <td>536365</td>\n",
       "      <td>84406B</td>\n",
       "      <td>CREAM CUPID HEARTS COAT HANGER</td>\n",
       "      <td>8</td>\n",
       "      <td>2010-12-01 08:26:00</td>\n",
       "      <td>2.75</td>\n",
       "      <td>17850.0</td>\n",
       "      <td>United Kingdom</td>\n",
       "      <td>17850.0</td>\n",
       "      <td>0</td>\n",
       "    </tr>\n",
       "    <tr>\n",
       "      <th>3</th>\n",
       "      <td>536365</td>\n",
       "      <td>84029G</td>\n",
       "      <td>KNITTED UNION FLAG HOT WATER BOTTLE</td>\n",
       "      <td>6</td>\n",
       "      <td>2010-12-01 08:26:00</td>\n",
       "      <td>3.39</td>\n",
       "      <td>17850.0</td>\n",
       "      <td>United Kingdom</td>\n",
       "      <td>17850.0</td>\n",
       "      <td>0</td>\n",
       "    </tr>\n",
       "    <tr>\n",
       "      <th>4</th>\n",
       "      <td>536365</td>\n",
       "      <td>84029E</td>\n",
       "      <td>RED WOOLLY HOTTIE WHITE HEART.</td>\n",
       "      <td>6</td>\n",
       "      <td>2010-12-01 08:26:00</td>\n",
       "      <td>3.39</td>\n",
       "      <td>17850.0</td>\n",
       "      <td>United Kingdom</td>\n",
       "      <td>17850.0</td>\n",
       "      <td>0</td>\n",
       "    </tr>\n",
       "  </tbody>\n",
       "</table>\n",
       "</div>"
      ],
      "text/plain": [
       "  InvoiceNo StockCode                          Description  Quantity  \\\n",
       "0    536365    85123A   WHITE HANGING HEART T-LIGHT HOLDER         6   \n",
       "1    536365     71053                  WHITE METAL LANTERN         6   \n",
       "2    536365    84406B       CREAM CUPID HEARTS COAT HANGER         8   \n",
       "3    536365    84029G  KNITTED UNION FLAG HOT WATER BOTTLE         6   \n",
       "4    536365    84029E       RED WOOLLY HOTTIE WHITE HEART.         6   \n",
       "\n",
       "          InvoiceDate  UnitPrice  CustomerID         Country Customer ID  \\\n",
       "0 2010-12-01 08:26:00       2.55     17850.0  United Kingdom     17850.0   \n",
       "1 2010-12-01 08:26:00       3.39     17850.0  United Kingdom     17850.0   \n",
       "2 2010-12-01 08:26:00       2.75     17850.0  United Kingdom     17850.0   \n",
       "3 2010-12-01 08:26:00       3.39     17850.0  United Kingdom     17850.0   \n",
       "4 2010-12-01 08:26:00       3.39     17850.0  United Kingdom     17850.0   \n",
       "\n",
       "   order_canceled  \n",
       "0               0  \n",
       "1               0  \n",
       "2               0  \n",
       "3               0  \n",
       "4               0  "
      ]
     },
     "execution_count": 20,
     "metadata": {},
     "output_type": "execute_result"
    }
   ],
   "source": [
    "df['order_canceled'] = cancelled\n",
    "df.head()"
   ]
  },
  {
   "cell_type": "code",
   "execution_count": 21,
   "id": "797a97d7-169e-4184-adb0-4949bdb6bad3",
   "metadata": {
    "tags": []
   },
   "outputs": [
    {
     "name": "stdout",
     "output_type": "stream",
     "text": [
      "Number of cancelled transactions: 9251\n",
      "Number of orders canceled: 9251/536641 (1.72%) \n"
     ]
    }
   ],
   "source": [
    "n1 = df['order_canceled'].value_counts()[1]\n",
    "n2 = df.shape[0]\n",
    "print(\"Number of cancelled transactions:\", n1)\n",
    "print('Number of orders canceled: {}/{} ({:.2f}%) '.format(n1, n2, n1/n2*100))\n",
    "df = df[df['order_canceled'] == 0]"
   ]
  },
  {
   "cell_type": "code",
   "execution_count": 22,
   "id": "af6e24cb-4848-43e6-8f0e-510669f30b03",
   "metadata": {
    "tags": []
   },
   "outputs": [],
   "source": [
    "df = df[df['Customer ID'].notna()]"
   ]
  },
  {
   "cell_type": "code",
   "execution_count": 27,
   "id": "ccd68945-1d69-4aad-8cc9-d6edae2553cf",
   "metadata": {
    "tags": []
   },
   "outputs": [
    {
     "name": "stdout",
     "output_type": "stream",
     "text": [
      "Total number of transaction with negative quantity: 1336\n",
      "Precentage of transactions with zero or negative quantity 0.25 %\n",
      "Total number of transaction with negative Price: 2512\n",
      "Precentage of transactions with zero or negative price 0.48 %\n"
     ]
    }
   ],
   "source": [
    "print(\"Total number of transaction with negative quantity:\", df[df['Quantity'] <= 0 ]['Quantity'].count())\n",
    "print(\"Precentage of transactions with zero or negative quantity\" ,round(len(df[df['Quantity']<=0])/len(df)*100, 2),\"%\")\n",
    "print(\"Total number of transaction with negative Price:\", df[df['UnitPrice'] <= 0 ]['UnitPrice'].count())\n",
    "print(\"Precentage of transactions with zero or negative price\" ,round(len(df[df['UnitPrice']<=0])/len(df)*100, 2),\"%\")"
   ]
  },
  {
   "cell_type": "code",
   "execution_count": 32,
   "id": "2cbbd0e0-35d1-4258-999f-236ab9f1449c",
   "metadata": {
    "tags": []
   },
   "outputs": [
    {
     "name": "stdout",
     "output_type": "stream",
     "text": [
      "0\n"
     ]
    }
   ],
   "source": [
    "print(df.duplicated().sum())\n",
    "df.drop_duplicates(inplace = True)"
   ]
  },
  {
   "cell_type": "markdown",
   "id": "0d3b0016-70e4-4b7f-bc41-a76fc7c6e6d5",
   "metadata": {
    "tags": []
   },
   "source": [
    "\n",
    "<h2> Exploratory Data Analysis</h2>\n"
   ]
  },
  {
   "cell_type": "code",
   "execution_count": 34,
   "id": "f9871a87-d2d5-432d-9ce5-3ae6836f6b3e",
   "metadata": {
    "tags": []
   },
   "outputs": [
    {
     "name": "stdout",
     "output_type": "stream",
     "text": [
      "Cleaned DataFrame with Revenue Column:\n"
     ]
    },
    {
     "data": {
      "text/html": [
       "<div>\n",
       "<style scoped>\n",
       "    .dataframe tbody tr th:only-of-type {\n",
       "        vertical-align: middle;\n",
       "    }\n",
       "\n",
       "    .dataframe tbody tr th {\n",
       "        vertical-align: top;\n",
       "    }\n",
       "\n",
       "    .dataframe thead th {\n",
       "        text-align: right;\n",
       "    }\n",
       "</style>\n",
       "<table border=\"1\" class=\"dataframe\">\n",
       "  <thead>\n",
       "    <tr style=\"text-align: right;\">\n",
       "      <th></th>\n",
       "      <th>InvoiceNo</th>\n",
       "      <th>StockCode</th>\n",
       "      <th>Description</th>\n",
       "      <th>Quantity</th>\n",
       "      <th>InvoiceDate</th>\n",
       "      <th>UnitPrice</th>\n",
       "      <th>CustomerID</th>\n",
       "      <th>Country</th>\n",
       "      <th>Customer ID</th>\n",
       "      <th>order_canceled</th>\n",
       "      <th>Revenue</th>\n",
       "    </tr>\n",
       "  </thead>\n",
       "  <tbody>\n",
       "    <tr>\n",
       "      <th>0</th>\n",
       "      <td>536365</td>\n",
       "      <td>85123A</td>\n",
       "      <td>WHITE HANGING HEART T-LIGHT HOLDER</td>\n",
       "      <td>6</td>\n",
       "      <td>2010-12-01 08:26:00</td>\n",
       "      <td>2.55</td>\n",
       "      <td>17850.0</td>\n",
       "      <td>United Kingdom</td>\n",
       "      <td>17850.0</td>\n",
       "      <td>0</td>\n",
       "      <td>15.30</td>\n",
       "    </tr>\n",
       "    <tr>\n",
       "      <th>1</th>\n",
       "      <td>536365</td>\n",
       "      <td>71053</td>\n",
       "      <td>WHITE METAL LANTERN</td>\n",
       "      <td>6</td>\n",
       "      <td>2010-12-01 08:26:00</td>\n",
       "      <td>3.39</td>\n",
       "      <td>17850.0</td>\n",
       "      <td>United Kingdom</td>\n",
       "      <td>17850.0</td>\n",
       "      <td>0</td>\n",
       "      <td>20.34</td>\n",
       "    </tr>\n",
       "    <tr>\n",
       "      <th>2</th>\n",
       "      <td>536365</td>\n",
       "      <td>84406B</td>\n",
       "      <td>CREAM CUPID HEARTS COAT HANGER</td>\n",
       "      <td>8</td>\n",
       "      <td>2010-12-01 08:26:00</td>\n",
       "      <td>2.75</td>\n",
       "      <td>17850.0</td>\n",
       "      <td>United Kingdom</td>\n",
       "      <td>17850.0</td>\n",
       "      <td>0</td>\n",
       "      <td>22.00</td>\n",
       "    </tr>\n",
       "    <tr>\n",
       "      <th>3</th>\n",
       "      <td>536365</td>\n",
       "      <td>84029G</td>\n",
       "      <td>KNITTED UNION FLAG HOT WATER BOTTLE</td>\n",
       "      <td>6</td>\n",
       "      <td>2010-12-01 08:26:00</td>\n",
       "      <td>3.39</td>\n",
       "      <td>17850.0</td>\n",
       "      <td>United Kingdom</td>\n",
       "      <td>17850.0</td>\n",
       "      <td>0</td>\n",
       "      <td>20.34</td>\n",
       "    </tr>\n",
       "    <tr>\n",
       "      <th>4</th>\n",
       "      <td>536365</td>\n",
       "      <td>84029E</td>\n",
       "      <td>RED WOOLLY HOTTIE WHITE HEART.</td>\n",
       "      <td>6</td>\n",
       "      <td>2010-12-01 08:26:00</td>\n",
       "      <td>3.39</td>\n",
       "      <td>17850.0</td>\n",
       "      <td>United Kingdom</td>\n",
       "      <td>17850.0</td>\n",
       "      <td>0</td>\n",
       "      <td>20.34</td>\n",
       "    </tr>\n",
       "    <tr>\n",
       "      <th>...</th>\n",
       "      <td>...</td>\n",
       "      <td>...</td>\n",
       "      <td>...</td>\n",
       "      <td>...</td>\n",
       "      <td>...</td>\n",
       "      <td>...</td>\n",
       "      <td>...</td>\n",
       "      <td>...</td>\n",
       "      <td>...</td>\n",
       "      <td>...</td>\n",
       "      <td>...</td>\n",
       "    </tr>\n",
       "    <tr>\n",
       "      <th>541904</th>\n",
       "      <td>581587</td>\n",
       "      <td>22613</td>\n",
       "      <td>PACK OF 20 SPACEBOY NAPKINS</td>\n",
       "      <td>12</td>\n",
       "      <td>2011-12-09 12:50:00</td>\n",
       "      <td>0.85</td>\n",
       "      <td>12680.0</td>\n",
       "      <td>France</td>\n",
       "      <td>12680.0</td>\n",
       "      <td>0</td>\n",
       "      <td>10.20</td>\n",
       "    </tr>\n",
       "    <tr>\n",
       "      <th>541905</th>\n",
       "      <td>581587</td>\n",
       "      <td>22899</td>\n",
       "      <td>CHILDREN'S APRON DOLLY GIRL</td>\n",
       "      <td>6</td>\n",
       "      <td>2011-12-09 12:50:00</td>\n",
       "      <td>2.10</td>\n",
       "      <td>12680.0</td>\n",
       "      <td>France</td>\n",
       "      <td>12680.0</td>\n",
       "      <td>0</td>\n",
       "      <td>12.60</td>\n",
       "    </tr>\n",
       "    <tr>\n",
       "      <th>541906</th>\n",
       "      <td>581587</td>\n",
       "      <td>23254</td>\n",
       "      <td>CHILDRENS CUTLERY DOLLY GIRL</td>\n",
       "      <td>4</td>\n",
       "      <td>2011-12-09 12:50:00</td>\n",
       "      <td>4.15</td>\n",
       "      <td>12680.0</td>\n",
       "      <td>France</td>\n",
       "      <td>12680.0</td>\n",
       "      <td>0</td>\n",
       "      <td>16.60</td>\n",
       "    </tr>\n",
       "    <tr>\n",
       "      <th>541907</th>\n",
       "      <td>581587</td>\n",
       "      <td>23255</td>\n",
       "      <td>CHILDRENS CUTLERY CIRCUS PARADE</td>\n",
       "      <td>4</td>\n",
       "      <td>2011-12-09 12:50:00</td>\n",
       "      <td>4.15</td>\n",
       "      <td>12680.0</td>\n",
       "      <td>France</td>\n",
       "      <td>12680.0</td>\n",
       "      <td>0</td>\n",
       "      <td>16.60</td>\n",
       "    </tr>\n",
       "    <tr>\n",
       "      <th>541908</th>\n",
       "      <td>581587</td>\n",
       "      <td>22138</td>\n",
       "      <td>BAKING SET 9 PIECE RETROSPOT</td>\n",
       "      <td>3</td>\n",
       "      <td>2011-12-09 12:50:00</td>\n",
       "      <td>4.95</td>\n",
       "      <td>12680.0</td>\n",
       "      <td>France</td>\n",
       "      <td>12680.0</td>\n",
       "      <td>0</td>\n",
       "      <td>14.85</td>\n",
       "    </tr>\n",
       "  </tbody>\n",
       "</table>\n",
       "<p>527390 rows × 11 columns</p>\n",
       "</div>"
      ],
      "text/plain": [
       "       InvoiceNo StockCode                          Description  Quantity  \\\n",
       "0         536365    85123A   WHITE HANGING HEART T-LIGHT HOLDER         6   \n",
       "1         536365     71053                  WHITE METAL LANTERN         6   \n",
       "2         536365    84406B       CREAM CUPID HEARTS COAT HANGER         8   \n",
       "3         536365    84029G  KNITTED UNION FLAG HOT WATER BOTTLE         6   \n",
       "4         536365    84029E       RED WOOLLY HOTTIE WHITE HEART.         6   \n",
       "...          ...       ...                                  ...       ...   \n",
       "541904    581587     22613          PACK OF 20 SPACEBOY NAPKINS        12   \n",
       "541905    581587     22899         CHILDREN'S APRON DOLLY GIRL          6   \n",
       "541906    581587     23254        CHILDRENS CUTLERY DOLLY GIRL          4   \n",
       "541907    581587     23255      CHILDRENS CUTLERY CIRCUS PARADE         4   \n",
       "541908    581587     22138        BAKING SET 9 PIECE RETROSPOT          3   \n",
       "\n",
       "               InvoiceDate  UnitPrice  CustomerID         Country Customer ID  \\\n",
       "0      2010-12-01 08:26:00       2.55     17850.0  United Kingdom     17850.0   \n",
       "1      2010-12-01 08:26:00       3.39     17850.0  United Kingdom     17850.0   \n",
       "2      2010-12-01 08:26:00       2.75     17850.0  United Kingdom     17850.0   \n",
       "3      2010-12-01 08:26:00       3.39     17850.0  United Kingdom     17850.0   \n",
       "4      2010-12-01 08:26:00       3.39     17850.0  United Kingdom     17850.0   \n",
       "...                    ...        ...         ...             ...         ...   \n",
       "541904 2011-12-09 12:50:00       0.85     12680.0          France     12680.0   \n",
       "541905 2011-12-09 12:50:00       2.10     12680.0          France     12680.0   \n",
       "541906 2011-12-09 12:50:00       4.15     12680.0          France     12680.0   \n",
       "541907 2011-12-09 12:50:00       4.15     12680.0          France     12680.0   \n",
       "541908 2011-12-09 12:50:00       4.95     12680.0          France     12680.0   \n",
       "\n",
       "        order_canceled  Revenue  \n",
       "0                    0    15.30  \n",
       "1                    0    20.34  \n",
       "2                    0    22.00  \n",
       "3                    0    20.34  \n",
       "4                    0    20.34  \n",
       "...                ...      ...  \n",
       "541904               0    10.20  \n",
       "541905               0    12.60  \n",
       "541906               0    16.60  \n",
       "541907               0    16.60  \n",
       "541908               0    14.85  \n",
       "\n",
       "[527390 rows x 11 columns]"
      ]
     },
     "execution_count": 34,
     "metadata": {},
     "output_type": "execute_result"
    }
   ],
   "source": [
    "# Calculate revenue by multiplying 'Quantity' and 'Price' columns\n",
    "df['Revenue'] = df['Quantity'] * df['UnitPrice']\n",
    "\n",
    "# Print the cleaned DataFrame with the new 'Revenue' column\n",
    "print(\"Cleaned DataFrame with Revenue Column:\")\n",
    "df.head()"
   ]
  },
  {
   "cell_type": "markdown",
   "id": "964b7d75-1791-44fe-aa75-3d4818921f1a",
   "metadata": {},
   "source": [
    "**Question:**\n",
    "How many distinct customers, identified by their 'CustomerID,' are there in our dataset?\n"
   ]
  },
  {
   "cell_type": "code",
   "execution_count": 35,
   "id": "d784a8f4-be93-4d76-8115-c3648c8616a6",
   "metadata": {
    "tags": []
   },
   "outputs": [
    {
     "name": "stdout",
     "output_type": "stream",
     "text": [
      "Number of Distinct Customers (CustomerIDs): 4340\n"
     ]
    }
   ],
   "source": [
    "# Calculate the number of unique customers (unique CustomerIDs)\n",
    "unique_customers_count = df['Customer ID'].nunique()\n",
    "\n",
    "# Print the result professionally\n",
    "print(\"Number of Distinct Customers (CustomerIDs):\", unique_customers_count)"
   ]
  },
  {
   "cell_type": "markdown",
   "id": "efa0c4a4-89e0-4b2c-bd1c-fb571b8aed9d",
   "metadata": {},
   "source": [
    "**Question:**\n",
    "How many distinct orders, identified by their 'InvoiceNo,' are there in our dataset?"
   ]
  },
  {
   "cell_type": "code",
   "execution_count": 36,
   "id": "7163613d-3642-4a5f-b352-e8be653f4e52",
   "metadata": {
    "tags": []
   },
   "outputs": [
    {
     "name": "stdout",
     "output_type": "stream",
     "text": [
      "Number of Distinct Orders (InvoiceNos): 22064\n"
     ]
    }
   ],
   "source": [
    "# Calculate the number of unique orders (unique InvoiceNos)\n",
    "unique_orders_count = df['InvoiceNo'].nunique()\n",
    "\n",
    "# Print the result professionally\n",
    "print(\"Number of Distinct Orders (InvoiceNos):\", unique_orders_count)"
   ]
  },
  {
   "cell_type": "markdown",
   "id": "979c2ac2-528d-40d6-9035-c7c61bb30c5e",
   "metadata": {},
   "source": [
    "**Question:** \n",
    "how many unique desription we have?"
   ]
  },
  {
   "cell_type": "code",
   "execution_count": 37,
   "id": "a56afe22-d399-4b24-bb21-f8429828fc1f",
   "metadata": {
    "tags": []
   },
   "outputs": [
    {
     "name": "stdout",
     "output_type": "stream",
     "text": [
      "Number of Unique Items: 4207\n"
     ]
    }
   ],
   "source": [
    "# Calculate the number of unique descriptions (unique Description values)\n",
    "unique_Item_count = df['Description'].nunique()\n",
    "\n",
    "# Print the result\n",
    "print(\"Number of Unique Items:\", unique_Item_count)"
   ]
  },
  {
   "cell_type": "markdown",
   "id": "a64e1c3b-07c9-4051-b402-ba692964cbbc",
   "metadata": {},
   "source": [
    "**Question:**\n",
    "How many quantity sold?"
   ]
  },
  {
   "cell_type": "code",
   "execution_count": 38,
   "id": "f7dda5f5-7431-4531-b4c0-2deb19a96e70",
   "metadata": {
    "tags": []
   },
   "outputs": [
    {
     "name": "stdout",
     "output_type": "stream",
     "text": [
      "Total Quantity Sold: 5438062\n"
     ]
    }
   ],
   "source": [
    "# Calculate the total quantity sold\n",
    "total_quantity_sold = df['Quantity'].sum()\n",
    "\n",
    "# Print the result\n",
    "print(\"Total Quantity Sold:\", total_quantity_sold)"
   ]
  },
  {
   "cell_type": "markdown",
   "id": "201c276d-3bca-4f07-8d47-d6cef62d152e",
   "metadata": {},
   "source": [
    "**Question:** \n",
    "Average Quantity Sold?"
   ]
  },
  {
   "cell_type": "code",
   "execution_count": 39,
   "id": "1c41fbb7-2b24-4a0a-b89a-707bf1091921",
   "metadata": {
    "tags": []
   },
   "outputs": [
    {
     "name": "stdout",
     "output_type": "stream",
     "text": [
      "Average Quantity Sold: 10.31127249284211\n"
     ]
    }
   ],
   "source": [
    "# Calculate the average quantity sold\n",
    "average_quantity_sold = df['Quantity'].mean()\n",
    "\n",
    "# Print the result\n",
    "print(\"Average Quantity Sold:\", average_quantity_sold)"
   ]
  },
  {
   "cell_type": "markdown",
   "id": "38765291-4688-4366-83f6-cb350ac14c93",
   "metadata": {},
   "source": [
    "**Question:**\n",
    "what are the range of of the date in this data “invoice date”"
   ]
  },
  {
   "cell_type": "code",
   "execution_count": 40,
   "id": "c33b0f55-57bf-4f14-9af6-e13ba5a30d00",
   "metadata": {
    "tags": []
   },
   "outputs": [
    {
     "name": "stdout",
     "output_type": "stream",
     "text": [
      "Date Range (InvoiceDate):\n",
      "Start Date: 2010-12-01 08:26:00\n",
      "End Date: 2011-12-09 12:50:00\n",
      "Number of Days in the Range: 373 days\n",
      "Years Included in the Range: 2010 to 2011\n"
     ]
    }
   ],
   "source": [
    "# Convert the \"Date\" column to a datetime data type if it's not already\n",
    "df['InvoiceDate'] = pd.to_datetime(df['InvoiceDate'])\n",
    "\n",
    "# Find the minimum and maximum dates\n",
    "min_date = df['InvoiceDate'].min()\n",
    "max_date = df['InvoiceDate'].max()\n",
    "\n",
    "# Calculate the number of days in the date range\n",
    "date_range_days = (max_date - min_date).days\n",
    "\n",
    "# Extract the years from the date range\n",
    "start_year = min_date.year\n",
    "end_year = max_date.year\n",
    "\n",
    "# Print the results\n",
    "print(\"Date Range (InvoiceDate):\")\n",
    "print(\"Start Date:\", min_date)\n",
    "print(\"End Date:\", max_date)\n",
    "print(\"Number of Days in the Range:\", date_range_days, \"days\")\n",
    "print(\"Years Included in the Range:\", start_year, \"to\", end_year)"
   ]
  },
  {
   "cell_type": "markdown",
   "id": "e9db2aca-18de-487e-8a9d-552f22e24d04",
   "metadata": {},
   "source": [
    "**Question:**\n",
    "Since we played with date let's add some columns related to date for more analysis later"
   ]
  },
  {
   "cell_type": "code",
   "execution_count": 43,
   "id": "29fbefde-bac6-4411-a6d2-54b400c790e8",
   "metadata": {
    "tags": []
   },
   "outputs": [
    {
     "name": "stdout",
     "output_type": "stream",
     "text": [
      "DataFrame with New Date Columns:\n"
     ]
    },
    {
     "data": {
      "text/html": [
       "<div>\n",
       "<style scoped>\n",
       "    .dataframe tbody tr th:only-of-type {\n",
       "        vertical-align: middle;\n",
       "    }\n",
       "\n",
       "    .dataframe tbody tr th {\n",
       "        vertical-align: top;\n",
       "    }\n",
       "\n",
       "    .dataframe thead th {\n",
       "        text-align: right;\n",
       "    }\n",
       "</style>\n",
       "<table border=\"1\" class=\"dataframe\">\n",
       "  <thead>\n",
       "    <tr style=\"text-align: right;\">\n",
       "      <th></th>\n",
       "      <th>InvoiceNo</th>\n",
       "      <th>StockCode</th>\n",
       "      <th>Description</th>\n",
       "      <th>Quantity</th>\n",
       "      <th>InvoiceDate</th>\n",
       "      <th>UnitPrice</th>\n",
       "      <th>CustomerID</th>\n",
       "      <th>Country</th>\n",
       "      <th>Customer ID</th>\n",
       "      <th>order_canceled</th>\n",
       "      <th>Revenue</th>\n",
       "      <th>Year</th>\n",
       "      <th>Month</th>\n",
       "      <th>Day</th>\n",
       "      <th>DayOfWeek</th>\n",
       "      <th>YearMonth</th>\n",
       "    </tr>\n",
       "  </thead>\n",
       "  <tbody>\n",
       "    <tr>\n",
       "      <th>0</th>\n",
       "      <td>536365</td>\n",
       "      <td>85123A</td>\n",
       "      <td>WHITE HANGING HEART T-LIGHT HOLDER</td>\n",
       "      <td>6</td>\n",
       "      <td>2010-12-01 08:26:00</td>\n",
       "      <td>2.55</td>\n",
       "      <td>17850.0</td>\n",
       "      <td>United Kingdom</td>\n",
       "      <td>17850.0</td>\n",
       "      <td>0</td>\n",
       "      <td>15.30</td>\n",
       "      <td>2010</td>\n",
       "      <td>12</td>\n",
       "      <td>1</td>\n",
       "      <td>Wednesday</td>\n",
       "      <td>2010-12</td>\n",
       "    </tr>\n",
       "    <tr>\n",
       "      <th>1</th>\n",
       "      <td>536365</td>\n",
       "      <td>71053</td>\n",
       "      <td>WHITE METAL LANTERN</td>\n",
       "      <td>6</td>\n",
       "      <td>2010-12-01 08:26:00</td>\n",
       "      <td>3.39</td>\n",
       "      <td>17850.0</td>\n",
       "      <td>United Kingdom</td>\n",
       "      <td>17850.0</td>\n",
       "      <td>0</td>\n",
       "      <td>20.34</td>\n",
       "      <td>2010</td>\n",
       "      <td>12</td>\n",
       "      <td>1</td>\n",
       "      <td>Wednesday</td>\n",
       "      <td>2010-12</td>\n",
       "    </tr>\n",
       "    <tr>\n",
       "      <th>2</th>\n",
       "      <td>536365</td>\n",
       "      <td>84406B</td>\n",
       "      <td>CREAM CUPID HEARTS COAT HANGER</td>\n",
       "      <td>8</td>\n",
       "      <td>2010-12-01 08:26:00</td>\n",
       "      <td>2.75</td>\n",
       "      <td>17850.0</td>\n",
       "      <td>United Kingdom</td>\n",
       "      <td>17850.0</td>\n",
       "      <td>0</td>\n",
       "      <td>22.00</td>\n",
       "      <td>2010</td>\n",
       "      <td>12</td>\n",
       "      <td>1</td>\n",
       "      <td>Wednesday</td>\n",
       "      <td>2010-12</td>\n",
       "    </tr>\n",
       "    <tr>\n",
       "      <th>3</th>\n",
       "      <td>536365</td>\n",
       "      <td>84029G</td>\n",
       "      <td>KNITTED UNION FLAG HOT WATER BOTTLE</td>\n",
       "      <td>6</td>\n",
       "      <td>2010-12-01 08:26:00</td>\n",
       "      <td>3.39</td>\n",
       "      <td>17850.0</td>\n",
       "      <td>United Kingdom</td>\n",
       "      <td>17850.0</td>\n",
       "      <td>0</td>\n",
       "      <td>20.34</td>\n",
       "      <td>2010</td>\n",
       "      <td>12</td>\n",
       "      <td>1</td>\n",
       "      <td>Wednesday</td>\n",
       "      <td>2010-12</td>\n",
       "    </tr>\n",
       "    <tr>\n",
       "      <th>4</th>\n",
       "      <td>536365</td>\n",
       "      <td>84029E</td>\n",
       "      <td>RED WOOLLY HOTTIE WHITE HEART.</td>\n",
       "      <td>6</td>\n",
       "      <td>2010-12-01 08:26:00</td>\n",
       "      <td>3.39</td>\n",
       "      <td>17850.0</td>\n",
       "      <td>United Kingdom</td>\n",
       "      <td>17850.0</td>\n",
       "      <td>0</td>\n",
       "      <td>20.34</td>\n",
       "      <td>2010</td>\n",
       "      <td>12</td>\n",
       "      <td>1</td>\n",
       "      <td>Wednesday</td>\n",
       "      <td>2010-12</td>\n",
       "    </tr>\n",
       "  </tbody>\n",
       "</table>\n",
       "</div>"
      ],
      "text/plain": [
       "  InvoiceNo StockCode                          Description  Quantity  \\\n",
       "0    536365    85123A   WHITE HANGING HEART T-LIGHT HOLDER         6   \n",
       "1    536365     71053                  WHITE METAL LANTERN         6   \n",
       "2    536365    84406B       CREAM CUPID HEARTS COAT HANGER         8   \n",
       "3    536365    84029G  KNITTED UNION FLAG HOT WATER BOTTLE         6   \n",
       "4    536365    84029E       RED WOOLLY HOTTIE WHITE HEART.         6   \n",
       "\n",
       "          InvoiceDate  UnitPrice  CustomerID         Country Customer ID  \\\n",
       "0 2010-12-01 08:26:00       2.55     17850.0  United Kingdom     17850.0   \n",
       "1 2010-12-01 08:26:00       3.39     17850.0  United Kingdom     17850.0   \n",
       "2 2010-12-01 08:26:00       2.75     17850.0  United Kingdom     17850.0   \n",
       "3 2010-12-01 08:26:00       3.39     17850.0  United Kingdom     17850.0   \n",
       "4 2010-12-01 08:26:00       3.39     17850.0  United Kingdom     17850.0   \n",
       "\n",
       "   order_canceled  Revenue  Year  Month  Day  DayOfWeek YearMonth  \n",
       "0               0    15.30  2010     12    1  Wednesday   2010-12  \n",
       "1               0    20.34  2010     12    1  Wednesday   2010-12  \n",
       "2               0    22.00  2010     12    1  Wednesday   2010-12  \n",
       "3               0    20.34  2010     12    1  Wednesday   2010-12  \n",
       "4               0    20.34  2010     12    1  Wednesday   2010-12  "
      ]
     },
     "execution_count": 43,
     "metadata": {},
     "output_type": "execute_result"
    }
   ],
   "source": [
    "# Extract year, month, and day from the \"InvoiceDate\" column\n",
    "df['Year'] = df['InvoiceDate'].dt.year\n",
    "df['Month'] = df['InvoiceDate'].dt.month\n",
    "df['Day'] = df['InvoiceDate'].dt.day\n",
    "\n",
    "# Create a column for the day of the week (in words)\n",
    "df['DayOfWeek'] = df['InvoiceDate'].dt.strftime('%A')\n",
    "\n",
    "# Create a column for \"year-month\"\n",
    "df['YearMonth'] = df['InvoiceDate'].dt.strftime('%Y-%m')\n",
    "\n",
    "# Print the DataFrame with the new columns\n",
    "print(\"DataFrame with New Date Columns:\")\n",
    "df.head()"
   ]
  },
  {
   "cell_type": "code",
   "execution_count": 44,
   "id": "c649be0d-087e-46c0-b76c-6d3d2aed8a4c",
   "metadata": {
    "tags": []
   },
   "outputs": [
    {
     "name": "stdout",
     "output_type": "stream",
     "text": [
      "Count of Orders for Each Day of the Week:\n",
      "   DayOfWeek   Count\n",
      "0   Thursday  100708\n",
      "1    Tuesday   99322\n",
      "2     Monday   92821\n",
      "3  Wednesday   91987\n",
      "4     Friday   80208\n",
      "5     Sunday   62344\n"
     ]
    }
   ],
   "source": [
    "# Count the occurrences of each day of the week\n",
    "day_of_week_counts = df['DayOfWeek'].value_counts().reset_index()\n",
    "day_of_week_counts.columns = ['DayOfWeek', 'Count']\n",
    "\n",
    "# Sort the DataFrame by day of the week\n",
    "day_of_week_counts = day_of_week_counts.sort_values(by=['Count'],ascending=False)\n",
    "\n",
    "# Print the count of orders for each day in order\n",
    "print(\"Count of Orders for Each Day of the Week:\")\n",
    "print(day_of_week_counts)"
   ]
  },
  {
   "cell_type": "code",
   "execution_count": 45,
   "id": "4e6c14ac-554c-40bf-9e0e-1472829f4614",
   "metadata": {
    "tags": []
   },
   "outputs": [
    {
     "name": "stdout",
     "output_type": "stream",
     "text": [
      "Average Unit Price: 3.8619388384307625\n"
     ]
    }
   ],
   "source": [
    "# Calculate the average unit price\n",
    "average_price = df['UnitPrice'].mean()\n",
    "\n",
    "# Print the result\n",
    "print(\"Average Unit Price:\", average_price)"
   ]
  },
  {
   "cell_type": "code",
   "execution_count": 46,
   "id": "e0259c17-4e6f-41bd-a7cb-e544d19a6b96",
   "metadata": {
    "tags": []
   },
   "outputs": [
    {
     "name": "stdout",
     "output_type": "stream",
     "text": [
      "Maximum Unit Price: 13541.33\n",
      "Minimum Unit Price: -11062.06\n"
     ]
    }
   ],
   "source": [
    "# Calculate the maximum and minimum unit prices\n",
    "max_unit_price = df['UnitPrice'].max()\n",
    "min_unit_price = df['UnitPrice'].min()\n",
    "\n",
    "# Print the results\n",
    "print(\"Maximum Unit Price:\", max_unit_price)\n",
    "print(\"Minimum Unit Price:\", min_unit_price)"
   ]
  },
  {
   "cell_type": "markdown",
   "id": "d5acb535-d40d-40fe-9688-dd4d7a81fc9a",
   "metadata": {},
   "source": [
    "**Question:**\n",
    "what is the countries that we sell too?"
   ]
  },
  {
   "cell_type": "code",
   "execution_count": 47,
   "id": "0e32f067-d794-4e9b-b733-d860ebd88e81",
   "metadata": {
    "tags": []
   },
   "outputs": [
    {
     "name": "stdout",
     "output_type": "stream",
     "text": [
      "Number of Unique Countries We Sell To: 38\n"
     ]
    }
   ],
   "source": [
    "# Calculate the number of unique countries\n",
    "unique_countries_count = df['Country'].nunique()\n",
    "\n",
    "# Print the count of unique countries\n",
    "print(\"Number of Unique Countries We Sell To:\",unique_countries_count)"
   ]
  },
  {
   "cell_type": "markdown",
   "id": "0aecc4e7-264d-4eed-bdad-52fa54759ebc",
   "metadata": {},
   "source": [
    "**Question:**\n",
    "Total Revenue for each country"
   ]
  },
  {
   "cell_type": "code",
   "execution_count": 49,
   "id": "dc3ef5dc-568e-4bb0-9268-33996f512ae4",
   "metadata": {
    "tags": []
   },
   "outputs": [
    {
     "name": "stdout",
     "output_type": "stream",
     "text": [
      "Countries Responsible for the Most Percentage of Revenue:\n"
     ]
    },
    {
     "data": {
      "text/html": [
       "<div>\n",
       "<style scoped>\n",
       "    .dataframe tbody tr th:only-of-type {\n",
       "        vertical-align: middle;\n",
       "    }\n",
       "\n",
       "    .dataframe tbody tr th {\n",
       "        vertical-align: top;\n",
       "    }\n",
       "\n",
       "    .dataframe thead th {\n",
       "        text-align: right;\n",
       "    }\n",
       "</style>\n",
       "<table border=\"1\" class=\"dataframe\">\n",
       "  <thead>\n",
       "    <tr style=\"text-align: right;\">\n",
       "      <th></th>\n",
       "      <th>Country</th>\n",
       "      <th>Revenue</th>\n",
       "      <th>Percentage_of_Revenue</th>\n",
       "    </tr>\n",
       "  </thead>\n",
       "  <tbody>\n",
       "    <tr>\n",
       "      <th>36</th>\n",
       "      <td>United Kingdom</td>\n",
       "      <td>8979619.974</td>\n",
       "      <td>84.553966</td>\n",
       "    </tr>\n",
       "    <tr>\n",
       "      <th>24</th>\n",
       "      <td>Netherlands</td>\n",
       "      <td>285446.340</td>\n",
       "      <td>2.687822</td>\n",
       "    </tr>\n",
       "    <tr>\n",
       "      <th>10</th>\n",
       "      <td>EIRE</td>\n",
       "      <td>283140.520</td>\n",
       "      <td>2.666110</td>\n",
       "    </tr>\n",
       "    <tr>\n",
       "      <th>14</th>\n",
       "      <td>Germany</td>\n",
       "      <td>228678.400</td>\n",
       "      <td>2.153283</td>\n",
       "    </tr>\n",
       "    <tr>\n",
       "      <th>13</th>\n",
       "      <td>France</td>\n",
       "      <td>209625.370</td>\n",
       "      <td>1.973876</td>\n",
       "    </tr>\n",
       "    <tr>\n",
       "      <th>0</th>\n",
       "      <td>Australia</td>\n",
       "      <td>138453.810</td>\n",
       "      <td>1.303710</td>\n",
       "    </tr>\n",
       "    <tr>\n",
       "      <th>31</th>\n",
       "      <td>Spain</td>\n",
       "      <td>61558.560</td>\n",
       "      <td>0.579648</td>\n",
       "    </tr>\n",
       "    <tr>\n",
       "      <th>33</th>\n",
       "      <td>Switzerland</td>\n",
       "      <td>57067.600</td>\n",
       "      <td>0.537360</td>\n",
       "    </tr>\n",
       "    <tr>\n",
       "      <th>3</th>\n",
       "      <td>Belgium</td>\n",
       "      <td>41196.340</td>\n",
       "      <td>0.387913</td>\n",
       "    </tr>\n",
       "    <tr>\n",
       "      <th>32</th>\n",
       "      <td>Sweden</td>\n",
       "      <td>38367.830</td>\n",
       "      <td>0.361279</td>\n",
       "    </tr>\n",
       "    <tr>\n",
       "      <th>20</th>\n",
       "      <td>Japan</td>\n",
       "      <td>37416.370</td>\n",
       "      <td>0.352320</td>\n",
       "    </tr>\n",
       "    <tr>\n",
       "      <th>25</th>\n",
       "      <td>Norway</td>\n",
       "      <td>36165.440</td>\n",
       "      <td>0.340541</td>\n",
       "    </tr>\n",
       "    <tr>\n",
       "      <th>27</th>\n",
       "      <td>Portugal</td>\n",
       "      <td>33683.050</td>\n",
       "      <td>0.317167</td>\n",
       "    </tr>\n",
       "    <tr>\n",
       "      <th>12</th>\n",
       "      <td>Finland</td>\n",
       "      <td>22546.080</td>\n",
       "      <td>0.212299</td>\n",
       "    </tr>\n",
       "    <tr>\n",
       "      <th>30</th>\n",
       "      <td>Singapore</td>\n",
       "      <td>21279.290</td>\n",
       "      <td>0.200370</td>\n",
       "    </tr>\n",
       "    <tr>\n",
       "      <th>6</th>\n",
       "      <td>Channel Islands</td>\n",
       "      <td>20440.540</td>\n",
       "      <td>0.192472</td>\n",
       "    </tr>\n",
       "    <tr>\n",
       "      <th>9</th>\n",
       "      <td>Denmark</td>\n",
       "      <td>18955.340</td>\n",
       "      <td>0.178487</td>\n",
       "    </tr>\n",
       "    <tr>\n",
       "      <th>19</th>\n",
       "      <td>Italy</td>\n",
       "      <td>17483.240</td>\n",
       "      <td>0.164626</td>\n",
       "    </tr>\n",
       "    <tr>\n",
       "      <th>16</th>\n",
       "      <td>Hong Kong</td>\n",
       "      <td>15483.000</td>\n",
       "      <td>0.145791</td>\n",
       "    </tr>\n",
       "    <tr>\n",
       "      <th>7</th>\n",
       "      <td>Cyprus</td>\n",
       "      <td>13502.850</td>\n",
       "      <td>0.127146</td>\n",
       "    </tr>\n",
       "    <tr>\n",
       "      <th>1</th>\n",
       "      <td>Austria</td>\n",
       "      <td>10198.680</td>\n",
       "      <td>0.096033</td>\n",
       "    </tr>\n",
       "    <tr>\n",
       "      <th>18</th>\n",
       "      <td>Israel</td>\n",
       "      <td>8129.410</td>\n",
       "      <td>0.076548</td>\n",
       "    </tr>\n",
       "    <tr>\n",
       "      <th>26</th>\n",
       "      <td>Poland</td>\n",
       "      <td>7334.650</td>\n",
       "      <td>0.069065</td>\n",
       "    </tr>\n",
       "    <tr>\n",
       "      <th>15</th>\n",
       "      <td>Greece</td>\n",
       "      <td>4760.520</td>\n",
       "      <td>0.044826</td>\n",
       "    </tr>\n",
       "    <tr>\n",
       "      <th>37</th>\n",
       "      <td>Unspecified</td>\n",
       "      <td>4740.940</td>\n",
       "      <td>0.044642</td>\n",
       "    </tr>\n",
       "    <tr>\n",
       "      <th>17</th>\n",
       "      <td>Iceland</td>\n",
       "      <td>4310.000</td>\n",
       "      <td>0.040584</td>\n",
       "    </tr>\n",
       "    <tr>\n",
       "      <th>5</th>\n",
       "      <td>Canada</td>\n",
       "      <td>3666.380</td>\n",
       "      <td>0.034523</td>\n",
       "    </tr>\n",
       "    <tr>\n",
       "      <th>34</th>\n",
       "      <td>USA</td>\n",
       "      <td>3580.390</td>\n",
       "      <td>0.033714</td>\n",
       "    </tr>\n",
       "    <tr>\n",
       "      <th>23</th>\n",
       "      <td>Malta</td>\n",
       "      <td>2725.590</td>\n",
       "      <td>0.025665</td>\n",
       "    </tr>\n",
       "    <tr>\n",
       "      <th>35</th>\n",
       "      <td>United Arab Emirates</td>\n",
       "      <td>1902.280</td>\n",
       "      <td>0.017912</td>\n",
       "    </tr>\n",
       "    <tr>\n",
       "      <th>21</th>\n",
       "      <td>Lebanon</td>\n",
       "      <td>1693.880</td>\n",
       "      <td>0.015950</td>\n",
       "    </tr>\n",
       "    <tr>\n",
       "      <th>22</th>\n",
       "      <td>Lithuania</td>\n",
       "      <td>1661.060</td>\n",
       "      <td>0.015641</td>\n",
       "    </tr>\n",
       "    <tr>\n",
       "      <th>11</th>\n",
       "      <td>European Community</td>\n",
       "      <td>1300.250</td>\n",
       "      <td>0.012243</td>\n",
       "    </tr>\n",
       "    <tr>\n",
       "      <th>4</th>\n",
       "      <td>Brazil</td>\n",
       "      <td>1143.600</td>\n",
       "      <td>0.010768</td>\n",
       "    </tr>\n",
       "    <tr>\n",
       "      <th>28</th>\n",
       "      <td>RSA</td>\n",
       "      <td>1002.310</td>\n",
       "      <td>0.009438</td>\n",
       "    </tr>\n",
       "    <tr>\n",
       "      <th>8</th>\n",
       "      <td>Czech Republic</td>\n",
       "      <td>826.740</td>\n",
       "      <td>0.007785</td>\n",
       "    </tr>\n",
       "    <tr>\n",
       "      <th>2</th>\n",
       "      <td>Bahrain</td>\n",
       "      <td>754.140</td>\n",
       "      <td>0.007101</td>\n",
       "    </tr>\n",
       "    <tr>\n",
       "      <th>29</th>\n",
       "      <td>Saudi Arabia</td>\n",
       "      <td>145.920</td>\n",
       "      <td>0.001374</td>\n",
       "    </tr>\n",
       "  </tbody>\n",
       "</table>\n",
       "</div>"
      ],
      "text/plain": [
       "                 Country      Revenue  Percentage_of_Revenue\n",
       "36        United Kingdom  8979619.974              84.553966\n",
       "24           Netherlands   285446.340               2.687822\n",
       "10                  EIRE   283140.520               2.666110\n",
       "14               Germany   228678.400               2.153283\n",
       "13                France   209625.370               1.973876\n",
       "0              Australia   138453.810               1.303710\n",
       "31                 Spain    61558.560               0.579648\n",
       "33           Switzerland    57067.600               0.537360\n",
       "3                Belgium    41196.340               0.387913\n",
       "32                Sweden    38367.830               0.361279\n",
       "20                 Japan    37416.370               0.352320\n",
       "25                Norway    36165.440               0.340541\n",
       "27              Portugal    33683.050               0.317167\n",
       "12               Finland    22546.080               0.212299\n",
       "30             Singapore    21279.290               0.200370\n",
       "6        Channel Islands    20440.540               0.192472\n",
       "9                Denmark    18955.340               0.178487\n",
       "19                 Italy    17483.240               0.164626\n",
       "16             Hong Kong    15483.000               0.145791\n",
       "7                 Cyprus    13502.850               0.127146\n",
       "1                Austria    10198.680               0.096033\n",
       "18                Israel     8129.410               0.076548\n",
       "26                Poland     7334.650               0.069065\n",
       "15                Greece     4760.520               0.044826\n",
       "37           Unspecified     4740.940               0.044642\n",
       "17               Iceland     4310.000               0.040584\n",
       "5                 Canada     3666.380               0.034523\n",
       "34                   USA     3580.390               0.033714\n",
       "23                 Malta     2725.590               0.025665\n",
       "35  United Arab Emirates     1902.280               0.017912\n",
       "21               Lebanon     1693.880               0.015950\n",
       "22             Lithuania     1661.060               0.015641\n",
       "11    European Community     1300.250               0.012243\n",
       "4                 Brazil     1143.600               0.010768\n",
       "28                   RSA     1002.310               0.009438\n",
       "8         Czech Republic      826.740               0.007785\n",
       "2                Bahrain      754.140               0.007101\n",
       "29          Saudi Arabia      145.920               0.001374"
      ]
     },
     "execution_count": 49,
     "metadata": {},
     "output_type": "execute_result"
    }
   ],
   "source": [
    "# Calculate the total revenue for each country\n",
    "country_revenue = df.groupby('Country')['Revenue'].sum().reset_index()\n",
    "\n",
    "# Calculate the percentage of revenue for each country\n",
    "total_revenue = country_revenue['Revenue'].sum()\n",
    "country_revenue['Percentage_of_Revenue'] = (country_revenue['Revenue'] / total_revenue) * 100\n",
    "\n",
    "# Sort the results by percentage of revenue in descending order\n",
    "country_revenue = country_revenue.sort_values(by='Percentage_of_Revenue', ascending=False)\n",
    "\n",
    "# Print the countries responsible for the most percentage of revenue\n",
    "print(\"Countries Responsible for the Most Percentage of Revenue:\")\n",
    "#print(country_revenue[['Country', 'Percentage_of_Revenue']])\n",
    "country_revenue"
   ]
  },
  {
   "cell_type": "code",
   "execution_count": 50,
   "id": "7b3ab21d-c26f-4088-84de-d688a7a536df",
   "metadata": {
    "tags": []
   },
   "outputs": [
    {
     "name": "stdout",
     "output_type": "stream",
     "text": [
      "The total Revenue is:$ 10619986.683999998\n"
     ]
    }
   ],
   "source": [
    "total_rev=df[\"Revenue\"].sum()\n",
    "print(\"The total Revenue is:$\",total_rev)"
   ]
  },
  {
   "cell_type": "code",
   "execution_count": 51,
   "id": "512b3a50-eb91-495e-bb8d-1791f4863eb9",
   "metadata": {
    "tags": []
   },
   "outputs": [
    {
     "name": "stdout",
     "output_type": "stream",
     "text": [
      "Most Ordered Item per Invoice:\n",
      "       InvoiceNo                        Description  Quantity\n",
      "518984    581483        PAPER CRAFT , LITTLE BIRDIE     80995\n",
      "59171     541431     MEDIUM CERAMIC TOP STORAGE JAR     74215\n",
      "482306    578841     ASSTD DESIGN 3D PAPER STICKERS     12540\n",
      "405442    573008  WORLD WAR 2 GLIDERS ASSTD DESIGNS      4800\n",
      "198118    554868               SMALL POPCORN HOLDER      4300\n"
     ]
    },
    {
     "data": {
      "image/png": "[encoded data removed]",
      "text/plain": [
       "<Figure size 600x300 with 1 Axes>"
      ]
     },
     "metadata": {},
     "output_type": "display_data"
    }
   ],
   "source": [
    "\n",
    "# Group by 'InvoiceNo' and find the stock item with the highest total quantity ordered per invoice\n",
    "most_ordered_per_invoice = df.groupby(['InvoiceNo',\"Description\"])['Quantity'].sum().reset_index()\n",
    "most_ordered_per_invoice = most_ordered_per_invoice.sort_values(by=['Quantity'], ascending=[False])\n",
    "most_ordered_per_invoice = most_ordered_per_invoice.drop_duplicates(subset='InvoiceNo', keep='first').head(5)\n",
    "\n",
    "# Print the result\n",
    "print(\"Most Ordered Item per Invoice:\")\n",
    "print(most_ordered_per_invoice[['InvoiceNo',\"Description\", 'Quantity']])\n",
    "\n",
    "\n",
    "colors = plt.cm.viridis(np.linspace(0, 1, len(df)))\n",
    "# Plotting\n",
    "plt.figure(figsize=(6, 3))\n",
    "plt.barh(most_ordered_per_invoice['Description'], most_ordered_per_invoice['Quantity'], color=colors, alpha=0.7)\n",
    "plt.xlabel('Quantity Sold')\n",
    "plt.ylabel('Product Description')\n",
    "plt.title('Most Ordered Stock Items per Invoice')\n",
    "plt.gca().invert_yaxis()  # Invert the y-axis to display the top item at the top\n",
    "plt.tight_layout()\n",
    "plt.savefig(\"Most Ordered Stock Items per Invoice\")\n",
    "\n",
    "# Display the plot\n",
    "plt.show()"
   ]
  },
  {
   "cell_type": "code",
   "execution_count": 52,
   "id": "7fa2faa2-87c9-421a-b422-438aabd8cd72",
   "metadata": {
    "tags": []
   },
   "outputs": [
    {
     "name": "stdout",
     "output_type": "stream",
     "text": [
      "Top 10 Items per Invoice:\n",
      "       InvoiceNo                        Description  Quantity\n",
      "518984    581483        PAPER CRAFT , LITTLE BIRDIE     80995\n",
      "59171     541431     MEDIUM CERAMIC TOP STORAGE JAR     74215\n",
      "482306    578841     ASSTD DESIGN 3D PAPER STICKERS     12540\n",
      "405442    573008  WORLD WAR 2 GLIDERS ASSTD DESIGNS      4800\n",
      "198118    554868               SMALL POPCORN HOLDER      4300\n",
      "...          ...                                ...       ...\n",
      "414826    573596             Unsaleable, destroyed.     -4830\n",
      "111224    546152                         throw away     -5368\n",
      "216845    556687       Printing smudges/thrown away     -9058\n",
      "216846    556690       printing smudges/thrown away     -9600\n",
      "216847    556691       printing smudges/thrown away     -9600\n",
      "\n",
      "[160620 rows x 3 columns]\n"
     ]
    },
    {
     "data": {
      "text/html": [
       "<div>\n",
       "<style scoped>\n",
       "    .dataframe tbody tr th:only-of-type {\n",
       "        vertical-align: middle;\n",
       "    }\n",
       "\n",
       "    .dataframe tbody tr th {\n",
       "        vertical-align: top;\n",
       "    }\n",
       "\n",
       "    .dataframe thead th {\n",
       "        text-align: right;\n",
       "    }\n",
       "</style>\n",
       "<table border=\"1\" class=\"dataframe\">\n",
       "  <thead>\n",
       "    <tr style=\"text-align: right;\">\n",
       "      <th></th>\n",
       "      <th>InvoiceNo</th>\n",
       "      <th>Description</th>\n",
       "      <th>Quantity</th>\n",
       "    </tr>\n",
       "  </thead>\n",
       "  <tbody>\n",
       "    <tr>\n",
       "      <th>518984</th>\n",
       "      <td>581483</td>\n",
       "      <td>PAPER CRAFT , LITTLE BIRDIE</td>\n",
       "      <td>80995</td>\n",
       "    </tr>\n",
       "    <tr>\n",
       "      <th>59171</th>\n",
       "      <td>541431</td>\n",
       "      <td>MEDIUM CERAMIC TOP STORAGE JAR</td>\n",
       "      <td>74215</td>\n",
       "    </tr>\n",
       "    <tr>\n",
       "      <th>482306</th>\n",
       "      <td>578841</td>\n",
       "      <td>ASSTD DESIGN 3D PAPER STICKERS</td>\n",
       "      <td>12540</td>\n",
       "    </tr>\n",
       "    <tr>\n",
       "      <th>405442</th>\n",
       "      <td>573008</td>\n",
       "      <td>WORLD WAR 2 GLIDERS ASSTD DESIGNS</td>\n",
       "      <td>4800</td>\n",
       "    </tr>\n",
       "    <tr>\n",
       "      <th>198118</th>\n",
       "      <td>554868</td>\n",
       "      <td>SMALL POPCORN HOLDER</td>\n",
       "      <td>4300</td>\n",
       "    </tr>\n",
       "    <tr>\n",
       "      <th>...</th>\n",
       "      <td>...</td>\n",
       "      <td>...</td>\n",
       "      <td>...</td>\n",
       "    </tr>\n",
       "    <tr>\n",
       "      <th>414826</th>\n",
       "      <td>573596</td>\n",
       "      <td>Unsaleable, destroyed.</td>\n",
       "      <td>-4830</td>\n",
       "    </tr>\n",
       "    <tr>\n",
       "      <th>111224</th>\n",
       "      <td>546152</td>\n",
       "      <td>throw away</td>\n",
       "      <td>-5368</td>\n",
       "    </tr>\n",
       "    <tr>\n",
       "      <th>216845</th>\n",
       "      <td>556687</td>\n",
       "      <td>Printing smudges/thrown away</td>\n",
       "      <td>-9058</td>\n",
       "    </tr>\n",
       "    <tr>\n",
       "      <th>216846</th>\n",
       "      <td>556690</td>\n",
       "      <td>printing smudges/thrown away</td>\n",
       "      <td>-9600</td>\n",
       "    </tr>\n",
       "    <tr>\n",
       "      <th>216847</th>\n",
       "      <td>556691</td>\n",
       "      <td>printing smudges/thrown away</td>\n",
       "      <td>-9600</td>\n",
       "    </tr>\n",
       "  </tbody>\n",
       "</table>\n",
       "<p>160620 rows × 3 columns</p>\n",
       "</div>"
      ],
      "text/plain": [
       "       InvoiceNo                        Description  Quantity\n",
       "518984    581483        PAPER CRAFT , LITTLE BIRDIE     80995\n",
       "59171     541431     MEDIUM CERAMIC TOP STORAGE JAR     74215\n",
       "482306    578841     ASSTD DESIGN 3D PAPER STICKERS     12540\n",
       "405442    573008  WORLD WAR 2 GLIDERS ASSTD DESIGNS      4800\n",
       "198118    554868               SMALL POPCORN HOLDER      4300\n",
       "...          ...                                ...       ...\n",
       "414826    573596             Unsaleable, destroyed.     -4830\n",
       "111224    546152                         throw away     -5368\n",
       "216845    556687       Printing smudges/thrown away     -9058\n",
       "216846    556690       printing smudges/thrown away     -9600\n",
       "216847    556691       printing smudges/thrown away     -9600\n",
       "\n",
       "[160620 rows x 3 columns]"
      ]
     },
     "execution_count": 52,
     "metadata": {},
     "output_type": "execute_result"
    }
   ],
   "source": [
    "# Group by 'InvoiceNo' and 'Itemname', and find the total quantity ordered for each combination\n",
    "Item_quantities_per_invoice = df.groupby(['InvoiceNo', 'Description'])['Quantity'].sum().reset_index()\n",
    "\n",
    "# Sort the data by 'BillNo' and quantity in descending order\n",
    "Item_quantities_per_invoice = Item_quantities_per_invoice.sort_values(by=['Quantity'], ascending=[False])\n",
    "\n",
    "# Get the top 10 Items per invoice using groupby and head\n",
    "top_10_Items_per_invoice = Item_quantities_per_invoice.groupby('InvoiceNo').head(10)\n",
    "\n",
    "# Print the result\n",
    "print(\"Top 10 Items per Invoice:\")\n",
    "print(top_10_Items_per_invoice[['InvoiceNo', 'Description', 'Quantity']])\n",
    "top_10_Items_per_invoice\n",
    "\n"
   ]
  },
  {
   "cell_type": "code",
   "execution_count": 53,
   "id": "a9b7dcb9-241c-4756-b768-3b0d07d597f7",
   "metadata": {
    "tags": []
   },
   "outputs": [
    {
     "ename": "ValueError",
     "evalue": "invalid literal for int() with base 10: 'A563185'",
     "output_type": "error",
     "traceback": [
      "\u001b[1;31m---------------------------------------------------------------------------\u001b[0m",
      "\u001b[1;31mValueError\u001b[0m                                Traceback (most recent call last)",
      "Cell \u001b[1;32mIn[53], line 2\u001b[0m\n\u001b[0;32m      1\u001b[0m \u001b[38;5;66;03m# Here to check if all BillNo doesn't inculde letters \u001b[39;00m\n\u001b[1;32m----> 2\u001b[0m df[\u001b[38;5;124m'\u001b[39m\u001b[38;5;124mInvoiceNo\u001b[39m\u001b[38;5;124m'\u001b[39m]\u001b[38;5;241m.\u001b[39mastype(\u001b[38;5;124m\"\u001b[39m\u001b[38;5;124mint64\u001b[39m\u001b[38;5;124m\"\u001b[39m)\n",
      "File \u001b[1;32m~\\anaconda3\\Lib\\site-packages\\pandas\\core\\generic.py:6324\u001b[0m, in \u001b[0;36mNDFrame.astype\u001b[1;34m(self, dtype, copy, errors)\u001b[0m\n\u001b[0;32m   6317\u001b[0m     results \u001b[38;5;241m=\u001b[39m [\n\u001b[0;32m   6318\u001b[0m         \u001b[38;5;28mself\u001b[39m\u001b[38;5;241m.\u001b[39miloc[:, i]\u001b[38;5;241m.\u001b[39mastype(dtype, copy\u001b[38;5;241m=\u001b[39mcopy)\n\u001b[0;32m   6319\u001b[0m         \u001b[38;5;28;01mfor\u001b[39;00m i \u001b[38;5;129;01min\u001b[39;00m \u001b[38;5;28mrange\u001b[39m(\u001b[38;5;28mlen\u001b[39m(\u001b[38;5;28mself\u001b[39m\u001b[38;5;241m.\u001b[39mcolumns))\n\u001b[0;32m   6320\u001b[0m     ]\n\u001b[0;32m   6322\u001b[0m \u001b[38;5;28;01melse\u001b[39;00m:\n\u001b[0;32m   6323\u001b[0m     \u001b[38;5;66;03m# else, only a single dtype is given\u001b[39;00m\n\u001b[1;32m-> 6324\u001b[0m     new_data \u001b[38;5;241m=\u001b[39m \u001b[38;5;28mself\u001b[39m\u001b[38;5;241m.\u001b[39m_mgr\u001b[38;5;241m.\u001b[39mastype(dtype\u001b[38;5;241m=\u001b[39mdtype, copy\u001b[38;5;241m=\u001b[39mcopy, errors\u001b[38;5;241m=\u001b[39merrors)\n\u001b[0;32m   6325\u001b[0m     \u001b[38;5;28;01mreturn\u001b[39;00m \u001b[38;5;28mself\u001b[39m\u001b[38;5;241m.\u001b[39m_constructor(new_data)\u001b[38;5;241m.\u001b[39m__finalize__(\u001b[38;5;28mself\u001b[39m, method\u001b[38;5;241m=\u001b[39m\u001b[38;5;124m\"\u001b[39m\u001b[38;5;124mastype\u001b[39m\u001b[38;5;124m\"\u001b[39m)\n\u001b[0;32m   6327\u001b[0m \u001b[38;5;66;03m# GH 33113: handle empty frame or series\u001b[39;00m\n",
      "File \u001b[1;32m~\\anaconda3\\Lib\\site-packages\\pandas\\core\\internals\\managers.py:451\u001b[0m, in \u001b[0;36mBaseBlockManager.astype\u001b[1;34m(self, dtype, copy, errors)\u001b[0m\n\u001b[0;32m    448\u001b[0m \u001b[38;5;28;01melif\u001b[39;00m using_copy_on_write():\n\u001b[0;32m    449\u001b[0m     copy \u001b[38;5;241m=\u001b[39m \u001b[38;5;28;01mFalse\u001b[39;00m\n\u001b[1;32m--> 451\u001b[0m \u001b[38;5;28;01mreturn\u001b[39;00m \u001b[38;5;28mself\u001b[39m\u001b[38;5;241m.\u001b[39mapply(\n\u001b[0;32m    452\u001b[0m     \u001b[38;5;124m\"\u001b[39m\u001b[38;5;124mastype\u001b[39m\u001b[38;5;124m\"\u001b[39m,\n\u001b[0;32m    453\u001b[0m     dtype\u001b[38;5;241m=\u001b[39mdtype,\n\u001b[0;32m    454\u001b[0m     copy\u001b[38;5;241m=\u001b[39mcopy,\n\u001b[0;32m    455\u001b[0m     errors\u001b[38;5;241m=\u001b[39merrors,\n\u001b[0;32m    456\u001b[0m     using_cow\u001b[38;5;241m=\u001b[39musing_copy_on_write(),\n\u001b[0;32m    457\u001b[0m )\n",
      "File \u001b[1;32m~\\anaconda3\\Lib\\site-packages\\pandas\\core\\internals\\managers.py:352\u001b[0m, in \u001b[0;36mBaseBlockManager.apply\u001b[1;34m(self, f, align_keys, **kwargs)\u001b[0m\n\u001b[0;32m    350\u001b[0m         applied \u001b[38;5;241m=\u001b[39m b\u001b[38;5;241m.\u001b[39mapply(f, \u001b[38;5;241m*\u001b[39m\u001b[38;5;241m*\u001b[39mkwargs)\n\u001b[0;32m    351\u001b[0m     \u001b[38;5;28;01melse\u001b[39;00m:\n\u001b[1;32m--> 352\u001b[0m         applied \u001b[38;5;241m=\u001b[39m \u001b[38;5;28mgetattr\u001b[39m(b, f)(\u001b[38;5;241m*\u001b[39m\u001b[38;5;241m*\u001b[39mkwargs)\n\u001b[0;32m    353\u001b[0m     result_blocks \u001b[38;5;241m=\u001b[39m extend_blocks(applied, result_blocks)\n\u001b[0;32m    355\u001b[0m out \u001b[38;5;241m=\u001b[39m \u001b[38;5;28mtype\u001b[39m(\u001b[38;5;28mself\u001b[39m)\u001b[38;5;241m.\u001b[39mfrom_blocks(result_blocks, \u001b[38;5;28mself\u001b[39m\u001b[38;5;241m.\u001b[39maxes)\n",
      "File \u001b[1;32m~\\anaconda3\\Lib\\site-packages\\pandas\\core\\internals\\blocks.py:511\u001b[0m, in \u001b[0;36mBlock.astype\u001b[1;34m(self, dtype, copy, errors, using_cow)\u001b[0m\n\u001b[0;32m    491\u001b[0m \u001b[38;5;250m\u001b[39m\u001b[38;5;124;03m\"\"\"\u001b[39;00m\n\u001b[0;32m    492\u001b[0m \u001b[38;5;124;03mCoerce to the new dtype.\u001b[39;00m\n\u001b[0;32m    493\u001b[0m \n\u001b[1;32m   (...)\u001b[0m\n\u001b[0;32m    507\u001b[0m \u001b[38;5;124;03mBlock\u001b[39;00m\n\u001b[0;32m    508\u001b[0m \u001b[38;5;124;03m\"\"\"\u001b[39;00m\n\u001b[0;32m    509\u001b[0m values \u001b[38;5;241m=\u001b[39m \u001b[38;5;28mself\u001b[39m\u001b[38;5;241m.\u001b[39mvalues\n\u001b[1;32m--> 511\u001b[0m new_values \u001b[38;5;241m=\u001b[39m astype_array_safe(values, dtype, copy\u001b[38;5;241m=\u001b[39mcopy, errors\u001b[38;5;241m=\u001b[39merrors)\n\u001b[0;32m    513\u001b[0m new_values \u001b[38;5;241m=\u001b[39m maybe_coerce_values(new_values)\n\u001b[0;32m    515\u001b[0m refs \u001b[38;5;241m=\u001b[39m \u001b[38;5;28;01mNone\u001b[39;00m\n",
      "File \u001b[1;32m~\\anaconda3\\Lib\\site-packages\\pandas\\core\\dtypes\\astype.py:242\u001b[0m, in \u001b[0;36mastype_array_safe\u001b[1;34m(values, dtype, copy, errors)\u001b[0m\n\u001b[0;32m    239\u001b[0m     dtype \u001b[38;5;241m=\u001b[39m dtype\u001b[38;5;241m.\u001b[39mnumpy_dtype\n\u001b[0;32m    241\u001b[0m \u001b[38;5;28;01mtry\u001b[39;00m:\n\u001b[1;32m--> 242\u001b[0m     new_values \u001b[38;5;241m=\u001b[39m astype_array(values, dtype, copy\u001b[38;5;241m=\u001b[39mcopy)\n\u001b[0;32m    243\u001b[0m \u001b[38;5;28;01mexcept\u001b[39;00m (\u001b[38;5;167;01mValueError\u001b[39;00m, \u001b[38;5;167;01mTypeError\u001b[39;00m):\n\u001b[0;32m    244\u001b[0m     \u001b[38;5;66;03m# e.g. _astype_nansafe can fail on object-dtype of strings\u001b[39;00m\n\u001b[0;32m    245\u001b[0m     \u001b[38;5;66;03m#  trying to convert to float\u001b[39;00m\n\u001b[0;32m    246\u001b[0m     \u001b[38;5;28;01mif\u001b[39;00m errors \u001b[38;5;241m==\u001b[39m \u001b[38;5;124m\"\u001b[39m\u001b[38;5;124mignore\u001b[39m\u001b[38;5;124m\"\u001b[39m:\n",
      "File \u001b[1;32m~\\anaconda3\\Lib\\site-packages\\pandas\\core\\dtypes\\astype.py:187\u001b[0m, in \u001b[0;36mastype_array\u001b[1;34m(values, dtype, copy)\u001b[0m\n\u001b[0;32m    184\u001b[0m     values \u001b[38;5;241m=\u001b[39m values\u001b[38;5;241m.\u001b[39mastype(dtype, copy\u001b[38;5;241m=\u001b[39mcopy)\n\u001b[0;32m    186\u001b[0m \u001b[38;5;28;01melse\u001b[39;00m:\n\u001b[1;32m--> 187\u001b[0m     values \u001b[38;5;241m=\u001b[39m _astype_nansafe(values, dtype, copy\u001b[38;5;241m=\u001b[39mcopy)\n\u001b[0;32m    189\u001b[0m \u001b[38;5;66;03m# in pandas we don't store numpy str dtypes, so convert to object\u001b[39;00m\n\u001b[0;32m    190\u001b[0m \u001b[38;5;28;01mif\u001b[39;00m \u001b[38;5;28misinstance\u001b[39m(dtype, np\u001b[38;5;241m.\u001b[39mdtype) \u001b[38;5;129;01mand\u001b[39;00m \u001b[38;5;28missubclass\u001b[39m(values\u001b[38;5;241m.\u001b[39mdtype\u001b[38;5;241m.\u001b[39mtype, \u001b[38;5;28mstr\u001b[39m):\n",
      "File \u001b[1;32m~\\anaconda3\\Lib\\site-packages\\pandas\\core\\dtypes\\astype.py:138\u001b[0m, in \u001b[0;36m_astype_nansafe\u001b[1;34m(arr, dtype, copy, skipna)\u001b[0m\n\u001b[0;32m    134\u001b[0m     \u001b[38;5;28;01mraise\u001b[39;00m \u001b[38;5;167;01mValueError\u001b[39;00m(msg)\n\u001b[0;32m    136\u001b[0m \u001b[38;5;28;01mif\u001b[39;00m copy \u001b[38;5;129;01mor\u001b[39;00m is_object_dtype(arr\u001b[38;5;241m.\u001b[39mdtype) \u001b[38;5;129;01mor\u001b[39;00m is_object_dtype(dtype):\n\u001b[0;32m    137\u001b[0m     \u001b[38;5;66;03m# Explicit copy, or required since NumPy can't view from / to object.\u001b[39;00m\n\u001b[1;32m--> 138\u001b[0m     \u001b[38;5;28;01mreturn\u001b[39;00m arr\u001b[38;5;241m.\u001b[39mastype(dtype, copy\u001b[38;5;241m=\u001b[39m\u001b[38;5;28;01mTrue\u001b[39;00m)\n\u001b[0;32m    140\u001b[0m \u001b[38;5;28;01mreturn\u001b[39;00m arr\u001b[38;5;241m.\u001b[39mastype(dtype, copy\u001b[38;5;241m=\u001b[39mcopy)\n",
      "\u001b[1;31mValueError\u001b[0m: invalid literal for int() with base 10: 'A563185'"
     ]
    }
   ],
   "source": [
    "# Here to check if all BillNo doesn't inculde letters \n",
    "df['InvoiceNo'].astype(\"int64\")"
   ]
  },
  {
   "cell_type": "code",
   "execution_count": 54,
   "id": "6b075cd7-2f46-4884-a171-2b34419336a8",
   "metadata": {
    "tags": []
   },
   "outputs": [
    {
     "data": {
      "text/plain": [
       "Country\n",
       "United Kingdom          4511372\n",
       "Netherlands              200937\n",
       "EIRE                     147281\n",
       "Germany                  119156\n",
       "France                   112061\n",
       "Australia                 84199\n",
       "Sweden                    36078\n",
       "Switzerland               30618\n",
       "Spain                     27944\n",
       "Japan                     26016\n",
       "Belgium                   23237\n",
       "Norway                    19338\n",
       "Portugal                  16231\n",
       "Finland                   10704\n",
       "Channel Islands            9485\n",
       "Denmark                    8235\n",
       "Italy                      8112\n",
       "Cyprus                     6340\n",
       "Singapore                  5241\n",
       "Austria                    4881\n",
       "Hong Kong                  4713\n",
       "Israel                     4406\n",
       "Poland                     3684\n",
       "Unspecified                3295\n",
       "Canada                     2763\n",
       "USA                        2458\n",
       "Iceland                    2458\n",
       "Greece                     1557\n",
       "United Arab Emirates        982\n",
       "Malta                       970\n",
       "Czech Republic              671\n",
       "Lithuania                   652\n",
       "European Community          499\n",
       "Lebanon                     386\n",
       "Brazil                      356\n",
       "RSA                         352\n",
       "Bahrain                     314\n",
       "Saudi Arabia                 80\n",
       "Name: Quantity, dtype: int64"
      ]
     },
     "execution_count": 54,
     "metadata": {},
     "output_type": "execute_result"
    }
   ],
   "source": [
    "# Grouping countries by TotalAmount of sales\n",
    "\n",
    "country_price = df.groupby('Country')['Quantity'].sum().sort_values(ascending = False)\n",
    "country_price"
   ]
  },
  {
   "cell_type": "code",
   "execution_count": 65,
   "id": "534aeb29-ed63-43d6-8361-82ead2e0ad2b",
   "metadata": {
    "tags": []
   },
   "outputs": [
    {
     "data": {
      "text/plain": [
       "<Figure size 100x300 with 0 Axes>"
      ]
     },
     "execution_count": 65,
     "metadata": {},
     "output_type": "execute_result"
    },
    {
     "data": {
      "image/png": "[encoded data removed]",
      "text/plain": [
       "<Figure size 640x480 with 1 Axes>"
      ]
     },
     "metadata": {},
     "output_type": "display_data"
    },
    {
     "data": {
      "text/plain": [
       "<Figure size 100x300 with 0 Axes>"
      ]
     },
     "metadata": {},
     "output_type": "display_data"
    }
   ],
   "source": [
    "# Top 5 Companies with high number of purchase\n",
    "country_price[:5].plot(kind = 'bar')\n",
    "plt.figure(figsize=(1, 3))\n",
    "#plt.barh(most_ordered_per_invoice['Description'], most_ordered_per_invoice['Quantity'], color=colors, alpha=0.7)\n"
   ]
  },
  {
   "cell_type": "code",
   "execution_count": 66,
   "id": "68007677-2549-407d-af01-ee107a7435ad",
   "metadata": {
    "tags": []
   },
   "outputs": [
    {
     "data": {
      "text/plain": [
       "Text(0.5, 0, 'Date (Month)')"
      ]
     },
     "execution_count": 66,
     "metadata": {},
     "output_type": "execute_result"
    },
    {
     "data": {
      "image/png": "[encoded data removed]",
      "text/plain": [
       "<Figure size 640x480 with 1 Axes>"
      ]
     },
     "metadata": {},
     "output_type": "display_data"
    }
   ],
   "source": [
    "# Grouping the data by month and summing the total price for the year 2010\n",
    "df[df[\"InvoiceDate\"].dt.year == 2010].groupby(df[\"InvoiceDate\"].dt.month)[\"Revenue\"].sum().plot()\n",
    "\n",
    "# Grouping the data by month and summing the total price for the year 2011\n",
    "df[df[\"InvoiceDate\"].dt.year == 2011].groupby(df[\"InvoiceDate\"].dt.month)[\"Revenue\"].sum().plot()\n",
    "\n",
    "# Adding legend and plot labels\n",
    "plt.legend([\"2010\", \"2011\"])\n",
    "plt.title(\"Income over time\")\n",
    "plt.ylabel('Total Income (Million)')\n",
    "plt.xlabel(\"Date (Month)\")"
   ]
  },
  {
   "cell_type": "code",
   "execution_count": 67,
   "id": "68817b6f-6dd3-4764-b0cd-f88221da3a44",
   "metadata": {
    "tags": []
   },
   "outputs": [
    {
     "data": {
      "text/plain": [
       "Timestamp('2011-12-09 12:50:00')"
      ]
     },
     "execution_count": 67,
     "metadata": {},
     "output_type": "execute_result"
    }
   ],
   "source": [
    "df[\"InvoiceDate\"].max()"
   ]
  },
  {
   "cell_type": "code",
   "execution_count": 68,
   "id": "54982a46-c922-4da9-a94b-d1e8d9adc8fe",
   "metadata": {
    "tags": []
   },
   "outputs": [
    {
     "data": {
      "image/png": "[encoded data removed]",
      "text/plain": [
       "<Figure size 640x480 with 1 Axes>"
      ]
     },
     "metadata": {},
     "output_type": "display_data"
    },
    {
     "data": {
      "image/png": "[encoded data removed]",
      "text/plain": [
       "<Figure size 640x480 with 1 Axes>"
      ]
     },
     "metadata": {},
     "output_type": "display_data"
    }
   ],
   "source": [
    "# Plotting the top 10 most sold products by quantity\n",
    "df.groupby('Description')['Quantity'].sum().sort_values(ascending=False)[:10].plot(kind='barh', title='Number of Quantity Sold')\n",
    "plt.ylabel('Item Name')\n",
    "plt.xlim(20000, 82000)\n",
    "plt.show()\n",
    "\n",
    "# Plotting the top 10 most sold products by count\n",
    "df['Description'].value_counts(ascending=False)[:10].plot(kind='barh', title='Number of Sales')\n",
    "plt.ylabel('ItemName')\n",
    "plt.xlim(1000, 2300)\n",
    "plt.show()"
   ]
  },
  {
   "cell_type": "code",
   "execution_count": 69,
   "id": "3dcb15de-a32c-4108-bce8-7c7b0f635179",
   "metadata": {
    "tags": []
   },
   "outputs": [
    {
     "data": {
      "text/plain": [
       "<Axes: xlabel='Year'>"
      ]
     },
     "execution_count": 69,
     "metadata": {},
     "output_type": "execute_result"
    },
    {
     "data": {
      "image/png": "[encoded data removed]",
      "text/plain": [
       "<Figure size 640x480 with 1 Axes>"
      ]
     },
     "metadata": {},
     "output_type": "display_data"
    }
   ],
   "source": [
    "# Total sales for different years\n",
    "\n",
    "df.groupby('Year')['Revenue'].sum().plot(kind = 'bar')"
   ]
  },
  {
   "cell_type": "code",
   "execution_count": 71,
   "id": "5ca0d855-dcf8-43ac-ab3e-672aba6a0f67",
   "metadata": {
    "tags": []
   },
   "outputs": [
    {
     "data": {
      "text/plain": [
       "<Axes: title={'center': 'Sales month wise'}, xlabel='Mon,Year'>"
      ]
     },
     "execution_count": 71,
     "metadata": {},
     "output_type": "execute_result"
    },
    {
     "data": {
      "image/png": "[encoded data removed]",
      "text/plain": [
       "<Figure size 640x480 with 1 Axes>"
      ]
     },
     "metadata": {},
     "output_type": "display_data"
    }
   ],
   "source": [
    "# Sales for different months\n",
    "\n",
    "df['Mon'] = df['InvoiceDate'].dt.month\n",
    "df['month'] = df['InvoiceDate'].dt.month_name() \n",
    "df.groupby(['Mon','Year'])['Revenue'].sum().plot(kind = 'bar', title = 'Sales month wise')"
   ]
  },
  {
   "cell_type": "markdown",
   "id": "79e182ce-009c-4eef-8d94-3f0f2147aa31",
   "metadata": {},
   "source": [
    "# Answer :\n",
    "### Performance Analysis\n",
    "\n",
    "Sales Performance can be seen with \n",
    "1. Number of sales every month\n",
    "2. Number of sales every year\n",
    "\n",
    "1. We see that in 2010 we have sales only for dec and in 2011 we have sales for all months\n",
    "2. We can see that from September to Novembor we have very good sales\n",
    "3. We could see that DEC 2010 we have sales of 748957 and in DEC 2011 we have sales of 433668 which is a huge drop when analyzed further found out that We have only data upto 9th on dec 2011, so we find a sales drop in the month of dec 2011"
   ]
  },
  {
   "cell_type": "code",
   "execution_count": 72,
   "id": "ef6affae-4d3c-4837-9b45-88e58b9334f1",
   "metadata": {
    "tags": []
   },
   "outputs": [
    {
     "data": {
      "text/html": [
       "<div>\n",
       "<style scoped>\n",
       "    .dataframe tbody tr th:only-of-type {\n",
       "        vertical-align: middle;\n",
       "    }\n",
       "\n",
       "    .dataframe tbody tr th {\n",
       "        vertical-align: top;\n",
       "    }\n",
       "\n",
       "    .dataframe thead th {\n",
       "        text-align: right;\n",
       "    }\n",
       "</style>\n",
       "<table border=\"1\" class=\"dataframe\">\n",
       "  <thead>\n",
       "    <tr style=\"text-align: right;\">\n",
       "      <th></th>\n",
       "      <th>InvoiceNo</th>\n",
       "      <th>StockCode</th>\n",
       "      <th>Description</th>\n",
       "      <th>Quantity</th>\n",
       "      <th>InvoiceDate</th>\n",
       "      <th>UnitPrice</th>\n",
       "      <th>CustomerID</th>\n",
       "      <th>Country</th>\n",
       "      <th>Customer ID</th>\n",
       "      <th>order_canceled</th>\n",
       "      <th>Revenue</th>\n",
       "      <th>Year</th>\n",
       "      <th>Month</th>\n",
       "      <th>Day</th>\n",
       "      <th>DayOfWeek</th>\n",
       "      <th>YearMonth</th>\n",
       "      <th>Mon</th>\n",
       "      <th>month</th>\n",
       "    </tr>\n",
       "  </thead>\n",
       "  <tbody>\n",
       "    <tr>\n",
       "      <th>0</th>\n",
       "      <td>536365</td>\n",
       "      <td>85123A</td>\n",
       "      <td>WHITE HANGING HEART T-LIGHT HOLDER</td>\n",
       "      <td>6</td>\n",
       "      <td>2010-12-01 08:26:00</td>\n",
       "      <td>2.55</td>\n",
       "      <td>17850.0</td>\n",
       "      <td>United Kingdom</td>\n",
       "      <td>17850.0</td>\n",
       "      <td>0</td>\n",
       "      <td>15.30</td>\n",
       "      <td>2010</td>\n",
       "      <td>12</td>\n",
       "      <td>1</td>\n",
       "      <td>Wednesday</td>\n",
       "      <td>2010-12</td>\n",
       "      <td>12</td>\n",
       "      <td>December</td>\n",
       "    </tr>\n",
       "    <tr>\n",
       "      <th>1</th>\n",
       "      <td>536365</td>\n",
       "      <td>71053</td>\n",
       "      <td>WHITE METAL LANTERN</td>\n",
       "      <td>6</td>\n",
       "      <td>2010-12-01 08:26:00</td>\n",
       "      <td>3.39</td>\n",
       "      <td>17850.0</td>\n",
       "      <td>United Kingdom</td>\n",
       "      <td>17850.0</td>\n",
       "      <td>0</td>\n",
       "      <td>20.34</td>\n",
       "      <td>2010</td>\n",
       "      <td>12</td>\n",
       "      <td>1</td>\n",
       "      <td>Wednesday</td>\n",
       "      <td>2010-12</td>\n",
       "      <td>12</td>\n",
       "      <td>December</td>\n",
       "    </tr>\n",
       "    <tr>\n",
       "      <th>2</th>\n",
       "      <td>536365</td>\n",
       "      <td>84406B</td>\n",
       "      <td>CREAM CUPID HEARTS COAT HANGER</td>\n",
       "      <td>8</td>\n",
       "      <td>2010-12-01 08:26:00</td>\n",
       "      <td>2.75</td>\n",
       "      <td>17850.0</td>\n",
       "      <td>United Kingdom</td>\n",
       "      <td>17850.0</td>\n",
       "      <td>0</td>\n",
       "      <td>22.00</td>\n",
       "      <td>2010</td>\n",
       "      <td>12</td>\n",
       "      <td>1</td>\n",
       "      <td>Wednesday</td>\n",
       "      <td>2010-12</td>\n",
       "      <td>12</td>\n",
       "      <td>December</td>\n",
       "    </tr>\n",
       "    <tr>\n",
       "      <th>3</th>\n",
       "      <td>536365</td>\n",
       "      <td>84029G</td>\n",
       "      <td>KNITTED UNION FLAG HOT WATER BOTTLE</td>\n",
       "      <td>6</td>\n",
       "      <td>2010-12-01 08:26:00</td>\n",
       "      <td>3.39</td>\n",
       "      <td>17850.0</td>\n",
       "      <td>United Kingdom</td>\n",
       "      <td>17850.0</td>\n",
       "      <td>0</td>\n",
       "      <td>20.34</td>\n",
       "      <td>2010</td>\n",
       "      <td>12</td>\n",
       "      <td>1</td>\n",
       "      <td>Wednesday</td>\n",
       "      <td>2010-12</td>\n",
       "      <td>12</td>\n",
       "      <td>December</td>\n",
       "    </tr>\n",
       "    <tr>\n",
       "      <th>4</th>\n",
       "      <td>536365</td>\n",
       "      <td>84029E</td>\n",
       "      <td>RED WOOLLY HOTTIE WHITE HEART.</td>\n",
       "      <td>6</td>\n",
       "      <td>2010-12-01 08:26:00</td>\n",
       "      <td>3.39</td>\n",
       "      <td>17850.0</td>\n",
       "      <td>United Kingdom</td>\n",
       "      <td>17850.0</td>\n",
       "      <td>0</td>\n",
       "      <td>20.34</td>\n",
       "      <td>2010</td>\n",
       "      <td>12</td>\n",
       "      <td>1</td>\n",
       "      <td>Wednesday</td>\n",
       "      <td>2010-12</td>\n",
       "      <td>12</td>\n",
       "      <td>December</td>\n",
       "    </tr>\n",
       "  </tbody>\n",
       "</table>\n",
       "</div>"
      ],
      "text/plain": [
       "  InvoiceNo StockCode                          Description  Quantity  \\\n",
       "0    536365    85123A   WHITE HANGING HEART T-LIGHT HOLDER         6   \n",
       "1    536365     71053                  WHITE METAL LANTERN         6   \n",
       "2    536365    84406B       CREAM CUPID HEARTS COAT HANGER         8   \n",
       "3    536365    84029G  KNITTED UNION FLAG HOT WATER BOTTLE         6   \n",
       "4    536365    84029E       RED WOOLLY HOTTIE WHITE HEART.         6   \n",
       "\n",
       "          InvoiceDate  UnitPrice  CustomerID         Country Customer ID  \\\n",
       "0 2010-12-01 08:26:00       2.55     17850.0  United Kingdom     17850.0   \n",
       "1 2010-12-01 08:26:00       3.39     17850.0  United Kingdom     17850.0   \n",
       "2 2010-12-01 08:26:00       2.75     17850.0  United Kingdom     17850.0   \n",
       "3 2010-12-01 08:26:00       3.39     17850.0  United Kingdom     17850.0   \n",
       "4 2010-12-01 08:26:00       3.39     17850.0  United Kingdom     17850.0   \n",
       "\n",
       "   order_canceled  Revenue  Year  Month  Day  DayOfWeek YearMonth  Mon  \\\n",
       "0               0    15.30  2010     12    1  Wednesday   2010-12   12   \n",
       "1               0    20.34  2010     12    1  Wednesday   2010-12   12   \n",
       "2               0    22.00  2010     12    1  Wednesday   2010-12   12   \n",
       "3               0    20.34  2010     12    1  Wednesday   2010-12   12   \n",
       "4               0    20.34  2010     12    1  Wednesday   2010-12   12   \n",
       "\n",
       "      month  \n",
       "0  December  \n",
       "1  December  \n",
       "2  December  \n",
       "3  December  \n",
       "4  December  "
      ]
     },
     "execution_count": 72,
     "metadata": {},
     "output_type": "execute_result"
    }
   ],
   "source": [
    "df.head()"
   ]
  },
  {
   "cell_type": "code",
   "execution_count": 73,
   "id": "101ca9eb-293c-4298-ad89-80dedcea2c46",
   "metadata": {
    "tags": []
   },
   "outputs": [
    {
     "data": {
      "text/plain": [
       "<Axes: title={'center': 'Most Customers for country'}, xlabel='Country'>"
      ]
     },
     "execution_count": 73,
     "metadata": {},
     "output_type": "execute_result"
    },
    {
     "data": {
      "image/png": "[encoded data removed]",
      "text/plain": [
       "<Figure size 640x480 with 1 Axes>"
      ]
     },
     "metadata": {},
     "output_type": "display_data"
    }
   ],
   "source": [
    "#Countries with more number of customers\n",
    "cus_id = pd.DataFrame(df.groupby('Country')['Customer ID'].count().sort_values(ascending = False))\n",
    "cus_id[:5].plot(kind = 'bar', title = 'Most Customers for country')"
   ]
  },
  {
   "cell_type": "code",
   "execution_count": 74,
   "id": "7ac89d85-9d3b-48af-98b8-2f7490f16d7d",
   "metadata": {
    "tags": []
   },
   "outputs": [
    {
     "data": {
      "text/plain": [
       "<Axes: title={'center': 'Least customers for country'}, xlabel='Country'>"
      ]
     },
     "execution_count": 74,
     "metadata": {},
     "output_type": "execute_result"
    },
    {
     "data": {
      "image/png": "[encoded data removed]",
      "text/plain": [
       "<Figure size 640x480 with 1 Axes>"
      ]
     },
     "metadata": {},
     "output_type": "display_data"
    }
   ],
   "source": [
    "# Countries with less number of customers\n",
    "cus_id[-5:].plot(kind = 'bar', title = 'Least customers for country')"
   ]
  },
  {
   "cell_type": "markdown",
   "id": "aa6e671e-c2a3-4b4a-aa4c-3d7f09185e0b",
   "metadata": {
    "tags": []
   },
   "source": [
    "### Answer-\n",
    "\n",
    "1. We see that september to december we have very high sales\n",
    "2. We can concentrate on improving the sales for the other 8 months\n",
    "3. We find very less number of customers in Lithania, Brazil, Czech Republic, Bahrain, Saudi Arabia\n",
    "4. We have very less sales for Lebanon, Brazil, RSA, Bahrain, Saudi Arabia. We can concentrate on improving their sales\n",
    "\n",
    "We could improve the business by increasing the customers and sales point of view "
   ]
  },
  {
   "cell_type": "markdown",
   "id": "051e5678-d573-41f6-983d-ced446d37094",
   "metadata": {},
   "source": [
    "**Question:**\n",
    "Revenue by Country: What is the total revenue generated for each country?"
   ]
  },
  {
   "cell_type": "code",
   "execution_count": 75,
   "id": "36af4b79-b5e9-463e-adb9-2b7307df9fc3",
   "metadata": {
    "tags": []
   },
   "outputs": [
    {
     "name": "stdout",
     "output_type": "stream",
     "text": [
      "Top 3 Countries by Revenue:\n",
      "           Country      Revenue\n",
      "36  United Kingdom  8979619.974\n",
      "24     Netherlands   285446.340\n",
      "10            EIRE   283140.520\n"
     ]
    }
   ],
   "source": [
    "# Calculate the total revenue generated for each country\n",
    "country_total_revenue = df.groupby('Country')['Revenue'].sum().reset_index()\n",
    "\n",
    "# Sort the countries by total revenue in descending order\n",
    "top_3_countries_by_revenue = country_total_revenue.sort_values(by='Revenue', ascending=False).head(3)\n",
    "\n",
    "# Print the top 3 countries by revenue\n",
    "print(\"Top 3 Countries by Revenue:\")\n",
    "print(top_3_countries_by_revenue)"
   ]
  },
  {
   "cell_type": "markdown",
   "id": "fd82585f-e3cb-4f6c-b28f-79d550c1bac2",
   "metadata": {},
   "source": [
    "**Question:**\n",
    "Time Period Analysis: What is the overall revenue trend over time? (You can plot the revenue by month or year to visualize trends.)"
   ]
  },
  {
   "cell_type": "code",
   "execution_count": 80,
   "id": "e1d7cb28-5aed-48b8-9c80-7dbcfcc3943f",
   "metadata": {
    "tags": []
   },
   "outputs": [
    {
     "data": {
      "image/png": "[encoded data removed]",
      "text/plain": [
       "<Figure size 400x400 with 1 Axes>"
      ]
     },
     "metadata": {},
     "output_type": "display_data"
    },
    {
     "name": "stdout",
     "output_type": "stream",
     "text": [
      "Year  Month\n",
      "2010  12        821452.730\n",
      "2011  1         689811.610\n",
      "      2         522545.560\n",
      "      3         716215.260\n",
      "      4         536968.491\n",
      "      5         769296.610\n",
      "      6         760547.010\n",
      "      7         718076.121\n",
      "      8         735717.260\n",
      "      9        1056435.192\n",
      "      10       1151263.730\n",
      "      11       1503866.780\n",
      "      12        637790.330\n",
      "Name: Revenue, dtype: float64\n"
     ]
    }
   ],
   "source": [
    "# Group by 'Year' and 'Month' and calculate the total revenue generated for each month\n",
    "revenue_by_month = df.groupby(['Year', 'Month'])['Revenue'].sum()\n",
    "\n",
    "# Create a simple line plot to visualize the revenue trend over time\n",
    "plt.figure(figsize=(4, 4))\n",
    "revenue_by_month.plot(marker='o', linestyle='-', linewidth=2)\n",
    "plt.title('Overall Revenue Trend Over Time (by Month)')\n",
    "plt.xlabel('Month')\n",
    "plt.ylabel('Total Revenue')\n",
    "plt.grid(True, linestyle='--', alpha=0.5)\n",
    "plt.xticks(rotation=45)\n",
    "plt.tight_layout()\n",
    "plt.savefig('revenue_trend.png')\n",
    "\n",
    "# Show the plot\n",
    "plt.show()\n",
    "print(revenue_by_month)"
   ]
  },
  {
   "cell_type": "markdown",
   "id": "fc72dab3-360d-4a3f-a060-c3c0c1e650c5",
   "metadata": {},
   "source": [
    "**Question:**\n",
    "Seasonal Trends: Are there any seasonal patterns in sales or revenue? (Analyze sales or revenue data over different months or seasons to identify trends.)"
   ]
  },
  {
   "cell_type": "code",
   "execution_count": 81,
   "id": "aad0b511-4408-4d80-839f-4e2433678d31",
   "metadata": {
    "tags": []
   },
   "outputs": [
    {
     "data": {
      "image/png": "[encoded data removed]",
      "text/plain": [
       "<Figure size 800x400 with 1 Axes>"
      ]
     },
     "metadata": {},
     "output_type": "display_data"
    },
    {
     "name": "stdout",
     "output_type": "stream",
     "text": [
      "Month\n",
      "1      689811.610\n",
      "2      522545.560\n",
      "3      716215.260\n",
      "4      536968.491\n",
      "5      769296.610\n",
      "6      760547.010\n",
      "7      718076.121\n",
      "8      735717.260\n",
      "9     1056435.192\n",
      "10    1151263.730\n",
      "11    1503866.780\n",
      "12    1459243.060\n",
      "Name: Revenue, dtype: float64\n"
     ]
    }
   ],
   "source": [
    "# Group by 'Month' and calculate the total revenue generated for each month\n",
    "monthly_revenue = df.groupby('Month')['Revenue'].sum()\n",
    "\n",
    "# Define month names for labeling the x-axis\n",
    "month_names = ['Jan', 'Feb', 'Mar', 'Apr', 'May', 'Jun', 'Jul', 'Aug', 'Sep', 'Oct', 'Nov', 'Dec']\n",
    "\n",
    "# Create a line plot to visualize the monthly revenue trend\n",
    "plt.figure(figsize=(8, 4))\n",
    "plt.plot(month_names, monthly_revenue, marker='o', linestyle='-', linewidth=2, color='skyblue')\n",
    "plt.title('Monthly Revenue Trend')\n",
    "plt.xlabel('Month')\n",
    "plt.ylabel('Total Revenue')\n",
    "plt.grid(True, linestyle='--', alpha=0.5)\n",
    "plt.tight_layout()\n",
    "\n",
    "# Show the plot\n",
    "plt.show()\n",
    "print(monthly_revenue)"
   ]
  },
  {
   "cell_type": "markdown",
   "id": "2fb6e55c-b636-435e-b86e-cef059350cb9",
   "metadata": {},
   "source": [
    "**Question:**\n",
    "Peak Sales Hours: What are the peak hours of the day when most orders are placed? (Analyze invoice times to find the busiest hours.)"
   ]
  },
  {
   "cell_type": "code",
   "execution_count": 82,
   "id": "2ea806f9-2c0e-420e-a817-61906e68f12c",
   "metadata": {
    "tags": []
   },
   "outputs": [
    {
     "name": "stdout",
     "output_type": "stream",
     "text": [
      "Peak Hour(s) for Order Placement:\n",
      "Hour\n",
      "12    76237\n",
      "Name: count, dtype: int64\n"
     ]
    }
   ],
   "source": [
    "# Create an 'Hour' column from 'InvoiceDate'\n",
    "df['Hour'] = df['InvoiceDate'].dt.hour\n",
    "\n",
    "# Count the number of orders for each hour\n",
    "hourly_order_counts = df['Hour'].value_counts()\n",
    "\n",
    "# Find the peak hour(s) when most orders are placed\n",
    "peak_hours = hourly_order_counts[hourly_order_counts == hourly_order_counts.max()]\n",
    "\n",
    "# Print the peak hour(s) and the corresponding number of orders\n",
    "print(\"Peak Hour(s) for Order Placement:\")\n",
    "print(peak_hours)"
   ]
  },
  {
   "cell_type": "code",
   "execution_count": 84,
   "id": "bfa9389b-5d65-4aa5-af59-d08f4194301a",
   "metadata": {
    "tags": []
   },
   "outputs": [
    {
     "data": {
      "image/png": "[encoded data removed]",
      "text/plain": [
       "<Figure size 600x300 with 1 Axes>"
      ]
     },
     "metadata": {},
     "output_type": "display_data"
    },
    {
     "name": "stdout",
     "output_type": "stream",
     "text": [
      "Hour\n",
      "12    76237\n",
      "15    76045\n",
      "13    70188\n",
      "14    65564\n",
      "11    55761\n",
      "16    53220\n",
      "10    47803\n",
      "9     33790\n",
      "17    27661\n",
      "8      8804\n",
      "18     7731\n",
      "19     3428\n",
      "20      778\n",
      "7       379\n",
      "6         1\n",
      "Name: count, dtype: int64\n"
     ]
    }
   ],
   "source": [
    "# Create a bar plot to visualize the peak hours\n",
    "plt.figure(figsize=(6, 3))\n",
    "plt.bar(hourly_order_counts.index, hourly_order_counts.values, color='skyblue')\n",
    "plt.title('Order Placement by Hour of the Day')\n",
    "plt.xlabel('Hour of the Day')\n",
    "plt.ylabel('Number of Orders')\n",
    "plt.grid(axis='y', linestyle='--', alpha=0.5)\n",
    "plt.xticks(hourly_order_counts.index)\n",
    "plt.tight_layout()\n",
    "plt.savefig('revenue_trend.png')\n",
    "\n",
    "# Show the plot\n",
    "plt.show()\n",
    "print(hourly_order_counts)"
   ]
  },
  {
   "cell_type": "markdown",
   "id": "920ddcdc-ad49-4382-adc4-df5ab35bffb5",
   "metadata": {},
   "source": [
    "**Question:** \n",
    "Weekday vs. Weekend Sales: Are there differences in sales or revenue between weekdays and weekends?"
   ]
  },
  {
   "cell_type": "code",
   "execution_count": 86,
   "id": "4cd94bdc-2917-4b8b-ad40-05f38ebb608f",
   "metadata": {
    "tags": []
   },
   "outputs": [
    {
     "data": {
      "image/png": "[encoded data removed]",
      "text/plain": [
       "<Figure size 600x400 with 1 Axes>"
      ]
     },
     "metadata": {},
     "output_type": "display_data"
    },
    {
     "name": "stdout",
     "output_type": "stream",
     "text": [
      "DayCategory\n",
      "Weekday    9813195.903\n",
      "Weekend     806790.781\n",
      "Name: Revenue, dtype: float64\n"
     ]
    }
   ],
   "source": [
    "# Create a new column 'DayOfWeekName' to represent the day of the week as a name (e.g., 'Monday', 'Tuesday', etc.)\n",
    "df['DayOfWeekName'] = df['InvoiceDate'].dt.strftime('%A')\n",
    "\n",
    "# Define a function to categorize days into 'Weekday' or 'Weekend'\n",
    "def categorize_day(day_name):\n",
    "    if day_name in ['Saturday', 'Sunday']:\n",
    "        return 'Weekend'\n",
    "    else:\n",
    "        return 'Weekday'\n",
    "\n",
    "# Apply the categorization function to create a new column 'DayCategory'\n",
    "df['DayCategory'] = df['DayOfWeekName'].apply(categorize_day)\n",
    "\n",
    "# Group by 'DayCategory' and calculate the total revenue for each category\n",
    "revenue_by_day_category = df.groupby('DayCategory')['Revenue'].sum()\n",
    "\n",
    "# Create a bar plot to visualize the differences in sales or revenue between weekdays and weekends\n",
    "plt.figure(figsize=(6, 4))\n",
    "revenue_by_day_category.plot(kind='bar', color='skyblue')\n",
    "plt.title('Sales or Revenue Comparison: Weekdays vs. Weekends')\n",
    "plt.xlabel('Day Category')\n",
    "plt.ylabel('Total Sales or Revenue')\n",
    "plt.grid(axis='y', linestyle='--', alpha=0.5)\n",
    "plt.xticks(rotation=0)\n",
    "plt.tight_layout()\n",
    "plt.savefig('revenue_trend.png')\n",
    "\n",
    "# Show the plot\n",
    "plt.show()\n",
    "\n",
    "print(revenue_by_day_category)"
   ]
  },
  {
   "cell_type": "markdown",
   "id": "79bf5865-f412-4a3a-b678-8e63fab576df",
   "metadata": {},
   "source": [
    "**Question:** \n",
    "Holiday and Event Impact: How do holidays or special events impact sales and revenue? (Analyze data around specific holiday periods.)"
   ]
  },
  {
   "cell_type": "code",
   "execution_count": 89,
   "id": "25ad99d8-3e15-44dd-b637-53477170bbb4",
   "metadata": {
    "tags": []
   },
   "outputs": [
    {
     "name": "stdout",
     "output_type": "stream",
     "text": [
      "     Holiday  Total Sales  Total Revenue\n",
      "0  Christmas       357048      821452.73\n",
      "1   New Year            0           0.00\n"
     ]
    }
   ],
   "source": [
    "# Define the holiday or event periods you want to analyze\n",
    "holiday_periods = [\n",
    "    {'name': 'Christmas', 'start_date': '2010-12-01', 'end_date': '2010-12-31'},\n",
    "    {'name': 'New Year', 'start_date': '2010-12-31', 'end_date': '2011-01-01'},\n",
    "    # Add more holiday periods or events as needed\n",
    "]\n",
    "\n",
    "# Create an empty list to store DataFrames\n",
    "holiday_analysis_list = []\n",
    "\n",
    "# Calculate sales and revenue metrics for each holiday or event\n",
    "for period in holiday_periods:\n",
    "    start_date = pd.to_datetime(period['start_date'])\n",
    "    end_date = pd.to_datetime(period['end_date'])\n",
    "    \n",
    "    # Filter data for the specific holiday or event period\n",
    "    holiday_data = df[(df['InvoiceDate'] >= start_date) & (df['InvoiceDate'] <= end_date)]\n",
    "    \n",
    "    # Calculate total sales and revenue for the holiday period\n",
    "    total_sales = holiday_data['Quantity'].sum()\n",
    "    total_revenue = (holiday_data['Quantity'] * holiday_data['UnitPrice']).sum()\n",
    "    \n",
    "    # Create a DataFrame for the holiday period\n",
    "    holiday_df = pd.DataFrame({'Holiday': [period['name']], 'Total Sales': [total_sales], 'Total Revenue': [total_revenue]})\n",
    "    \n",
    "    # Append the DataFrame to the list\n",
    "    holiday_analysis_list.append(holiday_df)\n",
    "\n",
    "# Concatenate all DataFrames in the list into one DataFrame\n",
    "holiday_analysis = pd.concat(holiday_analysis_list, ignore_index=True)\n",
    "\n",
    "# Display the results\n",
    "print(holiday_analysis)\n"
   ]
  },
  {
   "cell_type": "markdown",
   "id": "ede149af-1072-44b7-9950-fb70388097e8",
   "metadata": {},
   "source": [
    "<h2> RFM Analysis</h2>"
   ]
  },
  {
   "cell_type": "markdown",
   "id": "116cf34d-9a37-4c7d-9e62-0b6f4d59d745",
   "metadata": {},
   "source": [
    "RFM analysis is a marketing technique used to quantitatively rank and group customers based on the recency, frequency and monetary total of their recent transactions to identify the best customers and perform targeted marketing campaigns.\n",
    "\n",
    "- **Recency, Frequency, Monetary Value (RFM):** A marketing analysis tool used to identify a firm's best clients based on the nature of their spending habits.\n",
    "- **RFM Analysis:** Evaluates clients and customers by scoring them in three categories:\n",
    "  - *Recency:* How recently they've made a purchase.\n",
    "  - *Frequency:* How often they buy.\n",
    "  - *Monetary Value:* The size of their purchases.\n",
    "- **RFM analysis helps firms in the following ways:**\n",
    "  - Reasonably predict which customers are likely to purchase their products again.\n",
    "  - Determine how much revenue comes from new (versus repeat) clients.\n",
    "  - Develop strategies to turn occasional buyers into habitual ones.\n"
   ]
  },
  {
   "cell_type": "markdown",
   "id": "7cc5f53e-4f91-4efb-8e7a-1c3ad184eb42",
   "metadata": {},
   "source": [
    "![Sample Image](RFM.png)\n"
   ]
  },
  {
   "cell_type": "code",
   "execution_count": 91,
   "id": "ac8a39b9-76eb-4d60-b720-406cb2387862",
   "metadata": {
    "tags": []
   },
   "outputs": [
    {
     "data": {
      "text/plain": [
       "<DatetimeArray>\n",
       "['2010-12-01 08:26:00', '2010-12-01 08:28:00', '2010-12-01 08:34:00',\n",
       " '2010-12-01 08:35:00', '2010-12-01 08:45:00', '2010-12-01 09:00:00',\n",
       " '2010-12-01 09:01:00', '2010-12-01 09:02:00', '2010-12-01 09:09:00',\n",
       " '2010-12-01 09:32:00',\n",
       " ...\n",
       " '2011-12-09 12:09:00', '2011-12-09 12:16:00', '2011-12-09 12:19:00',\n",
       " '2011-12-09 12:20:00', '2011-12-09 12:21:00', '2011-12-09 12:23:00',\n",
       " '2011-12-09 12:25:00', '2011-12-09 12:31:00', '2011-12-09 12:49:00',\n",
       " '2011-12-09 12:50:00']\n",
       "Length: 19990, dtype: datetime64[ns]"
      ]
     },
     "execution_count": 91,
     "metadata": {},
     "output_type": "execute_result"
    }
   ],
   "source": [
    "df.InvoiceDate.unique()"
   ]
  },
  {
   "cell_type": "code",
   "execution_count": 92,
   "id": "e1ec5257-03be-47f8-b9f2-1b669655a772",
   "metadata": {
    "tags": []
   },
   "outputs": [],
   "source": [
    "today = \"2012-01-01\"\n",
    "today = pd.to_datetime(today)\n",
    "df[\"InvoiceDate\"] = pd.to_datetime(df[\"InvoiceDate\"])"
   ]
  },
  {
   "cell_type": "code",
   "execution_count": 93,
   "id": "e60db229-ca59-4582-a174-d78eb2c8d352",
   "metadata": {
    "tags": []
   },
   "outputs": [],
   "source": [
    "rec_table = df.groupby([\"CustomerID\"]).agg({\"InvoiceDate\": lambda x: ((today - x.max()).days)})\n",
    "rec_table.columns =['Recency']\n",
    "\n"
   ]
  },
  {
   "cell_type": "code",
   "execution_count": 94,
   "id": "de12cd9b-f8b5-4329-9591-951a58ab5541",
   "metadata": {
    "tags": []
   },
   "outputs": [],
   "source": [
    "rec_table = df.groupby([\"CustomerID\"]).agg({\"InvoiceDate\": lambda x: ((today - x.max()).days)})\n",
    "rec_table.columns = ['Recency']  # Rename the column to 'Recency'\n",
    "rec_table.reset_index(inplace=True)  # Reset the index to include 'CustomerID'\n",
    "\n"
   ]
  },
  {
   "cell_type": "code",
   "execution_count": 95,
   "id": "d605b869-7e4a-4dea-bf59-34d3cd0d61c4",
   "metadata": {
    "tags": []
   },
   "outputs": [
    {
     "data": {
      "text/html": [
       "<div>\n",
       "<style scoped>\n",
       "    .dataframe tbody tr th:only-of-type {\n",
       "        vertical-align: middle;\n",
       "    }\n",
       "\n",
       "    .dataframe tbody tr th {\n",
       "        vertical-align: top;\n",
       "    }\n",
       "\n",
       "    .dataframe thead th {\n",
       "        text-align: right;\n",
       "    }\n",
       "</style>\n",
       "<table border=\"1\" class=\"dataframe\">\n",
       "  <thead>\n",
       "    <tr style=\"text-align: right;\">\n",
       "      <th></th>\n",
       "      <th>CustomerID</th>\n",
       "      <th>Recency</th>\n",
       "    </tr>\n",
       "  </thead>\n",
       "  <tbody>\n",
       "    <tr>\n",
       "      <th>0</th>\n",
       "      <td>12346.0</td>\n",
       "      <td>347</td>\n",
       "    </tr>\n",
       "    <tr>\n",
       "      <th>1</th>\n",
       "      <td>12347.0</td>\n",
       "      <td>24</td>\n",
       "    </tr>\n",
       "    <tr>\n",
       "      <th>2</th>\n",
       "      <td>12348.0</td>\n",
       "      <td>97</td>\n",
       "    </tr>\n",
       "    <tr>\n",
       "      <th>3</th>\n",
       "      <td>12349.0</td>\n",
       "      <td>40</td>\n",
       "    </tr>\n",
       "    <tr>\n",
       "      <th>4</th>\n",
       "      <td>12350.0</td>\n",
       "      <td>332</td>\n",
       "    </tr>\n",
       "  </tbody>\n",
       "</table>\n",
       "</div>"
      ],
      "text/plain": [
       "   CustomerID  Recency\n",
       "0     12346.0      347\n",
       "1     12347.0       24\n",
       "2     12348.0       97\n",
       "3     12349.0       40\n",
       "4     12350.0      332"
      ]
     },
     "execution_count": 95,
     "metadata": {},
     "output_type": "execute_result"
    }
   ],
   "source": [
    "rec_table.head()"
   ]
  },
  {
   "cell_type": "code",
   "execution_count": 96,
   "id": "1b819195-1375-478a-abfc-a31ecce0235d",
   "metadata": {
    "tags": []
   },
   "outputs": [
    {
     "data": {
      "text/html": [
       "<div>\n",
       "<style scoped>\n",
       "    .dataframe tbody tr th:only-of-type {\n",
       "        vertical-align: middle;\n",
       "    }\n",
       "\n",
       "    .dataframe tbody tr th {\n",
       "        vertical-align: top;\n",
       "    }\n",
       "\n",
       "    .dataframe thead th {\n",
       "        text-align: right;\n",
       "    }\n",
       "</style>\n",
       "<table border=\"1\" class=\"dataframe\">\n",
       "  <thead>\n",
       "    <tr style=\"text-align: right;\">\n",
       "      <th></th>\n",
       "      <th>CustomerID</th>\n",
       "      <th>Frequency</th>\n",
       "    </tr>\n",
       "  </thead>\n",
       "  <tbody>\n",
       "    <tr>\n",
       "      <th>0</th>\n",
       "      <td>12346.0</td>\n",
       "      <td>1</td>\n",
       "    </tr>\n",
       "    <tr>\n",
       "      <th>1</th>\n",
       "      <td>12347.0</td>\n",
       "      <td>7</td>\n",
       "    </tr>\n",
       "    <tr>\n",
       "      <th>2</th>\n",
       "      <td>12348.0</td>\n",
       "      <td>4</td>\n",
       "    </tr>\n",
       "    <tr>\n",
       "      <th>3</th>\n",
       "      <td>12349.0</td>\n",
       "      <td>1</td>\n",
       "    </tr>\n",
       "    <tr>\n",
       "      <th>4</th>\n",
       "      <td>12350.0</td>\n",
       "      <td>1</td>\n",
       "    </tr>\n",
       "  </tbody>\n",
       "</table>\n",
       "</div>"
      ],
      "text/plain": [
       "   CustomerID  Frequency\n",
       "0     12346.0          1\n",
       "1     12347.0          7\n",
       "2     12348.0          4\n",
       "3     12349.0          1\n",
       "4     12350.0          1"
      ]
     },
     "execution_count": 96,
     "metadata": {},
     "output_type": "execute_result"
    }
   ],
   "source": [
    "freq_table = df.drop_duplicates(subset = \"InvoiceNo\").groupby([\"CustomerID\"])[[\"InvoiceNo\"]].count()\n",
    "freq_table.columns = [\"Frequency\"]\n",
    "freq_table.reset_index(inplace=True)\n",
    "freq_table.head()"
   ]
  },
  {
   "cell_type": "code",
   "execution_count": 97,
   "id": "a788d0f6-3540-4d1e-a1fc-4de4f0563128",
   "metadata": {
    "tags": []
   },
   "outputs": [
    {
     "data": {
      "text/html": [
       "<div>\n",
       "<style scoped>\n",
       "    .dataframe tbody tr th:only-of-type {\n",
       "        vertical-align: middle;\n",
       "    }\n",
       "\n",
       "    .dataframe tbody tr th {\n",
       "        vertical-align: top;\n",
       "    }\n",
       "\n",
       "    .dataframe thead th {\n",
       "        text-align: right;\n",
       "    }\n",
       "</style>\n",
       "<table border=\"1\" class=\"dataframe\">\n",
       "  <thead>\n",
       "    <tr style=\"text-align: right;\">\n",
       "      <th></th>\n",
       "      <th>CustomerID</th>\n",
       "      <th>Monetary</th>\n",
       "    </tr>\n",
       "  </thead>\n",
       "  <tbody>\n",
       "    <tr>\n",
       "      <th>0</th>\n",
       "      <td>12346.0</td>\n",
       "      <td>77183.60</td>\n",
       "    </tr>\n",
       "    <tr>\n",
       "      <th>1</th>\n",
       "      <td>12347.0</td>\n",
       "      <td>4310.00</td>\n",
       "    </tr>\n",
       "    <tr>\n",
       "      <th>2</th>\n",
       "      <td>12348.0</td>\n",
       "      <td>1797.24</td>\n",
       "    </tr>\n",
       "    <tr>\n",
       "      <th>3</th>\n",
       "      <td>12349.0</td>\n",
       "      <td>1757.55</td>\n",
       "    </tr>\n",
       "    <tr>\n",
       "      <th>4</th>\n",
       "      <td>12350.0</td>\n",
       "      <td>334.40</td>\n",
       "    </tr>\n",
       "  </tbody>\n",
       "</table>\n",
       "</div>"
      ],
      "text/plain": [
       "   CustomerID  Monetary\n",
       "0     12346.0  77183.60\n",
       "1     12347.0   4310.00\n",
       "2     12348.0   1797.24\n",
       "3     12349.0   1757.55\n",
       "4     12350.0    334.40"
      ]
     },
     "execution_count": 97,
     "metadata": {},
     "output_type": "execute_result"
    }
   ],
   "source": [
    "monetary_table = df.groupby([\"CustomerID\"])[[\"Revenue\"]].sum()\n",
    "monetary_table.columns = [\"Monetary\"]\n",
    "monetary_table.reset_index(inplace=True)\n",
    "monetary_table.head()"
   ]
  },
  {
   "cell_type": "code",
   "execution_count": 98,
   "id": "a5b71563-7e8d-4a7d-abfa-3563c5a2d737",
   "metadata": {
    "tags": []
   },
   "outputs": [
    {
     "data": {
      "text/html": [
       "<div>\n",
       "<style scoped>\n",
       "    .dataframe tbody tr th:only-of-type {\n",
       "        vertical-align: middle;\n",
       "    }\n",
       "\n",
       "    .dataframe tbody tr th {\n",
       "        vertical-align: top;\n",
       "    }\n",
       "\n",
       "    .dataframe thead th {\n",
       "        text-align: right;\n",
       "    }\n",
       "</style>\n",
       "<table border=\"1\" class=\"dataframe\">\n",
       "  <thead>\n",
       "    <tr style=\"text-align: right;\">\n",
       "      <th></th>\n",
       "      <th>CustomerID</th>\n",
       "      <th>Recency</th>\n",
       "      <th>CustomerID</th>\n",
       "      <th>Frequency</th>\n",
       "      <th>CustomerID</th>\n",
       "      <th>Monetary</th>\n",
       "    </tr>\n",
       "  </thead>\n",
       "  <tbody>\n",
       "    <tr>\n",
       "      <th>0</th>\n",
       "      <td>12346.0</td>\n",
       "      <td>347</td>\n",
       "      <td>12346.0</td>\n",
       "      <td>1</td>\n",
       "      <td>12346.0</td>\n",
       "      <td>77183.60</td>\n",
       "    </tr>\n",
       "    <tr>\n",
       "      <th>1</th>\n",
       "      <td>12347.0</td>\n",
       "      <td>24</td>\n",
       "      <td>12347.0</td>\n",
       "      <td>7</td>\n",
       "      <td>12347.0</td>\n",
       "      <td>4310.00</td>\n",
       "    </tr>\n",
       "    <tr>\n",
       "      <th>2</th>\n",
       "      <td>12348.0</td>\n",
       "      <td>97</td>\n",
       "      <td>12348.0</td>\n",
       "      <td>4</td>\n",
       "      <td>12348.0</td>\n",
       "      <td>1797.24</td>\n",
       "    </tr>\n",
       "    <tr>\n",
       "      <th>3</th>\n",
       "      <td>12349.0</td>\n",
       "      <td>40</td>\n",
       "      <td>12349.0</td>\n",
       "      <td>1</td>\n",
       "      <td>12349.0</td>\n",
       "      <td>1757.55</td>\n",
       "    </tr>\n",
       "    <tr>\n",
       "      <th>4</th>\n",
       "      <td>12350.0</td>\n",
       "      <td>332</td>\n",
       "      <td>12350.0</td>\n",
       "      <td>1</td>\n",
       "      <td>12350.0</td>\n",
       "      <td>334.40</td>\n",
       "    </tr>\n",
       "  </tbody>\n",
       "</table>\n",
       "</div>"
      ],
      "text/plain": [
       "   CustomerID  Recency  CustomerID  Frequency  CustomerID  Monetary\n",
       "0     12346.0      347     12346.0          1     12346.0  77183.60\n",
       "1     12347.0       24     12347.0          7     12347.0   4310.00\n",
       "2     12348.0       97     12348.0          4     12348.0   1797.24\n",
       "3     12349.0       40     12349.0          1     12349.0   1757.55\n",
       "4     12350.0      332     12350.0          1     12350.0    334.40"
      ]
     },
     "execution_count": 98,
     "metadata": {},
     "output_type": "execute_result"
    }
   ],
   "source": [
    "rfm_data = pd.concat([rec_table, freq_table, monetary_table], axis = 1)\n",
    "rfm_data.head()"
   ]
  },
  {
   "cell_type": "code",
   "execution_count": 99,
   "id": "e71b3d90-0f93-430e-bb8f-57957d611df1",
   "metadata": {
    "tags": []
   },
   "outputs": [],
   "source": [
    "rfm_data = pd.merge(rec_table, freq_table, on='CustomerID', how='inner')\n",
    "rfm_data = pd.merge(rfm_data, monetary_table, on='CustomerID', how='inner')\n"
   ]
  },
  {
   "cell_type": "code",
   "execution_count": 100,
   "id": "8b1771d4-0349-462d-98b0-a078e1820bb6",
   "metadata": {
    "tags": []
   },
   "outputs": [
    {
     "data": {
      "text/html": [
       "<div>\n",
       "<style scoped>\n",
       "    .dataframe tbody tr th:only-of-type {\n",
       "        vertical-align: middle;\n",
       "    }\n",
       "\n",
       "    .dataframe tbody tr th {\n",
       "        vertical-align: top;\n",
       "    }\n",
       "\n",
       "    .dataframe thead th {\n",
       "        text-align: right;\n",
       "    }\n",
       "</style>\n",
       "<table border=\"1\" class=\"dataframe\">\n",
       "  <thead>\n",
       "    <tr style=\"text-align: right;\">\n",
       "      <th></th>\n",
       "      <th>CustomerID</th>\n",
       "      <th>Recency</th>\n",
       "      <th>Frequency</th>\n",
       "      <th>Monetary</th>\n",
       "    </tr>\n",
       "  </thead>\n",
       "  <tbody>\n",
       "    <tr>\n",
       "      <th>0</th>\n",
       "      <td>12346.0</td>\n",
       "      <td>347</td>\n",
       "      <td>1</td>\n",
       "      <td>77183.60</td>\n",
       "    </tr>\n",
       "    <tr>\n",
       "      <th>1</th>\n",
       "      <td>12347.0</td>\n",
       "      <td>24</td>\n",
       "      <td>7</td>\n",
       "      <td>4310.00</td>\n",
       "    </tr>\n",
       "    <tr>\n",
       "      <th>2</th>\n",
       "      <td>12348.0</td>\n",
       "      <td>97</td>\n",
       "      <td>4</td>\n",
       "      <td>1797.24</td>\n",
       "    </tr>\n",
       "    <tr>\n",
       "      <th>3</th>\n",
       "      <td>12349.0</td>\n",
       "      <td>40</td>\n",
       "      <td>1</td>\n",
       "      <td>1757.55</td>\n",
       "    </tr>\n",
       "    <tr>\n",
       "      <th>4</th>\n",
       "      <td>12350.0</td>\n",
       "      <td>332</td>\n",
       "      <td>1</td>\n",
       "      <td>334.40</td>\n",
       "    </tr>\n",
       "    <tr>\n",
       "      <th>...</th>\n",
       "      <td>...</td>\n",
       "      <td>...</td>\n",
       "      <td>...</td>\n",
       "      <td>...</td>\n",
       "    </tr>\n",
       "    <tr>\n",
       "      <th>4334</th>\n",
       "      <td>18280.0</td>\n",
       "      <td>299</td>\n",
       "      <td>1</td>\n",
       "      <td>180.60</td>\n",
       "    </tr>\n",
       "    <tr>\n",
       "      <th>4335</th>\n",
       "      <td>18281.0</td>\n",
       "      <td>202</td>\n",
       "      <td>1</td>\n",
       "      <td>80.82</td>\n",
       "    </tr>\n",
       "    <tr>\n",
       "      <th>4336</th>\n",
       "      <td>18282.0</td>\n",
       "      <td>29</td>\n",
       "      <td>2</td>\n",
       "      <td>178.05</td>\n",
       "    </tr>\n",
       "    <tr>\n",
       "      <th>4337</th>\n",
       "      <td>18283.0</td>\n",
       "      <td>25</td>\n",
       "      <td>16</td>\n",
       "      <td>2045.53</td>\n",
       "    </tr>\n",
       "    <tr>\n",
       "      <th>4338</th>\n",
       "      <td>18287.0</td>\n",
       "      <td>64</td>\n",
       "      <td>3</td>\n",
       "      <td>1837.28</td>\n",
       "    </tr>\n",
       "  </tbody>\n",
       "</table>\n",
       "<p>4339 rows × 4 columns</p>\n",
       "</div>"
      ],
      "text/plain": [
       "      CustomerID  Recency  Frequency  Monetary\n",
       "0        12346.0      347          1  77183.60\n",
       "1        12347.0       24          7   4310.00\n",
       "2        12348.0       97          4   1797.24\n",
       "3        12349.0       40          1   1757.55\n",
       "4        12350.0      332          1    334.40\n",
       "...          ...      ...        ...       ...\n",
       "4334     18280.0      299          1    180.60\n",
       "4335     18281.0      202          1     80.82\n",
       "4336     18282.0       29          2    178.05\n",
       "4337     18283.0       25         16   2045.53\n",
       "4338     18287.0       64          3   1837.28\n",
       "\n",
       "[4339 rows x 4 columns]"
      ]
     },
     "execution_count": 100,
     "metadata": {},
     "output_type": "execute_result"
    }
   ],
   "source": [
    "rfm_data"
   ]
  },
  {
   "cell_type": "code",
   "execution_count": 101,
   "id": "0cddaacc-6d34-41ee-ba72-fb9e29d1bc7c",
   "metadata": {
    "tags": []
   },
   "outputs": [
    {
     "data": {
      "text/html": [
       "<div>\n",
       "<style scoped>\n",
       "    .dataframe tbody tr th:only-of-type {\n",
       "        vertical-align: middle;\n",
       "    }\n",
       "\n",
       "    .dataframe tbody tr th {\n",
       "        vertical-align: top;\n",
       "    }\n",
       "\n",
       "    .dataframe thead th {\n",
       "        text-align: right;\n",
       "    }\n",
       "</style>\n",
       "<table border=\"1\" class=\"dataframe\">\n",
       "  <thead>\n",
       "    <tr style=\"text-align: right;\">\n",
       "      <th></th>\n",
       "      <th>CustomerID</th>\n",
       "      <th>Recency</th>\n",
       "      <th>Frequency</th>\n",
       "      <th>Monetary</th>\n",
       "    </tr>\n",
       "  </thead>\n",
       "  <tbody>\n",
       "    <tr>\n",
       "      <th>count</th>\n",
       "      <td>4339.000000</td>\n",
       "      <td>4339.000000</td>\n",
       "      <td>4339.000000</td>\n",
       "      <td>4339.000000</td>\n",
       "    </tr>\n",
       "    <tr>\n",
       "      <th>mean</th>\n",
       "      <td>15299.936852</td>\n",
       "      <td>114.041484</td>\n",
       "      <td>4.271952</td>\n",
       "      <td>2048.215924</td>\n",
       "    </tr>\n",
       "    <tr>\n",
       "      <th>std</th>\n",
       "      <td>1721.889758</td>\n",
       "      <td>100.007757</td>\n",
       "      <td>7.705493</td>\n",
       "      <td>8984.248352</td>\n",
       "    </tr>\n",
       "    <tr>\n",
       "      <th>min</th>\n",
       "      <td>12346.000000</td>\n",
       "      <td>22.000000</td>\n",
       "      <td>1.000000</td>\n",
       "      <td>0.000000</td>\n",
       "    </tr>\n",
       "    <tr>\n",
       "      <th>25%</th>\n",
       "      <td>13812.500000</td>\n",
       "      <td>39.000000</td>\n",
       "      <td>1.000000</td>\n",
       "      <td>306.455000</td>\n",
       "    </tr>\n",
       "    <tr>\n",
       "      <th>50%</th>\n",
       "      <td>15299.000000</td>\n",
       "      <td>72.000000</td>\n",
       "      <td>2.000000</td>\n",
       "      <td>668.560000</td>\n",
       "    </tr>\n",
       "    <tr>\n",
       "      <th>75%</th>\n",
       "      <td>16778.500000</td>\n",
       "      <td>163.500000</td>\n",
       "      <td>5.000000</td>\n",
       "      <td>1660.315000</td>\n",
       "    </tr>\n",
       "    <tr>\n",
       "      <th>max</th>\n",
       "      <td>18287.000000</td>\n",
       "      <td>395.000000</td>\n",
       "      <td>210.000000</td>\n",
       "      <td>280206.020000</td>\n",
       "    </tr>\n",
       "  </tbody>\n",
       "</table>\n",
       "</div>"
      ],
      "text/plain": [
       "         CustomerID      Recency    Frequency       Monetary\n",
       "count   4339.000000  4339.000000  4339.000000    4339.000000\n",
       "mean   15299.936852   114.041484     4.271952    2048.215924\n",
       "std     1721.889758   100.007757     7.705493    8984.248352\n",
       "min    12346.000000    22.000000     1.000000       0.000000\n",
       "25%    13812.500000    39.000000     1.000000     306.455000\n",
       "50%    15299.000000    72.000000     2.000000     668.560000\n",
       "75%    16778.500000   163.500000     5.000000    1660.315000\n",
       "max    18287.000000   395.000000   210.000000  280206.020000"
      ]
     },
     "execution_count": 101,
     "metadata": {},
     "output_type": "execute_result"
    }
   ],
   "source": [
    "rfm_data.describe()"
   ]
  },
  {
   "cell_type": "code",
   "execution_count": 103,
   "id": "262caf88-5070-4d25-9503-e1296baece8e",
   "metadata": {
    "tags": []
   },
   "outputs": [
    {
     "name": "stderr",
     "output_type": "stream",
     "text": [
      "C:\\Users\\Pita ji\\AppData\\Local\\Temp\\ipykernel_10724\\2796059284.py:4: UserWarning: \n",
      "\n",
      "`distplot` is a deprecated function and will be removed in seaborn v0.14.0.\n",
      "\n",
      "Please adapt your code to use either `displot` (a figure-level function with\n",
      "similar flexibility) or `histplot` (an axes-level function for histograms).\n",
      "\n",
      "For a guide to updating your code to use the new functions, please see\n",
      "https://gist.github.com/mwaskom/de44147ed2974457ad6372750bbe5751\n",
      "\n",
      "  plt.subplot(3, 1, 1); sn.distplot(rfm_data['Recency'])\n",
      "C:\\Users\\Pita ji\\AppData\\Local\\Temp\\ipykernel_10724\\2796059284.py:7: UserWarning: \n",
      "\n",
      "`distplot` is a deprecated function and will be removed in seaborn v0.14.0.\n",
      "\n",
      "Please adapt your code to use either `displot` (a figure-level function with\n",
      "similar flexibility) or `histplot` (an axes-level function for histograms).\n",
      "\n",
      "For a guide to updating your code to use the new functions, please see\n",
      "https://gist.github.com/mwaskom/de44147ed2974457ad6372750bbe5751\n",
      "\n",
      "  plt.subplot(3, 1, 2); sn.distplot(rfm_data['Frequency'])\n",
      "C:\\Users\\Pita ji\\AppData\\Local\\Temp\\ipykernel_10724\\2796059284.py:10: UserWarning: \n",
      "\n",
      "`distplot` is a deprecated function and will be removed in seaborn v0.14.0.\n",
      "\n",
      "Please adapt your code to use either `displot` (a figure-level function with\n",
      "similar flexibility) or `histplot` (an axes-level function for histograms).\n",
      "\n",
      "For a guide to updating your code to use the new functions, please see\n",
      "https://gist.github.com/mwaskom/de44147ed2974457ad6372750bbe5751\n",
      "\n",
      "  plt.subplot(3, 1, 3); sn.distplot(rfm_data['Monetary'])\n"
     ]
    },
    {
     "data": {
      "image/png": "[encoded data removed]",
      "text/plain": [
       "<Figure size 1200x1000 with 3 Axes>"
      ]
     },
     "metadata": {},
     "output_type": "display_data"
    }
   ],
   "source": [
    "plt.figure(figsize=(12,10))\n",
    "\n",
    "# Plot recency distribution\n",
    "plt.subplot(3, 1, 1); sn.distplot(rfm_data['Recency'])\n",
    "\n",
    "# Plot frequency distribution\n",
    "plt.subplot(3, 1, 2); sn.distplot(rfm_data['Frequency'])\n",
    "\n",
    "# Plot monetary value distribution\n",
    "plt.subplot(3, 1, 3); sn.distplot(rfm_data['Monetary'])\n",
    "\n",
    "# Show the plot\n",
    "plt.show()"
   ]
  },
  {
   "cell_type": "code",
   "execution_count": 104,
   "id": "852da88b-46a6-4f7b-84c0-27ceb1184828",
   "metadata": {
    "tags": []
   },
   "outputs": [
    {
     "data": {
      "text/html": [
       "<div>\n",
       "<style scoped>\n",
       "    .dataframe tbody tr th:only-of-type {\n",
       "        vertical-align: middle;\n",
       "    }\n",
       "\n",
       "    .dataframe tbody tr th {\n",
       "        vertical-align: top;\n",
       "    }\n",
       "\n",
       "    .dataframe thead th {\n",
       "        text-align: right;\n",
       "    }\n",
       "</style>\n",
       "<table border=\"1\" class=\"dataframe\">\n",
       "  <thead>\n",
       "    <tr style=\"text-align: right;\">\n",
       "      <th></th>\n",
       "      <th>CustomerID</th>\n",
       "      <th>Recency</th>\n",
       "      <th>Frequency</th>\n",
       "      <th>Monetary</th>\n",
       "      <th>R_rank_norm</th>\n",
       "      <th>F_rank_norm</th>\n",
       "      <th>M_rank_norm</th>\n",
       "    </tr>\n",
       "  </thead>\n",
       "  <tbody>\n",
       "    <tr>\n",
       "      <th>0</th>\n",
       "      <td>12346.0</td>\n",
       "      <td>347</td>\n",
       "      <td>1</td>\n",
       "      <td>77183.60</td>\n",
       "      <td>3.759833</td>\n",
       "      <td>17.227472</td>\n",
       "      <td>17.227472</td>\n",
       "    </tr>\n",
       "    <tr>\n",
       "      <th>1</th>\n",
       "      <td>12347.0</td>\n",
       "      <td>24</td>\n",
       "      <td>7</td>\n",
       "      <td>4310.00</td>\n",
       "      <td>96.170754</td>\n",
       "      <td>85.526619</td>\n",
       "      <td>85.526619</td>\n",
       "    </tr>\n",
       "    <tr>\n",
       "      <th>2</th>\n",
       "      <td>12348.0</td>\n",
       "      <td>97</td>\n",
       "      <td>4</td>\n",
       "      <td>1797.24</td>\n",
       "      <td>38.084220</td>\n",
       "      <td>69.854805</td>\n",
       "      <td>69.854805</td>\n",
       "    </tr>\n",
       "    <tr>\n",
       "      <th>3</th>\n",
       "      <td>12349.0</td>\n",
       "      <td>40</td>\n",
       "      <td>1</td>\n",
       "      <td>1757.55</td>\n",
       "      <td>74.259602</td>\n",
       "      <td>17.227472</td>\n",
       "      <td>17.227472</td>\n",
       "    </tr>\n",
       "    <tr>\n",
       "      <th>4</th>\n",
       "      <td>12350.0</td>\n",
       "      <td>332</td>\n",
       "      <td>1</td>\n",
       "      <td>334.40</td>\n",
       "      <td>5.263767</td>\n",
       "      <td>17.227472</td>\n",
       "      <td>17.227472</td>\n",
       "    </tr>\n",
       "  </tbody>\n",
       "</table>\n",
       "</div>"
      ],
      "text/plain": [
       "   CustomerID  Recency  Frequency  Monetary  R_rank_norm  F_rank_norm  \\\n",
       "0     12346.0      347          1  77183.60     3.759833    17.227472   \n",
       "1     12347.0       24          7   4310.00    96.170754    85.526619   \n",
       "2     12348.0       97          4   1797.24    38.084220    69.854805   \n",
       "3     12349.0       40          1   1757.55    74.259602    17.227472   \n",
       "4     12350.0      332          1    334.40     5.263767    17.227472   \n",
       "\n",
       "   M_rank_norm  \n",
       "0    17.227472  \n",
       "1    85.526619  \n",
       "2    69.854805  \n",
       "3    17.227472  \n",
       "4    17.227472  "
      ]
     },
     "execution_count": 104,
     "metadata": {},
     "output_type": "execute_result"
    }
   ],
   "source": [
    "rfm_data['R_rank'] = rfm_data['Recency'].rank(ascending=False)\n",
    "rfm_data['F_rank'] = rfm_data['Frequency'].rank(ascending=True)\n",
    "rfm_data['M_rank'] = rfm_data['Monetary'].rank(ascending=True)\n",
    " \n",
    "# normalizing the rank of the customers\n",
    "rfm_data['R_rank_norm'] = (rfm_data['R_rank']/rfm_data['R_rank'].max())*100\n",
    "rfm_data['F_rank_norm'] = (rfm_data['F_rank']/rfm_data['F_rank'].max())*100\n",
    "rfm_data['M_rank_norm'] = (rfm_data['F_rank']/rfm_data['M_rank'].max())*100\n",
    " \n",
    "rfm_data.drop(columns=['R_rank', 'F_rank', 'M_rank'], inplace=True)\n",
    " \n",
    "rfm_data.head()"
   ]
  },
  {
   "cell_type": "code",
   "execution_count": 105,
   "id": "72163c09-470c-4383-94ae-6715a74435d6",
   "metadata": {
    "tags": []
   },
   "outputs": [],
   "source": [
    "rfm_data['RFM_Score'] = 0.15*rfm_data['R_rank_norm']+0.28 * \\\n",
    "    rfm_data['F_rank_norm']+0.57*rfm_data['M_rank_norm']\n",
    "rfm_data['RFM_Score'] *= 0.05\n",
    "rfm_data = rfm_data.round(2)\n",
    "# rfm_data[['CustomerID', 'RFM_Score']].head(7)"
   ]
  },
  {
   "cell_type": "code",
   "execution_count": 106,
   "id": "0ba11f9f-46c0-457e-99b4-d75a201c2819",
   "metadata": {
    "tags": []
   },
   "outputs": [
    {
     "data": {
      "text/html": [
       "<div>\n",
       "<style scoped>\n",
       "    .dataframe tbody tr th:only-of-type {\n",
       "        vertical-align: middle;\n",
       "    }\n",
       "\n",
       "    .dataframe tbody tr th {\n",
       "        vertical-align: top;\n",
       "    }\n",
       "\n",
       "    .dataframe thead th {\n",
       "        text-align: right;\n",
       "    }\n",
       "</style>\n",
       "<table border=\"1\" class=\"dataframe\">\n",
       "  <thead>\n",
       "    <tr style=\"text-align: right;\">\n",
       "      <th></th>\n",
       "      <th>CustomerID</th>\n",
       "      <th>Recency</th>\n",
       "      <th>Frequency</th>\n",
       "      <th>Monetary</th>\n",
       "      <th>R_rank_norm</th>\n",
       "      <th>F_rank_norm</th>\n",
       "      <th>M_rank_norm</th>\n",
       "      <th>RFM_Score</th>\n",
       "    </tr>\n",
       "  </thead>\n",
       "  <tbody>\n",
       "    <tr>\n",
       "      <th>0</th>\n",
       "      <td>12346.0</td>\n",
       "      <td>347</td>\n",
       "      <td>1</td>\n",
       "      <td>77183.60</td>\n",
       "      <td>3.76</td>\n",
       "      <td>17.23</td>\n",
       "      <td>17.23</td>\n",
       "      <td>0.76</td>\n",
       "    </tr>\n",
       "    <tr>\n",
       "      <th>1</th>\n",
       "      <td>12347.0</td>\n",
       "      <td>24</td>\n",
       "      <td>7</td>\n",
       "      <td>4310.00</td>\n",
       "      <td>96.17</td>\n",
       "      <td>85.53</td>\n",
       "      <td>85.53</td>\n",
       "      <td>4.36</td>\n",
       "    </tr>\n",
       "    <tr>\n",
       "      <th>2</th>\n",
       "      <td>12348.0</td>\n",
       "      <td>97</td>\n",
       "      <td>4</td>\n",
       "      <td>1797.24</td>\n",
       "      <td>38.08</td>\n",
       "      <td>69.85</td>\n",
       "      <td>69.85</td>\n",
       "      <td>3.25</td>\n",
       "    </tr>\n",
       "    <tr>\n",
       "      <th>3</th>\n",
       "      <td>12349.0</td>\n",
       "      <td>40</td>\n",
       "      <td>1</td>\n",
       "      <td>1757.55</td>\n",
       "      <td>74.26</td>\n",
       "      <td>17.23</td>\n",
       "      <td>17.23</td>\n",
       "      <td>1.29</td>\n",
       "    </tr>\n",
       "    <tr>\n",
       "      <th>4</th>\n",
       "      <td>12350.0</td>\n",
       "      <td>332</td>\n",
       "      <td>1</td>\n",
       "      <td>334.40</td>\n",
       "      <td>5.26</td>\n",
       "      <td>17.23</td>\n",
       "      <td>17.23</td>\n",
       "      <td>0.77</td>\n",
       "    </tr>\n",
       "  </tbody>\n",
       "</table>\n",
       "</div>"
      ],
      "text/plain": [
       "   CustomerID  Recency  Frequency  Monetary  R_rank_norm  F_rank_norm  \\\n",
       "0     12346.0      347          1  77183.60         3.76        17.23   \n",
       "1     12347.0       24          7   4310.00        96.17        85.53   \n",
       "2     12348.0       97          4   1797.24        38.08        69.85   \n",
       "3     12349.0       40          1   1757.55        74.26        17.23   \n",
       "4     12350.0      332          1    334.40         5.26        17.23   \n",
       "\n",
       "   M_rank_norm  RFM_Score  \n",
       "0        17.23       0.76  \n",
       "1        85.53       4.36  \n",
       "2        69.85       3.25  \n",
       "3        17.23       1.29  \n",
       "4        17.23       0.77  "
      ]
     },
     "execution_count": 106,
     "metadata": {},
     "output_type": "execute_result"
    }
   ],
   "source": [
    "rfm_data.head()"
   ]
  },
  {
   "cell_type": "markdown",
   "id": "fa7d5d7c-ba59-415a-a4bf-95d8dabedf04",
   "metadata": {},
   "source": [
    "Scaling the data for clustering."
   ]
  },
  {
   "cell_type": "code",
   "execution_count": 107,
   "id": "d3a8d4fb-db19-4091-ba07-90b1041ec1cf",
   "metadata": {},
   "outputs": [],
   "source": [
    "from sklearn.preprocessing import StandardScaler\n",
    "scaler = StandardScaler()\n",
    "rfm_scaled = scaler.fit_transform(rfm_data)"
   ]
  },
  {
   "cell_type": "code",
   "execution_count": 108,
   "id": "c7679f30-bcac-4cac-837e-f0d228405ba1",
   "metadata": {
    "tags": []
   },
   "outputs": [
    {
     "name": "stderr",
     "output_type": "stream",
     "text": [
      "C:\\Users\\Pita ji\\anaconda3\\Lib\\site-packages\\sklearn\\cluster\\_kmeans.py:1412: FutureWarning: The default value of `n_init` will change from 10 to 'auto' in 1.4. Set the value of `n_init` explicitly to suppress the warning\n",
      "  super()._check_params_vs_input(X, default_n_init=10)\n",
      "C:\\Users\\Pita ji\\anaconda3\\Lib\\site-packages\\sklearn\\cluster\\_kmeans.py:1412: FutureWarning: The default value of `n_init` will change from 10 to 'auto' in 1.4. Set the value of `n_init` explicitly to suppress the warning\n",
      "  super()._check_params_vs_input(X, default_n_init=10)\n",
      "C:\\Users\\Pita ji\\anaconda3\\Lib\\site-packages\\sklearn\\cluster\\_kmeans.py:1412: FutureWarning: The default value of `n_init` will change from 10 to 'auto' in 1.4. Set the value of `n_init` explicitly to suppress the warning\n",
      "  super()._check_params_vs_input(X, default_n_init=10)\n",
      "C:\\Users\\Pita ji\\anaconda3\\Lib\\site-packages\\sklearn\\cluster\\_kmeans.py:1412: FutureWarning: The default value of `n_init` will change from 10 to 'auto' in 1.4. Set the value of `n_init` explicitly to suppress the warning\n",
      "  super()._check_params_vs_input(X, default_n_init=10)\n",
      "C:\\Users\\Pita ji\\anaconda3\\Lib\\site-packages\\sklearn\\cluster\\_kmeans.py:1412: FutureWarning: The default value of `n_init` will change from 10 to 'auto' in 1.4. Set the value of `n_init` explicitly to suppress the warning\n",
      "  super()._check_params_vs_input(X, default_n_init=10)\n"
     ]
    },
    {
     "data": {
      "image/png": "[encoded data removed]",
      "text/plain": [
       "<Figure size 1200x800 with 1 Axes>"
      ]
     },
     "metadata": {},
     "output_type": "display_data"
    }
   ],
   "source": [
    "inertia = []\n",
    "\n",
    "from sklearn.cluster import KMeans\n",
    "for i in np.arange(1,6):\n",
    "    kmeans = KMeans(n_clusters = i)\n",
    "    kmeans.fit(rfm_scaled)\n",
    "    inertia.append(kmeans.inertia_)\n",
    "\n",
    "plt.figure(figsize = (12,8))    \n",
    "plt.plot(inertia, marker = \"o\")\n",
    "plt.title(\"KMeans - Elbow\", fontsize = 18);"
   ]
  },
  {
   "cell_type": "code",
   "execution_count": 109,
   "id": "a2a02c72-043b-4d04-8448-93dcb8005538",
   "metadata": {
    "tags": []
   },
   "outputs": [
    {
     "name": "stderr",
     "output_type": "stream",
     "text": [
      "C:\\Users\\Pita ji\\anaconda3\\Lib\\site-packages\\sklearn\\cluster\\_kmeans.py:1412: FutureWarning: The default value of `n_init` will change from 10 to 'auto' in 1.4. Set the value of `n_init` explicitly to suppress the warning\n",
      "  super()._check_params_vs_input(X, default_n_init=10)\n"
     ]
    }
   ],
   "source": [
    "kmeans = KMeans(n_clusters = 4)\n",
    "kmeans.fit(rfm_scaled)\n",
    "rfm_data[\"Cluster_No\"] = (kmeans.labels_ + 1)"
   ]
  },
  {
   "cell_type": "code",
   "execution_count": 110,
   "id": "c0ec385b-3689-47a2-8574-e65aa66f4efc",
   "metadata": {
    "tags": []
   },
   "outputs": [
    {
     "data": {
      "text/html": [
       "<div>\n",
       "<style scoped>\n",
       "    .dataframe tbody tr th:only-of-type {\n",
       "        vertical-align: middle;\n",
       "    }\n",
       "\n",
       "    .dataframe tbody tr th {\n",
       "        vertical-align: top;\n",
       "    }\n",
       "\n",
       "    .dataframe thead th {\n",
       "        text-align: right;\n",
       "    }\n",
       "</style>\n",
       "<table border=\"1\" class=\"dataframe\">\n",
       "  <thead>\n",
       "    <tr style=\"text-align: right;\">\n",
       "      <th></th>\n",
       "      <th>CustomerID</th>\n",
       "      <th>Recency</th>\n",
       "      <th>Frequency</th>\n",
       "      <th>Monetary</th>\n",
       "      <th>R_rank_norm</th>\n",
       "      <th>F_rank_norm</th>\n",
       "      <th>M_rank_norm</th>\n",
       "      <th>RFM_Score</th>\n",
       "      <th>Cluster_No</th>\n",
       "    </tr>\n",
       "  </thead>\n",
       "  <tbody>\n",
       "    <tr>\n",
       "      <th>0</th>\n",
       "      <td>12346.0</td>\n",
       "      <td>347</td>\n",
       "      <td>1</td>\n",
       "      <td>77183.60</td>\n",
       "      <td>3.76</td>\n",
       "      <td>17.23</td>\n",
       "      <td>17.23</td>\n",
       "      <td>0.76</td>\n",
       "      <td>2</td>\n",
       "    </tr>\n",
       "    <tr>\n",
       "      <th>1</th>\n",
       "      <td>12347.0</td>\n",
       "      <td>24</td>\n",
       "      <td>7</td>\n",
       "      <td>4310.00</td>\n",
       "      <td>96.17</td>\n",
       "      <td>85.53</td>\n",
       "      <td>85.53</td>\n",
       "      <td>4.36</td>\n",
       "      <td>3</td>\n",
       "    </tr>\n",
       "    <tr>\n",
       "      <th>2</th>\n",
       "      <td>12348.0</td>\n",
       "      <td>97</td>\n",
       "      <td>4</td>\n",
       "      <td>1797.24</td>\n",
       "      <td>38.08</td>\n",
       "      <td>69.85</td>\n",
       "      <td>69.85</td>\n",
       "      <td>3.25</td>\n",
       "      <td>3</td>\n",
       "    </tr>\n",
       "    <tr>\n",
       "      <th>3</th>\n",
       "      <td>12349.0</td>\n",
       "      <td>40</td>\n",
       "      <td>1</td>\n",
       "      <td>1757.55</td>\n",
       "      <td>74.26</td>\n",
       "      <td>17.23</td>\n",
       "      <td>17.23</td>\n",
       "      <td>1.29</td>\n",
       "      <td>1</td>\n",
       "    </tr>\n",
       "    <tr>\n",
       "      <th>4</th>\n",
       "      <td>12350.0</td>\n",
       "      <td>332</td>\n",
       "      <td>1</td>\n",
       "      <td>334.40</td>\n",
       "      <td>5.26</td>\n",
       "      <td>17.23</td>\n",
       "      <td>17.23</td>\n",
       "      <td>0.77</td>\n",
       "      <td>2</td>\n",
       "    </tr>\n",
       "    <tr>\n",
       "      <th>...</th>\n",
       "      <td>...</td>\n",
       "      <td>...</td>\n",
       "      <td>...</td>\n",
       "      <td>...</td>\n",
       "      <td>...</td>\n",
       "      <td>...</td>\n",
       "      <td>...</td>\n",
       "      <td>...</td>\n",
       "      <td>...</td>\n",
       "    </tr>\n",
       "    <tr>\n",
       "      <th>4334</th>\n",
       "      <td>18280.0</td>\n",
       "      <td>299</td>\n",
       "      <td>1</td>\n",
       "      <td>180.60</td>\n",
       "      <td>8.21</td>\n",
       "      <td>17.23</td>\n",
       "      <td>17.23</td>\n",
       "      <td>0.79</td>\n",
       "      <td>2</td>\n",
       "    </tr>\n",
       "    <tr>\n",
       "      <th>4335</th>\n",
       "      <td>18281.0</td>\n",
       "      <td>202</td>\n",
       "      <td>1</td>\n",
       "      <td>80.82</td>\n",
       "      <td>19.90</td>\n",
       "      <td>17.23</td>\n",
       "      <td>17.23</td>\n",
       "      <td>0.88</td>\n",
       "      <td>2</td>\n",
       "    </tr>\n",
       "    <tr>\n",
       "      <th>4336</th>\n",
       "      <td>18282.0</td>\n",
       "      <td>29</td>\n",
       "      <td>2</td>\n",
       "      <td>178.05</td>\n",
       "      <td>88.84</td>\n",
       "      <td>44.07</td>\n",
       "      <td>44.07</td>\n",
       "      <td>2.54</td>\n",
       "      <td>1</td>\n",
       "    </tr>\n",
       "    <tr>\n",
       "      <th>4337</th>\n",
       "      <td>18283.0</td>\n",
       "      <td>25</td>\n",
       "      <td>16</td>\n",
       "      <td>2045.53</td>\n",
       "      <td>94.04</td>\n",
       "      <td>96.40</td>\n",
       "      <td>96.40</td>\n",
       "      <td>4.80</td>\n",
       "      <td>3</td>\n",
       "    </tr>\n",
       "    <tr>\n",
       "      <th>4338</th>\n",
       "      <td>18287.0</td>\n",
       "      <td>64</td>\n",
       "      <td>3</td>\n",
       "      <td>1837.28</td>\n",
       "      <td>54.53</td>\n",
       "      <td>59.54</td>\n",
       "      <td>59.54</td>\n",
       "      <td>2.94</td>\n",
       "      <td>3</td>\n",
       "    </tr>\n",
       "  </tbody>\n",
       "</table>\n",
       "<p>4339 rows × 9 columns</p>\n",
       "</div>"
      ],
      "text/plain": [
       "      CustomerID  Recency  Frequency  Monetary  R_rank_norm  F_rank_norm  \\\n",
       "0        12346.0      347          1  77183.60         3.76        17.23   \n",
       "1        12347.0       24          7   4310.00        96.17        85.53   \n",
       "2        12348.0       97          4   1797.24        38.08        69.85   \n",
       "3        12349.0       40          1   1757.55        74.26        17.23   \n",
       "4        12350.0      332          1    334.40         5.26        17.23   \n",
       "...          ...      ...        ...       ...          ...          ...   \n",
       "4334     18280.0      299          1    180.60         8.21        17.23   \n",
       "4335     18281.0      202          1     80.82        19.90        17.23   \n",
       "4336     18282.0       29          2    178.05        88.84        44.07   \n",
       "4337     18283.0       25         16   2045.53        94.04        96.40   \n",
       "4338     18287.0       64          3   1837.28        54.53        59.54   \n",
       "\n",
       "      M_rank_norm  RFM_Score  Cluster_No  \n",
       "0           17.23       0.76           2  \n",
       "1           85.53       4.36           3  \n",
       "2           69.85       3.25           3  \n",
       "3           17.23       1.29           1  \n",
       "4           17.23       0.77           2  \n",
       "...           ...        ...         ...  \n",
       "4334        17.23       0.79           2  \n",
       "4335        17.23       0.88           2  \n",
       "4336        44.07       2.54           1  \n",
       "4337        96.40       4.80           3  \n",
       "4338        59.54       2.94           3  \n",
       "\n",
       "[4339 rows x 9 columns]"
      ]
     },
     "execution_count": 110,
     "metadata": {},
     "output_type": "execute_result"
    }
   ],
   "source": [
    "rfm_data"
   ]
  },
  {
   "cell_type": "code",
   "execution_count": 111,
   "id": "ea1193e1-c4e2-4ac4-a460-ed63a3e6f660",
   "metadata": {
    "tags": []
   },
   "outputs": [
    {
     "data": {
      "text/html": [
       "<div>\n",
       "<style scoped>\n",
       "    .dataframe tbody tr th:only-of-type {\n",
       "        vertical-align: middle;\n",
       "    }\n",
       "\n",
       "    .dataframe tbody tr th {\n",
       "        vertical-align: top;\n",
       "    }\n",
       "\n",
       "    .dataframe thead th {\n",
       "        text-align: right;\n",
       "    }\n",
       "</style>\n",
       "<table border=\"1\" class=\"dataframe\">\n",
       "  <thead>\n",
       "    <tr style=\"text-align: right;\">\n",
       "      <th></th>\n",
       "      <th>Recency</th>\n",
       "      <th>Frequency</th>\n",
       "      <th>Monetary</th>\n",
       "    </tr>\n",
       "    <tr>\n",
       "      <th>Cluster_No</th>\n",
       "      <th></th>\n",
       "      <th></th>\n",
       "      <th></th>\n",
       "    </tr>\n",
       "  </thead>\n",
       "  <tbody>\n",
       "    <tr>\n",
       "      <th>1</th>\n",
       "      <td>77.477137</td>\n",
       "      <td>1.644135</td>\n",
       "      <td>600.555991</td>\n",
       "    </tr>\n",
       "    <tr>\n",
       "      <th>2</th>\n",
       "      <td>267.695283</td>\n",
       "      <td>1.342453</td>\n",
       "      <td>577.700472</td>\n",
       "    </tr>\n",
       "    <tr>\n",
       "      <th>3</th>\n",
       "      <td>53.579128</td>\n",
       "      <td>7.398509</td>\n",
       "      <td>2945.601703</td>\n",
       "    </tr>\n",
       "    <tr>\n",
       "      <th>4</th>\n",
       "      <td>27.461538</td>\n",
       "      <td>66.500000</td>\n",
       "      <td>85826.078077</td>\n",
       "    </tr>\n",
       "  </tbody>\n",
       "</table>\n",
       "</div>"
      ],
      "text/plain": [
       "               Recency  Frequency      Monetary\n",
       "Cluster_No                                     \n",
       "1            77.477137   1.644135    600.555991\n",
       "2           267.695283   1.342453    577.700472\n",
       "3            53.579128   7.398509   2945.601703\n",
       "4            27.461538  66.500000  85826.078077"
      ]
     },
     "execution_count": 111,
     "metadata": {},
     "output_type": "execute_result"
    }
   ],
   "source": [
    "rfm_data.groupby([\"Cluster_No\"])[[\"Recency\", \"Frequency\", \"Monetary\"]].mean()"
   ]
  },
  {
   "cell_type": "code",
   "execution_count": 112,
   "id": "20c3005c-91c8-48a6-8f72-a252fc2ceb3d",
   "metadata": {
    "tags": []
   },
   "outputs": [
    {
     "data": {
      "image/png": "[encoded data removed]",
      "text/plain": [
       "<Figure size 600x400 with 1 Axes>"
      ]
     },
     "metadata": {},
     "output_type": "display_data"
    }
   ],
   "source": [
    "import seaborn as sns\n",
    "import matplotlib.pyplot as plt\n",
    "\n",
    "# Assuming you have your data in a DataFrame called 'df'\n",
    "plt.figure(figsize=(6, 4))\n",
    "ax = sns.countplot(data=rfm_data, x='Cluster_No')\n",
    "plt.title(\"Number of Customers in Each Cluster\", fontsize=20)\n",
    "\n",
    "# Add labels to the bars\n",
    "for bars in ax.containers:\n",
    "    ax.bar_label(bars, fmt='%.0f', label_type='edge')\n",
    "\n",
    "plt.show()"
   ]
  },
  {
   "cell_type": "code",
   "execution_count": 113,
   "id": "912e0a68-4f80-42de-a229-611720e6f0a0",
   "metadata": {
    "tags": []
   },
   "outputs": [
    {
     "data": {
      "text/html": [
       "<div>\n",
       "<style scoped>\n",
       "    .dataframe tbody tr th:only-of-type {\n",
       "        vertical-align: middle;\n",
       "    }\n",
       "\n",
       "    .dataframe tbody tr th {\n",
       "        vertical-align: top;\n",
       "    }\n",
       "\n",
       "    .dataframe thead th {\n",
       "        text-align: right;\n",
       "    }\n",
       "</style>\n",
       "<table border=\"1\" class=\"dataframe\">\n",
       "  <thead>\n",
       "    <tr style=\"text-align: right;\">\n",
       "      <th></th>\n",
       "      <th>CustomerID</th>\n",
       "      <th>Recency</th>\n",
       "      <th>Frequency</th>\n",
       "      <th>Monetary</th>\n",
       "      <th>R_rank_norm</th>\n",
       "      <th>F_rank_norm</th>\n",
       "      <th>M_rank_norm</th>\n",
       "      <th>RFM_Score</th>\n",
       "      <th>Cluster_No</th>\n",
       "    </tr>\n",
       "  </thead>\n",
       "  <tbody>\n",
       "    <tr>\n",
       "      <th>0</th>\n",
       "      <td>12346.0</td>\n",
       "      <td>347</td>\n",
       "      <td>1</td>\n",
       "      <td>77183.60</td>\n",
       "      <td>3.76</td>\n",
       "      <td>17.23</td>\n",
       "      <td>17.23</td>\n",
       "      <td>0.76</td>\n",
       "      <td>2</td>\n",
       "    </tr>\n",
       "    <tr>\n",
       "      <th>1</th>\n",
       "      <td>12347.0</td>\n",
       "      <td>24</td>\n",
       "      <td>7</td>\n",
       "      <td>4310.00</td>\n",
       "      <td>96.17</td>\n",
       "      <td>85.53</td>\n",
       "      <td>85.53</td>\n",
       "      <td>4.36</td>\n",
       "      <td>3</td>\n",
       "    </tr>\n",
       "    <tr>\n",
       "      <th>2</th>\n",
       "      <td>12348.0</td>\n",
       "      <td>97</td>\n",
       "      <td>4</td>\n",
       "      <td>1797.24</td>\n",
       "      <td>38.08</td>\n",
       "      <td>69.85</td>\n",
       "      <td>69.85</td>\n",
       "      <td>3.25</td>\n",
       "      <td>3</td>\n",
       "    </tr>\n",
       "    <tr>\n",
       "      <th>3</th>\n",
       "      <td>12349.0</td>\n",
       "      <td>40</td>\n",
       "      <td>1</td>\n",
       "      <td>1757.55</td>\n",
       "      <td>74.26</td>\n",
       "      <td>17.23</td>\n",
       "      <td>17.23</td>\n",
       "      <td>1.29</td>\n",
       "      <td>1</td>\n",
       "    </tr>\n",
       "    <tr>\n",
       "      <th>4</th>\n",
       "      <td>12350.0</td>\n",
       "      <td>332</td>\n",
       "      <td>1</td>\n",
       "      <td>334.40</td>\n",
       "      <td>5.26</td>\n",
       "      <td>17.23</td>\n",
       "      <td>17.23</td>\n",
       "      <td>0.77</td>\n",
       "      <td>2</td>\n",
       "    </tr>\n",
       "    <tr>\n",
       "      <th>...</th>\n",
       "      <td>...</td>\n",
       "      <td>...</td>\n",
       "      <td>...</td>\n",
       "      <td>...</td>\n",
       "      <td>...</td>\n",
       "      <td>...</td>\n",
       "      <td>...</td>\n",
       "      <td>...</td>\n",
       "      <td>...</td>\n",
       "    </tr>\n",
       "    <tr>\n",
       "      <th>4334</th>\n",
       "      <td>18280.0</td>\n",
       "      <td>299</td>\n",
       "      <td>1</td>\n",
       "      <td>180.60</td>\n",
       "      <td>8.21</td>\n",
       "      <td>17.23</td>\n",
       "      <td>17.23</td>\n",
       "      <td>0.79</td>\n",
       "      <td>2</td>\n",
       "    </tr>\n",
       "    <tr>\n",
       "      <th>4335</th>\n",
       "      <td>18281.0</td>\n",
       "      <td>202</td>\n",
       "      <td>1</td>\n",
       "      <td>80.82</td>\n",
       "      <td>19.90</td>\n",
       "      <td>17.23</td>\n",
       "      <td>17.23</td>\n",
       "      <td>0.88</td>\n",
       "      <td>2</td>\n",
       "    </tr>\n",
       "    <tr>\n",
       "      <th>4336</th>\n",
       "      <td>18282.0</td>\n",
       "      <td>29</td>\n",
       "      <td>2</td>\n",
       "      <td>178.05</td>\n",
       "      <td>88.84</td>\n",
       "      <td>44.07</td>\n",
       "      <td>44.07</td>\n",
       "      <td>2.54</td>\n",
       "      <td>1</td>\n",
       "    </tr>\n",
       "    <tr>\n",
       "      <th>4337</th>\n",
       "      <td>18283.0</td>\n",
       "      <td>25</td>\n",
       "      <td>16</td>\n",
       "      <td>2045.53</td>\n",
       "      <td>94.04</td>\n",
       "      <td>96.40</td>\n",
       "      <td>96.40</td>\n",
       "      <td>4.80</td>\n",
       "      <td>3</td>\n",
       "    </tr>\n",
       "    <tr>\n",
       "      <th>4338</th>\n",
       "      <td>18287.0</td>\n",
       "      <td>64</td>\n",
       "      <td>3</td>\n",
       "      <td>1837.28</td>\n",
       "      <td>54.53</td>\n",
       "      <td>59.54</td>\n",
       "      <td>59.54</td>\n",
       "      <td>2.94</td>\n",
       "      <td>3</td>\n",
       "    </tr>\n",
       "  </tbody>\n",
       "</table>\n",
       "<p>4339 rows × 9 columns</p>\n",
       "</div>"
      ],
      "text/plain": [
       "      CustomerID  Recency  Frequency  Monetary  R_rank_norm  F_rank_norm  \\\n",
       "0        12346.0      347          1  77183.60         3.76        17.23   \n",
       "1        12347.0       24          7   4310.00        96.17        85.53   \n",
       "2        12348.0       97          4   1797.24        38.08        69.85   \n",
       "3        12349.0       40          1   1757.55        74.26        17.23   \n",
       "4        12350.0      332          1    334.40         5.26        17.23   \n",
       "...          ...      ...        ...       ...          ...          ...   \n",
       "4334     18280.0      299          1    180.60         8.21        17.23   \n",
       "4335     18281.0      202          1     80.82        19.90        17.23   \n",
       "4336     18282.0       29          2    178.05        88.84        44.07   \n",
       "4337     18283.0       25         16   2045.53        94.04        96.40   \n",
       "4338     18287.0       64          3   1837.28        54.53        59.54   \n",
       "\n",
       "      M_rank_norm  RFM_Score  Cluster_No  \n",
       "0           17.23       0.76           2  \n",
       "1           85.53       4.36           3  \n",
       "2           69.85       3.25           3  \n",
       "3           17.23       1.29           1  \n",
       "4           17.23       0.77           2  \n",
       "...           ...        ...         ...  \n",
       "4334        17.23       0.79           2  \n",
       "4335        17.23       0.88           2  \n",
       "4336        44.07       2.54           1  \n",
       "4337        96.40       4.80           3  \n",
       "4338        59.54       2.94           3  \n",
       "\n",
       "[4339 rows x 9 columns]"
      ]
     },
     "execution_count": 113,
     "metadata": {},
     "output_type": "execute_result"
    }
   ],
   "source": [
    "rfm_data"
   ]
  },
  {
   "cell_type": "markdown",
   "id": "daef899d-6444-4f88-ba88-58f9e52e5ca8",
   "metadata": {},
   "source": [
    "**Insights/Recommendation**\n",
    "**Premium Customers:**\n",
    "- Cluster 4: These customers have the highest monetary values, indicating they are high spenders.\n",
    "- Recommendation: Continue providing premium services, offer exclusive deals, and engage them with loyalty programs to maintain their loyalty.\n",
    "\n",
    "**Mid-level Customers:**\n",
    "- Cluster 2: While they have relatively high frequency and monetary values, they are not as recent as Cluster 4.\n",
    "- Recommendation: Provide regular offers and discounts to keep them engaged and encourage repeat purchases.\n",
    "\n",
    "**Potential Loyalists:**\n",
    "- Cluster 1: These customers have made purchases relatively recently, but their frequency and monetary values are moderate.\n",
    "- Recommendation: Engage them with personalized recommendations and incentives to increase their frequency and spending.\n",
    "\n",
    "**Customers Needing Attention:**\n",
    "- Cluster 3: These customers have a low frequency and monetary value, and their recency is also not very recent.\n",
    "- Recommendation: Target them with win-back campaigns and incentives to increase their spending and frequency."
   ]
  },
  {
   "cell_type": "markdown",
   "id": "b845f3ab-0c9a-4b5b-822f-06491c22717b",
   "metadata": {},
   "source": [
    "Rating Customer based upon the RFM score\n",
    "\n",
    "**rfm score >4.5 : Top Customer\n",
    "4.5 > rfm score > 4 : High Value Customer\n",
    "4>rfm score >3 : Medium value customer\n",
    "3>rfm score>1.6 : Low-value customer\n",
    "rfm score<1.6 :Lost Customer**"
   ]
  },
  {
   "cell_type": "code",
   "execution_count": 114,
   "id": "8e8a1c72-66d6-4b6c-a060-776b9b38c3cf",
   "metadata": {
    "tags": []
   },
   "outputs": [
    {
     "data": {
      "text/html": [
       "<div>\n",
       "<style scoped>\n",
       "    .dataframe tbody tr th:only-of-type {\n",
       "        vertical-align: middle;\n",
       "    }\n",
       "\n",
       "    .dataframe tbody tr th {\n",
       "        vertical-align: top;\n",
       "    }\n",
       "\n",
       "    .dataframe thead th {\n",
       "        text-align: right;\n",
       "    }\n",
       "</style>\n",
       "<table border=\"1\" class=\"dataframe\">\n",
       "  <thead>\n",
       "    <tr style=\"text-align: right;\">\n",
       "      <th></th>\n",
       "      <th>CustomerID</th>\n",
       "      <th>Recency</th>\n",
       "      <th>Frequency</th>\n",
       "      <th>Monetary</th>\n",
       "      <th>R_rank_norm</th>\n",
       "      <th>F_rank_norm</th>\n",
       "      <th>M_rank_norm</th>\n",
       "      <th>RFM_Score</th>\n",
       "      <th>Cluster_No</th>\n",
       "      <th>Customer_segment</th>\n",
       "    </tr>\n",
       "  </thead>\n",
       "  <tbody>\n",
       "    <tr>\n",
       "      <th>0</th>\n",
       "      <td>12346.0</td>\n",
       "      <td>347</td>\n",
       "      <td>1</td>\n",
       "      <td>77183.60</td>\n",
       "      <td>3.76</td>\n",
       "      <td>17.23</td>\n",
       "      <td>17.23</td>\n",
       "      <td>0.76</td>\n",
       "      <td>2</td>\n",
       "      <td>Lost Customers</td>\n",
       "    </tr>\n",
       "    <tr>\n",
       "      <th>1</th>\n",
       "      <td>12347.0</td>\n",
       "      <td>24</td>\n",
       "      <td>7</td>\n",
       "      <td>4310.00</td>\n",
       "      <td>96.17</td>\n",
       "      <td>85.53</td>\n",
       "      <td>85.53</td>\n",
       "      <td>4.36</td>\n",
       "      <td>3</td>\n",
       "      <td>High value Customer</td>\n",
       "    </tr>\n",
       "    <tr>\n",
       "      <th>2</th>\n",
       "      <td>12348.0</td>\n",
       "      <td>97</td>\n",
       "      <td>4</td>\n",
       "      <td>1797.24</td>\n",
       "      <td>38.08</td>\n",
       "      <td>69.85</td>\n",
       "      <td>69.85</td>\n",
       "      <td>3.25</td>\n",
       "      <td>3</td>\n",
       "      <td>Medium Value Customer</td>\n",
       "    </tr>\n",
       "    <tr>\n",
       "      <th>3</th>\n",
       "      <td>12349.0</td>\n",
       "      <td>40</td>\n",
       "      <td>1</td>\n",
       "      <td>1757.55</td>\n",
       "      <td>74.26</td>\n",
       "      <td>17.23</td>\n",
       "      <td>17.23</td>\n",
       "      <td>1.29</td>\n",
       "      <td>1</td>\n",
       "      <td>Lost Customers</td>\n",
       "    </tr>\n",
       "    <tr>\n",
       "      <th>4</th>\n",
       "      <td>12350.0</td>\n",
       "      <td>332</td>\n",
       "      <td>1</td>\n",
       "      <td>334.40</td>\n",
       "      <td>5.26</td>\n",
       "      <td>17.23</td>\n",
       "      <td>17.23</td>\n",
       "      <td>0.77</td>\n",
       "      <td>2</td>\n",
       "      <td>Lost Customers</td>\n",
       "    </tr>\n",
       "    <tr>\n",
       "      <th>...</th>\n",
       "      <td>...</td>\n",
       "      <td>...</td>\n",
       "      <td>...</td>\n",
       "      <td>...</td>\n",
       "      <td>...</td>\n",
       "      <td>...</td>\n",
       "      <td>...</td>\n",
       "      <td>...</td>\n",
       "      <td>...</td>\n",
       "      <td>...</td>\n",
       "    </tr>\n",
       "    <tr>\n",
       "      <th>4334</th>\n",
       "      <td>18280.0</td>\n",
       "      <td>299</td>\n",
       "      <td>1</td>\n",
       "      <td>180.60</td>\n",
       "      <td>8.21</td>\n",
       "      <td>17.23</td>\n",
       "      <td>17.23</td>\n",
       "      <td>0.79</td>\n",
       "      <td>2</td>\n",
       "      <td>Lost Customers</td>\n",
       "    </tr>\n",
       "    <tr>\n",
       "      <th>4335</th>\n",
       "      <td>18281.0</td>\n",
       "      <td>202</td>\n",
       "      <td>1</td>\n",
       "      <td>80.82</td>\n",
       "      <td>19.90</td>\n",
       "      <td>17.23</td>\n",
       "      <td>17.23</td>\n",
       "      <td>0.88</td>\n",
       "      <td>2</td>\n",
       "      <td>Lost Customers</td>\n",
       "    </tr>\n",
       "    <tr>\n",
       "      <th>4336</th>\n",
       "      <td>18282.0</td>\n",
       "      <td>29</td>\n",
       "      <td>2</td>\n",
       "      <td>178.05</td>\n",
       "      <td>88.84</td>\n",
       "      <td>44.07</td>\n",
       "      <td>44.07</td>\n",
       "      <td>2.54</td>\n",
       "      <td>1</td>\n",
       "      <td>Low Value Customers</td>\n",
       "    </tr>\n",
       "    <tr>\n",
       "      <th>4337</th>\n",
       "      <td>18283.0</td>\n",
       "      <td>25</td>\n",
       "      <td>16</td>\n",
       "      <td>2045.53</td>\n",
       "      <td>94.04</td>\n",
       "      <td>96.40</td>\n",
       "      <td>96.40</td>\n",
       "      <td>4.80</td>\n",
       "      <td>3</td>\n",
       "      <td>Top Customers</td>\n",
       "    </tr>\n",
       "    <tr>\n",
       "      <th>4338</th>\n",
       "      <td>18287.0</td>\n",
       "      <td>64</td>\n",
       "      <td>3</td>\n",
       "      <td>1837.28</td>\n",
       "      <td>54.53</td>\n",
       "      <td>59.54</td>\n",
       "      <td>59.54</td>\n",
       "      <td>2.94</td>\n",
       "      <td>3</td>\n",
       "      <td>Low Value Customers</td>\n",
       "    </tr>\n",
       "  </tbody>\n",
       "</table>\n",
       "<p>4339 rows × 10 columns</p>\n",
       "</div>"
      ],
      "text/plain": [
       "      CustomerID  Recency  Frequency  Monetary  R_rank_norm  F_rank_norm  \\\n",
       "0        12346.0      347          1  77183.60         3.76        17.23   \n",
       "1        12347.0       24          7   4310.00        96.17        85.53   \n",
       "2        12348.0       97          4   1797.24        38.08        69.85   \n",
       "3        12349.0       40          1   1757.55        74.26        17.23   \n",
       "4        12350.0      332          1    334.40         5.26        17.23   \n",
       "...          ...      ...        ...       ...          ...          ...   \n",
       "4334     18280.0      299          1    180.60         8.21        17.23   \n",
       "4335     18281.0      202          1     80.82        19.90        17.23   \n",
       "4336     18282.0       29          2    178.05        88.84        44.07   \n",
       "4337     18283.0       25         16   2045.53        94.04        96.40   \n",
       "4338     18287.0       64          3   1837.28        54.53        59.54   \n",
       "\n",
       "      M_rank_norm  RFM_Score  Cluster_No       Customer_segment  \n",
       "0           17.23       0.76           2         Lost Customers  \n",
       "1           85.53       4.36           3    High value Customer  \n",
       "2           69.85       3.25           3  Medium Value Customer  \n",
       "3           17.23       1.29           1         Lost Customers  \n",
       "4           17.23       0.77           2         Lost Customers  \n",
       "...           ...        ...         ...                    ...  \n",
       "4334        17.23       0.79           2         Lost Customers  \n",
       "4335        17.23       0.88           2         Lost Customers  \n",
       "4336        44.07       2.54           1    Low Value Customers  \n",
       "4337        96.40       4.80           3          Top Customers  \n",
       "4338        59.54       2.94           3    Low Value Customers  \n",
       "\n",
       "[4339 rows x 10 columns]"
      ]
     },
     "execution_count": 114,
     "metadata": {},
     "output_type": "execute_result"
    }
   ],
   "source": [
    "rfm_data[\"Customer_segment\"] = np.where(rfm_data['RFM_Score'] >\n",
    "                                      4.5, \"Top Customers\", \n",
    "                                      (np.where(\n",
    "                                        rfm_data['RFM_Score'] > 4,\n",
    "                                        \"High value Customer\",\n",
    "                                        (np.where(\n",
    "    rfm_data['RFM_Score'] > 3,\n",
    "                             \"Medium Value Customer\",\n",
    "                             np.where(rfm_data['RFM_Score'] > 1.6, \n",
    "                            'Low Value Customers', 'Lost Customers'))))))\n",
    "rfm_data\n",
    "# rfm_data[['CustomerID', 'RFM_Score', 'Customer_segment']].head(20)"
   ]
  },
  {
   "cell_type": "code",
   "execution_count": 115,
   "id": "68228d68-332e-432d-b2a0-54fe4a1bd35d",
   "metadata": {
    "tags": []
   },
   "outputs": [
    {
     "data": {
      "image/png": "[encoded data removed]",
      "text/plain": [
       "<Figure size 640x480 with 1 Axes>"
      ]
     },
     "metadata": {},
     "output_type": "display_data"
    }
   ],
   "source": [
    "plt.pie(rfm_data.Customer_segment.value_counts(),\n",
    "        labels=rfm_data.Customer_segment.value_counts().index,\n",
    "        autopct='%.0f%%')\n",
    "plt.show()"
   ]
  },
  {
   "cell_type": "markdown",
   "id": "330cb64c-b6f6-4c4f-aa30-2b49fda9bc8c",
   "metadata": {},
   "source": [
    "**Lost Customers (34%):**\n",
    "- Implement reactivation campaigns to win back these customers. Offer them incentives, discounts, and personalized promotions to encourage them to return.\n",
    "\n",
    "**Top Customers (8%):**\n",
    "- Continue providing top-notch services and exclusive benefits to maintain their loyalty. Offer them VIP experiences and early access to new products.\n",
    "\n",
    "**High-Value Customers (10%):**\n",
    "- Recognize and reward their loyalty with loyalty programs and special offers. Encourage them to refer friends and family to expand your customer base.\n",
    "\n",
    "**Medium-Value Customers (21%):**\n",
    "- Provide regular discounts, offers, and incentives to keep them engaged. Implement a customer retention strategy to prevent them from moving to the low-value segment.\n",
    "\n",
    "**Low-Value Customers (27%):**\n",
    "- Target these customers with upselling and cross-selling strategies. Offer them personalized recommendations to increase their spending and move them up to the medium or high-value segments.\n",
    "\n",
    "These recommendations are designed to help you optimize customer retention, increase customer lifetime value, and grow your business by addressing the specific needs of each customer segment.\n"
   ]
  },
  {
   "cell_type": "code",
   "execution_count": 116,
   "id": "f3c5f919-839d-40e2-92de-f77e111f8eda",
   "metadata": {
    "tags": []
   },
   "outputs": [],
   "source": [
    "rfm_data.to_csv('RFM.csv', sep='\\t', index=False,header=True)"
   ]
  },
  {
   "cell_type": "markdown",
   "id": "fb721c50-8dc3-470a-885e-b1e13806ed6e",
   "metadata": {},
   "source": [
    "<h2> Market Basket Analysis</h2>"
   ]
  },
  {
   "cell_type": "markdown",
   "id": "11f04c87-42c3-4c1d-9a87-538984d73774",
   "metadata": {},
   "source": [
    "Association rules are generated using the Apriori algorithm, which is a popular algorithm for discovering interesting relationships or associations among items in a dataset. Association rule mining is commonly used in market basket analysis, where the goal is to find associations between items frequently purchased together.\n",
    "\n",
    "The generated association rules provide insights into the relationships between different items or itemsets in the dataset. Each association rule consists of two parts: the antecedent (or left-hand side) and the consequent (or right-hand side). The antecedent represents the item(s) or itemset(s) that act as a condition or premise, while the consequent represents the item(s) or itemset(s) that are predicted or inferred from the antecedent.\n",
    "\n",
    "The association rules are evaluated based on different metrics, such as support, confidence, lift, leverage, and conviction. These metrics provide measures of the interestingness or strength of the rules.\n",
    "\n",
    "- **Support:** Measures the proportion of transactions in the dataset that contain both the antecedent and the consequent.\n",
    "- **Confidence:** Measures the conditional probability of the consequent given the antecedent.\n",
    "- **Lift:** Measures the ratio of observed support to expected support, indicating the strength of the association between the antecedent and the consequent.\n",
    "- **Leverage:** Measures the difference between the observed support and the expected support, indicating the significance of the association.\n",
    "- **Conviction:** Measures the ratio of the expected confidence to the observed confidence, indicating the degree of dependency between the antecedent and the consequent.\n",
    "\n",
    "\n",
    "By examining the association rules, you can identify interesting relationships, co-occurrences, or patterns among items, which can be used for various purposes such as product recommendation, market segmentation, or inventory management.\n",
    "\n",
    "To generate the association rules, we use the Apriori algorithm with a minimum support threshold of 0.05 (5%). This ensures that only itemsets with sufficient frequency in the dataset are considered.\n",
    "\n",
    "Let's explore the generated association rules:\n",
    "\n"
   ]
  },
  {
   "cell_type": "markdown",
   "id": "3370d6b5-7200-4088-a065-a0be01a072e8",
   "metadata": {},
   "source": [
    "![Sample Image](download.png)"
   ]
  },
  {
   "cell_type": "code",
   "execution_count": 117,
   "id": "f1d03a5b-6593-4e4f-9caa-ecd8540df27d",
   "metadata": {
    "tags": []
   },
   "outputs": [],
   "source": [
    "data_apr = df.groupby([\"InvoiceNo\", \"Description\"])[[\"Quantity\"]].sum(\n",
    ").unstack().reset_index().fillna(0).set_index(\"InvoiceNo\")"
   ]
  },
  {
   "cell_type": "code",
   "execution_count": 118,
   "id": "e56f02f7-a810-471c-a4ce-0e59cd38c528",
   "metadata": {
    "tags": []
   },
   "outputs": [
    {
     "data": {
      "text/html": [
       "<div>\n",
       "<style scoped>\n",
       "    .dataframe tbody tr th:only-of-type {\n",
       "        vertical-align: middle;\n",
       "    }\n",
       "\n",
       "    .dataframe tbody tr th {\n",
       "        vertical-align: top;\n",
       "    }\n",
       "\n",
       "    .dataframe thead tr th {\n",
       "        text-align: left;\n",
       "    }\n",
       "\n",
       "    .dataframe thead tr:last-of-type th {\n",
       "        text-align: right;\n",
       "    }\n",
       "</style>\n",
       "<table border=\"1\" class=\"dataframe\">\n",
       "  <thead>\n",
       "    <tr>\n",
       "      <th></th>\n",
       "      <th colspan=\"21\" halign=\"left\">Quantity</th>\n",
       "    </tr>\n",
       "    <tr>\n",
       "      <th>Description</th>\n",
       "      <th>20713</th>\n",
       "      <th>4 PURPLE FLOCK DINNER CANDLES</th>\n",
       "      <th>50'S CHRISTMAS GIFT BAG LARGE</th>\n",
       "      <th>DOLLY GIRL BEAKER</th>\n",
       "      <th>I LOVE LONDON MINI BACKPACK</th>\n",
       "      <th>I LOVE LONDON MINI RUCKSACK</th>\n",
       "      <th>NINE DRAWER OFFICE TIDY</th>\n",
       "      <th>OVAL WALL MIRROR DIAMANTE</th>\n",
       "      <th>RED SPOT GIFT BAG LARGE</th>\n",
       "      <th>SET 2 TEA TOWELS I LOVE LONDON</th>\n",
       "      <th>...</th>\n",
       "      <th>wrongly coded 20713</th>\n",
       "      <th>wrongly coded 23343</th>\n",
       "      <th>wrongly coded-23343</th>\n",
       "      <th>wrongly marked</th>\n",
       "      <th>wrongly marked 23343</th>\n",
       "      <th>wrongly marked carton 22804</th>\n",
       "      <th>wrongly marked. 23343 in box</th>\n",
       "      <th>wrongly sold (22719) barcode</th>\n",
       "      <th>wrongly sold as sets</th>\n",
       "      <th>wrongly sold sets</th>\n",
       "    </tr>\n",
       "    <tr>\n",
       "      <th>InvoiceNo</th>\n",
       "      <th></th>\n",
       "      <th></th>\n",
       "      <th></th>\n",
       "      <th></th>\n",
       "      <th></th>\n",
       "      <th></th>\n",
       "      <th></th>\n",
       "      <th></th>\n",
       "      <th></th>\n",
       "      <th></th>\n",
       "      <th></th>\n",
       "      <th></th>\n",
       "      <th></th>\n",
       "      <th></th>\n",
       "      <th></th>\n",
       "      <th></th>\n",
       "      <th></th>\n",
       "      <th></th>\n",
       "      <th></th>\n",
       "      <th></th>\n",
       "      <th></th>\n",
       "    </tr>\n",
       "  </thead>\n",
       "  <tbody>\n",
       "    <tr>\n",
       "      <th>536365</th>\n",
       "      <td>0.0</td>\n",
       "      <td>0.0</td>\n",
       "      <td>0.0</td>\n",
       "      <td>0.0</td>\n",
       "      <td>0.0</td>\n",
       "      <td>0.0</td>\n",
       "      <td>0.0</td>\n",
       "      <td>0.0</td>\n",
       "      <td>0.0</td>\n",
       "      <td>0.0</td>\n",
       "      <td>...</td>\n",
       "      <td>0.0</td>\n",
       "      <td>0.0</td>\n",
       "      <td>0.0</td>\n",
       "      <td>0.0</td>\n",
       "      <td>0.0</td>\n",
       "      <td>0.0</td>\n",
       "      <td>0.0</td>\n",
       "      <td>0.0</td>\n",
       "      <td>0.0</td>\n",
       "      <td>0.0</td>\n",
       "    </tr>\n",
       "    <tr>\n",
       "      <th>536366</th>\n",
       "      <td>0.0</td>\n",
       "      <td>0.0</td>\n",
       "      <td>0.0</td>\n",
       "      <td>0.0</td>\n",
       "      <td>0.0</td>\n",
       "      <td>0.0</td>\n",
       "      <td>0.0</td>\n",
       "      <td>0.0</td>\n",
       "      <td>0.0</td>\n",
       "      <td>0.0</td>\n",
       "      <td>...</td>\n",
       "      <td>0.0</td>\n",
       "      <td>0.0</td>\n",
       "      <td>0.0</td>\n",
       "      <td>0.0</td>\n",
       "      <td>0.0</td>\n",
       "      <td>0.0</td>\n",
       "      <td>0.0</td>\n",
       "      <td>0.0</td>\n",
       "      <td>0.0</td>\n",
       "      <td>0.0</td>\n",
       "    </tr>\n",
       "    <tr>\n",
       "      <th>536367</th>\n",
       "      <td>0.0</td>\n",
       "      <td>0.0</td>\n",
       "      <td>0.0</td>\n",
       "      <td>0.0</td>\n",
       "      <td>0.0</td>\n",
       "      <td>0.0</td>\n",
       "      <td>0.0</td>\n",
       "      <td>0.0</td>\n",
       "      <td>0.0</td>\n",
       "      <td>0.0</td>\n",
       "      <td>...</td>\n",
       "      <td>0.0</td>\n",
       "      <td>0.0</td>\n",
       "      <td>0.0</td>\n",
       "      <td>0.0</td>\n",
       "      <td>0.0</td>\n",
       "      <td>0.0</td>\n",
       "      <td>0.0</td>\n",
       "      <td>0.0</td>\n",
       "      <td>0.0</td>\n",
       "      <td>0.0</td>\n",
       "    </tr>\n",
       "    <tr>\n",
       "      <th>536368</th>\n",
       "      <td>0.0</td>\n",
       "      <td>0.0</td>\n",
       "      <td>0.0</td>\n",
       "      <td>0.0</td>\n",
       "      <td>0.0</td>\n",
       "      <td>0.0</td>\n",
       "      <td>0.0</td>\n",
       "      <td>0.0</td>\n",
       "      <td>0.0</td>\n",
       "      <td>0.0</td>\n",
       "      <td>...</td>\n",
       "      <td>0.0</td>\n",
       "      <td>0.0</td>\n",
       "      <td>0.0</td>\n",
       "      <td>0.0</td>\n",
       "      <td>0.0</td>\n",
       "      <td>0.0</td>\n",
       "      <td>0.0</td>\n",
       "      <td>0.0</td>\n",
       "      <td>0.0</td>\n",
       "      <td>0.0</td>\n",
       "    </tr>\n",
       "    <tr>\n",
       "      <th>536369</th>\n",
       "      <td>0.0</td>\n",
       "      <td>0.0</td>\n",
       "      <td>0.0</td>\n",
       "      <td>0.0</td>\n",
       "      <td>0.0</td>\n",
       "      <td>0.0</td>\n",
       "      <td>0.0</td>\n",
       "      <td>0.0</td>\n",
       "      <td>0.0</td>\n",
       "      <td>0.0</td>\n",
       "      <td>...</td>\n",
       "      <td>0.0</td>\n",
       "      <td>0.0</td>\n",
       "      <td>0.0</td>\n",
       "      <td>0.0</td>\n",
       "      <td>0.0</td>\n",
       "      <td>0.0</td>\n",
       "      <td>0.0</td>\n",
       "      <td>0.0</td>\n",
       "      <td>0.0</td>\n",
       "      <td>0.0</td>\n",
       "    </tr>\n",
       "  </tbody>\n",
       "</table>\n",
       "<p>5 rows × 4207 columns</p>\n",
       "</div>"
      ],
      "text/plain": [
       "            Quantity                                 \\\n",
       "Description    20713  4 PURPLE FLOCK DINNER CANDLES   \n",
       "InvoiceNo                                             \n",
       "536365           0.0                            0.0   \n",
       "536366           0.0                            0.0   \n",
       "536367           0.0                            0.0   \n",
       "536368           0.0                            0.0   \n",
       "536369           0.0                            0.0   \n",
       "\n",
       "                                                               \\\n",
       "Description  50'S CHRISTMAS GIFT BAG LARGE  DOLLY GIRL BEAKER   \n",
       "InvoiceNo                                                       \n",
       "536365                                 0.0                0.0   \n",
       "536366                                 0.0                0.0   \n",
       "536367                                 0.0                0.0   \n",
       "536368                                 0.0                0.0   \n",
       "536369                                 0.0                0.0   \n",
       "\n",
       "                                                                       \\\n",
       "Description  I LOVE LONDON MINI BACKPACK  I LOVE LONDON MINI RUCKSACK   \n",
       "InvoiceNo                                                               \n",
       "536365                               0.0                          0.0   \n",
       "536366                               0.0                          0.0   \n",
       "536367                               0.0                          0.0   \n",
       "536368                               0.0                          0.0   \n",
       "536369                               0.0                          0.0   \n",
       "\n",
       "                                                                  \\\n",
       "Description  NINE DRAWER OFFICE TIDY  OVAL WALL MIRROR DIAMANTE    \n",
       "InvoiceNo                                                          \n",
       "536365                           0.0                         0.0   \n",
       "536366                           0.0                         0.0   \n",
       "536367                           0.0                         0.0   \n",
       "536368                           0.0                         0.0   \n",
       "536369                           0.0                         0.0   \n",
       "\n",
       "                                                                       ...  \\\n",
       "Description  RED SPOT GIFT BAG LARGE  SET 2 TEA TOWELS I LOVE LONDON   ...   \n",
       "InvoiceNo                                                              ...   \n",
       "536365                           0.0                              0.0  ...   \n",
       "536366                           0.0                              0.0  ...   \n",
       "536367                           0.0                              0.0  ...   \n",
       "536368                           0.0                              0.0  ...   \n",
       "536369                           0.0                              0.0  ...   \n",
       "\n",
       "                                                                         \\\n",
       "Description wrongly coded 20713 wrongly coded 23343 wrongly coded-23343   \n",
       "InvoiceNo                                                                 \n",
       "536365                      0.0                 0.0                 0.0   \n",
       "536366                      0.0                 0.0                 0.0   \n",
       "536367                      0.0                 0.0                 0.0   \n",
       "536368                      0.0                 0.0                 0.0   \n",
       "536369                      0.0                 0.0                 0.0   \n",
       "\n",
       "                                                                             \\\n",
       "Description wrongly marked wrongly marked 23343 wrongly marked carton 22804   \n",
       "InvoiceNo                                                                     \n",
       "536365                 0.0                  0.0                         0.0   \n",
       "536366                 0.0                  0.0                         0.0   \n",
       "536367                 0.0                  0.0                         0.0   \n",
       "536368                 0.0                  0.0                         0.0   \n",
       "536369                 0.0                  0.0                         0.0   \n",
       "\n",
       "                                                                       \\\n",
       "Description wrongly marked. 23343 in box wrongly sold (22719) barcode   \n",
       "InvoiceNo                                                               \n",
       "536365                               0.0                          0.0   \n",
       "536366                               0.0                          0.0   \n",
       "536367                               0.0                          0.0   \n",
       "536368                               0.0                          0.0   \n",
       "536369                               0.0                          0.0   \n",
       "\n",
       "                                                    \n",
       "Description wrongly sold as sets wrongly sold sets  \n",
       "InvoiceNo                                           \n",
       "536365                       0.0               0.0  \n",
       "536366                       0.0               0.0  \n",
       "536367                       0.0               0.0  \n",
       "536368                       0.0               0.0  \n",
       "536369                       0.0               0.0  \n",
       "\n",
       "[5 rows x 4207 columns]"
      ]
     },
     "execution_count": 118,
     "metadata": {},
     "output_type": "execute_result"
    }
   ],
   "source": [
    "data_apr.head()"
   ]
  },
  {
   "cell_type": "code",
   "execution_count": 119,
   "id": "2d03f116-637c-4905-ae4c-82aa4720a335",
   "metadata": {
    "tags": []
   },
   "outputs": [],
   "source": [
    "def num(x):\n",
    "    if x <= 0:\n",
    "        return 0\n",
    "    elif x >=1:\n",
    "        return 1\n",
    "basket_new = data_apr.applymap(num)"
   ]
  },
  {
   "cell_type": "code",
   "execution_count": 120,
   "id": "3aba2fc8-dc06-4af4-94b1-b1abd11e01de",
   "metadata": {
    "tags": []
   },
   "outputs": [
    {
     "data": {
      "text/plain": [
       "          Description                   \n",
       "Quantity  20713                             1\n",
       "           4 PURPLE FLOCK DINNER CANDLES    2\n",
       "           50'S CHRISTMAS GIFT BAG LARGE    2\n",
       "           DOLLY GIRL BEAKER                2\n",
       "           I LOVE LONDON MINI BACKPACK      2\n",
       "                                           ..\n",
       "          wrongly marked carton 22804       1\n",
       "          wrongly marked. 23343 in box      1\n",
       "          wrongly sold (22719) barcode      2\n",
       "          wrongly sold as sets              1\n",
       "          wrongly sold sets                 1\n",
       "Length: 4207, dtype: int64"
      ]
     },
     "execution_count": 120,
     "metadata": {},
     "output_type": "execute_result"
    }
   ],
   "source": [
    "basket_new.nunique()"
   ]
  },
  {
   "cell_type": "code",
   "execution_count": 121,
   "id": "ded1d34c-5ae9-41b1-9a30-e4c46626b092",
   "metadata": {
    "tags": []
   },
   "outputs": [
    {
     "name": "stderr",
     "output_type": "stream",
     "text": [
      "C:\\Users\\Pita ji\\anaconda3\\Lib\\site-packages\\mlxtend\\frequent_patterns\\fpcommon.py:110: DeprecationWarning: DataFrames with non-bool types result in worse computationalperformance and their support might be discontinued in the future.Please use a DataFrame with bool type\n",
      "  warnings.warn(\n"
     ]
    },
    {
     "data": {
      "text/html": [
       "<div>\n",
       "<style scoped>\n",
       "    .dataframe tbody tr th:only-of-type {\n",
       "        vertical-align: middle;\n",
       "    }\n",
       "\n",
       "    .dataframe tbody tr th {\n",
       "        vertical-align: top;\n",
       "    }\n",
       "\n",
       "    .dataframe thead th {\n",
       "        text-align: right;\n",
       "    }\n",
       "</style>\n",
       "<table border=\"1\" class=\"dataframe\">\n",
       "  <thead>\n",
       "    <tr style=\"text-align: right;\">\n",
       "      <th></th>\n",
       "      <th>support</th>\n",
       "      <th>itemsets</th>\n",
       "    </tr>\n",
       "  </thead>\n",
       "  <tbody>\n",
       "    <tr>\n",
       "      <th>260</th>\n",
       "      <td>0.109656</td>\n",
       "      <td>((Quantity, WHITE HANGING HEART T-LIGHT HOLDER))</td>\n",
       "    </tr>\n",
       "    <tr>\n",
       "      <th>100</th>\n",
       "      <td>0.101504</td>\n",
       "      <td>((Quantity, JUMBO BAG RED RETROSPOT))</td>\n",
       "    </tr>\n",
       "    <tr>\n",
       "      <th>193</th>\n",
       "      <td>0.096507</td>\n",
       "      <td>((Quantity, REGENCY CAKESTAND 3 TIER))</td>\n",
       "    </tr>\n",
       "    <tr>\n",
       "      <th>154</th>\n",
       "      <td>0.081805</td>\n",
       "      <td>((Quantity, PARTY BUNTING))</td>\n",
       "    </tr>\n",
       "    <tr>\n",
       "      <th>125</th>\n",
       "      <td>0.075885</td>\n",
       "      <td>((Quantity, LUNCH BAG RED RETROSPOT))</td>\n",
       "    </tr>\n",
       "    <tr>\n",
       "      <th>...</th>\n",
       "      <td>...</td>\n",
       "      <td>...</td>\n",
       "    </tr>\n",
       "    <tr>\n",
       "      <th>296</th>\n",
       "      <td>0.020087</td>\n",
       "      <td>((Quantity, JUMBO BAG RED RETROSPOT), (Quantit...</td>\n",
       "    </tr>\n",
       "    <tr>\n",
       "      <th>310</th>\n",
       "      <td>0.020087</td>\n",
       "      <td>((Quantity, JUMBO STORAGE BAG SKULLS), (Quanti...</td>\n",
       "    </tr>\n",
       "    <tr>\n",
       "      <th>61</th>\n",
       "      <td>0.020039</td>\n",
       "      <td>((Quantity, FELTCRAFT PRINCESS LOLA DOLL))</td>\n",
       "    </tr>\n",
       "    <tr>\n",
       "      <th>67</th>\n",
       "      <td>0.020039</td>\n",
       "      <td>((Quantity, GINGHAM HEART DECORATION))</td>\n",
       "    </tr>\n",
       "    <tr>\n",
       "      <th>351</th>\n",
       "      <td>0.020039</td>\n",
       "      <td>((Quantity, JUMBO STORAGE BAG SUKI), (Quantity...</td>\n",
       "    </tr>\n",
       "  </tbody>\n",
       "</table>\n",
       "<p>352 rows × 2 columns</p>\n",
       "</div>"
      ],
      "text/plain": [
       "      support                                           itemsets\n",
       "260  0.109656   ((Quantity, WHITE HANGING HEART T-LIGHT HOLDER))\n",
       "100  0.101504              ((Quantity, JUMBO BAG RED RETROSPOT))\n",
       "193  0.096507             ((Quantity, REGENCY CAKESTAND 3 TIER))\n",
       "154  0.081805                        ((Quantity, PARTY BUNTING))\n",
       "125  0.075885              ((Quantity, LUNCH BAG RED RETROSPOT))\n",
       "..        ...                                                ...\n",
       "296  0.020087  ((Quantity, JUMBO BAG RED RETROSPOT), (Quantit...\n",
       "310  0.020087  ((Quantity, JUMBO STORAGE BAG SKULLS), (Quanti...\n",
       "61   0.020039         ((Quantity, FELTCRAFT PRINCESS LOLA DOLL))\n",
       "67   0.020039             ((Quantity, GINGHAM HEART DECORATION))\n",
       "351  0.020039  ((Quantity, JUMBO STORAGE BAG SUKI), (Quantity...\n",
       "\n",
       "[352 rows x 2 columns]"
      ]
     },
     "execution_count": 121,
     "metadata": {},
     "output_type": "execute_result"
    }
   ],
   "source": [
    "from mlxtend.frequent_patterns import apriori\n",
    "\n",
    "apr = apriori(basket_new, min_support = 0.02, use_colnames = True)\n",
    "apr.sort_values(by = \"support\", ascending = False)"
   ]
  },
  {
   "cell_type": "code",
   "execution_count": 122,
   "id": "fc2136b6-105c-44d2-b2e8-e67038c64b5e",
   "metadata": {
    "tags": []
   },
   "outputs": [
    {
     "data": {
      "text/html": [
       "<div>\n",
       "<style scoped>\n",
       "    .dataframe tbody tr th:only-of-type {\n",
       "        vertical-align: middle;\n",
       "    }\n",
       "\n",
       "    .dataframe tbody tr th {\n",
       "        vertical-align: top;\n",
       "    }\n",
       "\n",
       "    .dataframe thead th {\n",
       "        text-align: right;\n",
       "    }\n",
       "</style>\n",
       "<table border=\"1\" class=\"dataframe\">\n",
       "  <thead>\n",
       "    <tr style=\"text-align: right;\">\n",
       "      <th></th>\n",
       "      <th>support</th>\n",
       "      <th>itemsets</th>\n",
       "    </tr>\n",
       "  </thead>\n",
       "  <tbody>\n",
       "    <tr>\n",
       "      <th>0</th>\n",
       "      <td>0.022707</td>\n",
       "      <td>((Quantity, 3 STRIPEY MICE FELTCRAFT))</td>\n",
       "    </tr>\n",
       "    <tr>\n",
       "      <th>1</th>\n",
       "      <td>0.023484</td>\n",
       "      <td>((Quantity, 4 TRADITIONAL SPINNING TOPS))</td>\n",
       "    </tr>\n",
       "    <tr>\n",
       "      <th>2</th>\n",
       "      <td>0.046337</td>\n",
       "      <td>((Quantity, 6 RIBBONS RUSTIC CHARM))</td>\n",
       "    </tr>\n",
       "    <tr>\n",
       "      <th>3</th>\n",
       "      <td>0.021203</td>\n",
       "      <td>((Quantity, 60 CAKE CASES DOLLY GIRL DESIGN))</td>\n",
       "    </tr>\n",
       "    <tr>\n",
       "      <th>4</th>\n",
       "      <td>0.029985</td>\n",
       "      <td>((Quantity, 60 CAKE CASES VINTAGE CHRISTMAS))</td>\n",
       "    </tr>\n",
       "    <tr>\n",
       "      <th>...</th>\n",
       "      <td>...</td>\n",
       "      <td>...</td>\n",
       "    </tr>\n",
       "    <tr>\n",
       "      <th>347</th>\n",
       "      <td>0.024551</td>\n",
       "      <td>((Quantity, RED RETROSPOT CHARLOTTE BAG), (Qua...</td>\n",
       "    </tr>\n",
       "    <tr>\n",
       "      <th>348</th>\n",
       "      <td>0.025473</td>\n",
       "      <td>((Quantity, ROSES REGENCY TEACUP AND SAUCER ),...</td>\n",
       "    </tr>\n",
       "    <tr>\n",
       "      <th>349</th>\n",
       "      <td>0.026152</td>\n",
       "      <td>((Quantity, WOODEN FRAME ANTIQUE WHITE ), (Qua...</td>\n",
       "    </tr>\n",
       "    <tr>\n",
       "      <th>350</th>\n",
       "      <td>0.026298</td>\n",
       "      <td>((Quantity, GREEN REGENCY TEACUP AND SAUCER), ...</td>\n",
       "    </tr>\n",
       "    <tr>\n",
       "      <th>351</th>\n",
       "      <td>0.020039</td>\n",
       "      <td>((Quantity, JUMBO STORAGE BAG SUKI), (Quantity...</td>\n",
       "    </tr>\n",
       "  </tbody>\n",
       "</table>\n",
       "<p>352 rows × 2 columns</p>\n",
       "</div>"
      ],
      "text/plain": [
       "      support                                           itemsets\n",
       "0    0.022707             ((Quantity, 3 STRIPEY MICE FELTCRAFT))\n",
       "1    0.023484          ((Quantity, 4 TRADITIONAL SPINNING TOPS))\n",
       "2    0.046337               ((Quantity, 6 RIBBONS RUSTIC CHARM))\n",
       "3    0.021203      ((Quantity, 60 CAKE CASES DOLLY GIRL DESIGN))\n",
       "4    0.029985      ((Quantity, 60 CAKE CASES VINTAGE CHRISTMAS))\n",
       "..        ...                                                ...\n",
       "347  0.024551  ((Quantity, RED RETROSPOT CHARLOTTE BAG), (Qua...\n",
       "348  0.025473  ((Quantity, ROSES REGENCY TEACUP AND SAUCER ),...\n",
       "349  0.026152  ((Quantity, WOODEN FRAME ANTIQUE WHITE ), (Qua...\n",
       "350  0.026298  ((Quantity, GREEN REGENCY TEACUP AND SAUCER), ...\n",
       "351  0.020039  ((Quantity, JUMBO STORAGE BAG SUKI), (Quantity...\n",
       "\n",
       "[352 rows x 2 columns]"
      ]
     },
     "execution_count": 122,
     "metadata": {},
     "output_type": "execute_result"
    }
   ],
   "source": [
    "apr"
   ]
  },
  {
   "cell_type": "code",
   "execution_count": 123,
   "id": "99e85b18-db45-48fd-8355-98940a7fec6f",
   "metadata": {
    "tags": []
   },
   "outputs": [
    {
     "data": {
      "text/html": [
       "<div>\n",
       "<style scoped>\n",
       "    .dataframe tbody tr th:only-of-type {\n",
       "        vertical-align: middle;\n",
       "    }\n",
       "\n",
       "    .dataframe tbody tr th {\n",
       "        vertical-align: top;\n",
       "    }\n",
       "\n",
       "    .dataframe thead th {\n",
       "        text-align: right;\n",
       "    }\n",
       "</style>\n",
       "<table border=\"1\" class=\"dataframe\">\n",
       "  <thead>\n",
       "    <tr style=\"text-align: right;\">\n",
       "      <th></th>\n",
       "      <th>antecedents</th>\n",
       "      <th>consequents</th>\n",
       "      <th>antecedent support</th>\n",
       "      <th>consequent support</th>\n",
       "      <th>support</th>\n",
       "      <th>confidence</th>\n",
       "      <th>lift</th>\n",
       "      <th>leverage</th>\n",
       "      <th>conviction</th>\n",
       "      <th>zhangs_metric</th>\n",
       "    </tr>\n",
       "  </thead>\n",
       "  <tbody>\n",
       "    <tr>\n",
       "      <th>150</th>\n",
       "      <td>((Quantity, ROSES REGENCY TEACUP AND SAUCER ),...</td>\n",
       "      <td>((Quantity, GREEN REGENCY TEACUP AND SAUCER))</td>\n",
       "      <td>0.029064</td>\n",
       "      <td>0.049248</td>\n",
       "      <td>0.026298</td>\n",
       "      <td>0.904841</td>\n",
       "      <td>18.373184</td>\n",
       "      <td>0.024867</td>\n",
       "      <td>9.991237</td>\n",
       "      <td>0.973877</td>\n",
       "    </tr>\n",
       "    <tr>\n",
       "      <th>149</th>\n",
       "      <td>((Quantity, GREEN REGENCY TEACUP AND SAUCER), ...</td>\n",
       "      <td>((Quantity, ROSES REGENCY TEACUP AND SAUCER ))</td>\n",
       "      <td>0.030713</td>\n",
       "      <td>0.051722</td>\n",
       "      <td>0.026298</td>\n",
       "      <td>0.856240</td>\n",
       "      <td>16.554511</td>\n",
       "      <td>0.024709</td>\n",
       "      <td>6.596260</td>\n",
       "      <td>0.969366</td>\n",
       "    </tr>\n",
       "    <tr>\n",
       "      <th>23</th>\n",
       "      <td>((Quantity, PINK REGENCY TEACUP AND SAUCER))</td>\n",
       "      <td>((Quantity, GREEN REGENCY TEACUP AND SAUCER))</td>\n",
       "      <td>0.037166</td>\n",
       "      <td>0.049248</td>\n",
       "      <td>0.030713</td>\n",
       "      <td>0.826371</td>\n",
       "      <td>16.779804</td>\n",
       "      <td>0.028883</td>\n",
       "      <td>5.475760</td>\n",
       "      <td>0.976705</td>\n",
       "    </tr>\n",
       "    <tr>\n",
       "      <th>155</th>\n",
       "      <td>((Quantity, JUMBO STORAGE BAG SUKI), (Quantity...</td>\n",
       "      <td>((Quantity, JUMBO BAG RED RETROSPOT))</td>\n",
       "      <td>0.024988</td>\n",
       "      <td>0.101504</td>\n",
       "      <td>0.020039</td>\n",
       "      <td>0.801942</td>\n",
       "      <td>7.900583</td>\n",
       "      <td>0.017502</td>\n",
       "      <td>4.536523</td>\n",
       "      <td>0.895811</td>\n",
       "    </tr>\n",
       "    <tr>\n",
       "      <th>137</th>\n",
       "      <td>((Quantity, PINK REGENCY TEACUP AND SAUCER))</td>\n",
       "      <td>((Quantity, ROSES REGENCY TEACUP AND SAUCER ))</td>\n",
       "      <td>0.037166</td>\n",
       "      <td>0.051722</td>\n",
       "      <td>0.029064</td>\n",
       "      <td>0.781984</td>\n",
       "      <td>15.118853</td>\n",
       "      <td>0.027141</td>\n",
       "      <td>4.349584</td>\n",
       "      <td>0.969905</td>\n",
       "    </tr>\n",
       "    <tr>\n",
       "      <th>...</th>\n",
       "      <td>...</td>\n",
       "      <td>...</td>\n",
       "      <td>...</td>\n",
       "      <td>...</td>\n",
       "      <td>...</td>\n",
       "      <td>...</td>\n",
       "      <td>...</td>\n",
       "      <td>...</td>\n",
       "      <td>...</td>\n",
       "      <td>...</td>\n",
       "    </tr>\n",
       "    <tr>\n",
       "      <th>74</th>\n",
       "      <td>((Quantity, JUMBO BAG RED RETROSPOT))</td>\n",
       "      <td>((Quantity, RECYCLING BAG RETROSPOT ))</td>\n",
       "      <td>0.101504</td>\n",
       "      <td>0.036293</td>\n",
       "      <td>0.020136</td>\n",
       "      <td>0.198375</td>\n",
       "      <td>5.465914</td>\n",
       "      <td>0.016452</td>\n",
       "      <td>1.202191</td>\n",
       "      <td>0.909351</td>\n",
       "    </tr>\n",
       "    <tr>\n",
       "      <th>69</th>\n",
       "      <td>((Quantity, JUMBO BAG RED RETROSPOT))</td>\n",
       "      <td>((Quantity, JUMBO STORAGE BAG SKULLS))</td>\n",
       "      <td>0.101504</td>\n",
       "      <td>0.034207</td>\n",
       "      <td>0.020087</td>\n",
       "      <td>0.197897</td>\n",
       "      <td>5.785322</td>\n",
       "      <td>0.016615</td>\n",
       "      <td>1.204076</td>\n",
       "      <td>0.920593</td>\n",
       "    </tr>\n",
       "    <tr>\n",
       "      <th>40</th>\n",
       "      <td>((Quantity, JUMBO BAG RED RETROSPOT))</td>\n",
       "      <td>((Quantity, JUMBO BAG ALPHABET))</td>\n",
       "      <td>0.101504</td>\n",
       "      <td>0.043959</td>\n",
       "      <td>0.020087</td>\n",
       "      <td>0.197897</td>\n",
       "      <td>4.501823</td>\n",
       "      <td>0.015625</td>\n",
       "      <td>1.191917</td>\n",
       "      <td>0.865744</td>\n",
       "    </tr>\n",
       "    <tr>\n",
       "      <th>158</th>\n",
       "      <td>((Quantity, JUMBO BAG RED RETROSPOT))</td>\n",
       "      <td>((Quantity, JUMBO STORAGE BAG SUKI), (Quantity...</td>\n",
       "      <td>0.101504</td>\n",
       "      <td>0.024988</td>\n",
       "      <td>0.020039</td>\n",
       "      <td>0.197419</td>\n",
       "      <td>7.900583</td>\n",
       "      <td>0.017502</td>\n",
       "      <td>1.214845</td>\n",
       "      <td>0.972099</td>\n",
       "    </tr>\n",
       "    <tr>\n",
       "      <th>128</th>\n",
       "      <td>((Quantity, WHITE HANGING HEART T-LIGHT HOLDER))</td>\n",
       "      <td>((Quantity, NATURAL SLATE HEART CHALKBOARD ))</td>\n",
       "      <td>0.109656</td>\n",
       "      <td>0.060602</td>\n",
       "      <td>0.020136</td>\n",
       "      <td>0.183628</td>\n",
       "      <td>3.030088</td>\n",
       "      <td>0.013491</td>\n",
       "      <td>1.150699</td>\n",
       "      <td>0.752491</td>\n",
       "    </tr>\n",
       "  </tbody>\n",
       "</table>\n",
       "<p>160 rows × 10 columns</p>\n",
       "</div>"
      ],
      "text/plain": [
       "                                           antecedents  \\\n",
       "150  ((Quantity, ROSES REGENCY TEACUP AND SAUCER ),...   \n",
       "149  ((Quantity, GREEN REGENCY TEACUP AND SAUCER), ...   \n",
       "23        ((Quantity, PINK REGENCY TEACUP AND SAUCER))   \n",
       "155  ((Quantity, JUMBO STORAGE BAG SUKI), (Quantity...   \n",
       "137       ((Quantity, PINK REGENCY TEACUP AND SAUCER))   \n",
       "..                                                 ...   \n",
       "74               ((Quantity, JUMBO BAG RED RETROSPOT))   \n",
       "69               ((Quantity, JUMBO BAG RED RETROSPOT))   \n",
       "40               ((Quantity, JUMBO BAG RED RETROSPOT))   \n",
       "158              ((Quantity, JUMBO BAG RED RETROSPOT))   \n",
       "128   ((Quantity, WHITE HANGING HEART T-LIGHT HOLDER))   \n",
       "\n",
       "                                           consequents  antecedent support  \\\n",
       "150      ((Quantity, GREEN REGENCY TEACUP AND SAUCER))            0.029064   \n",
       "149     ((Quantity, ROSES REGENCY TEACUP AND SAUCER ))            0.030713   \n",
       "23       ((Quantity, GREEN REGENCY TEACUP AND SAUCER))            0.037166   \n",
       "155              ((Quantity, JUMBO BAG RED RETROSPOT))            0.024988   \n",
       "137     ((Quantity, ROSES REGENCY TEACUP AND SAUCER ))            0.037166   \n",
       "..                                                 ...                 ...   \n",
       "74              ((Quantity, RECYCLING BAG RETROSPOT ))            0.101504   \n",
       "69              ((Quantity, JUMBO STORAGE BAG SKULLS))            0.101504   \n",
       "40                    ((Quantity, JUMBO BAG ALPHABET))            0.101504   \n",
       "158  ((Quantity, JUMBO STORAGE BAG SUKI), (Quantity...            0.101504   \n",
       "128      ((Quantity, NATURAL SLATE HEART CHALKBOARD ))            0.109656   \n",
       "\n",
       "     consequent support   support  confidence       lift  leverage  \\\n",
       "150            0.049248  0.026298    0.904841  18.373184  0.024867   \n",
       "149            0.051722  0.026298    0.856240  16.554511  0.024709   \n",
       "23             0.049248  0.030713    0.826371  16.779804  0.028883   \n",
       "155            0.101504  0.020039    0.801942   7.900583  0.017502   \n",
       "137            0.051722  0.029064    0.781984  15.118853  0.027141   \n",
       "..                  ...       ...         ...        ...       ...   \n",
       "74             0.036293  0.020136    0.198375   5.465914  0.016452   \n",
       "69             0.034207  0.020087    0.197897   5.785322  0.016615   \n",
       "40             0.043959  0.020087    0.197897   4.501823  0.015625   \n",
       "158            0.024988  0.020039    0.197419   7.900583  0.017502   \n",
       "128            0.060602  0.020136    0.183628   3.030088  0.013491   \n",
       "\n",
       "     conviction  zhangs_metric  \n",
       "150    9.991237       0.973877  \n",
       "149    6.596260       0.969366  \n",
       "23     5.475760       0.976705  \n",
       "155    4.536523       0.895811  \n",
       "137    4.349584       0.969905  \n",
       "..          ...            ...  \n",
       "74     1.202191       0.909351  \n",
       "69     1.204076       0.920593  \n",
       "40     1.191917       0.865744  \n",
       "158    1.214845       0.972099  \n",
       "128    1.150699       0.752491  \n",
       "\n",
       "[160 rows x 10 columns]"
      ]
     },
     "execution_count": 123,
     "metadata": {},
     "output_type": "execute_result"
    }
   ],
   "source": [
    "from mlxtend.frequent_patterns import association_rules\n",
    "end = association_rules(apr, metric = \"lift\", min_threshold = 1)\n",
    "end.sort_values(by = \"confidence\", ascending = False)"
   ]
  },
  {
   "cell_type": "code",
   "execution_count": 124,
   "id": "e4b4b7ba-da62-4089-8cfb-097f1143bede",
   "metadata": {
    "tags": []
   },
   "outputs": [
    {
     "data": {
      "text/html": [
       "<div>\n",
       "<style scoped>\n",
       "    .dataframe tbody tr th:only-of-type {\n",
       "        vertical-align: middle;\n",
       "    }\n",
       "\n",
       "    .dataframe tbody tr th {\n",
       "        vertical-align: top;\n",
       "    }\n",
       "\n",
       "    .dataframe thead th {\n",
       "        text-align: right;\n",
       "    }\n",
       "</style>\n",
       "<table border=\"1\" class=\"dataframe\">\n",
       "  <thead>\n",
       "    <tr style=\"text-align: right;\">\n",
       "      <th></th>\n",
       "      <th>antecedents</th>\n",
       "      <th>consequents</th>\n",
       "      <th>confidence</th>\n",
       "    </tr>\n",
       "  </thead>\n",
       "  <tbody>\n",
       "    <tr>\n",
       "      <th>150</th>\n",
       "      <td>((Quantity, ROSES REGENCY TEACUP AND SAUCER ),...</td>\n",
       "      <td>((Quantity, GREEN REGENCY TEACUP AND SAUCER))</td>\n",
       "      <td>0.904841</td>\n",
       "    </tr>\n",
       "    <tr>\n",
       "      <th>149</th>\n",
       "      <td>((Quantity, GREEN REGENCY TEACUP AND SAUCER), ...</td>\n",
       "      <td>((Quantity, ROSES REGENCY TEACUP AND SAUCER ))</td>\n",
       "      <td>0.856240</td>\n",
       "    </tr>\n",
       "    <tr>\n",
       "      <th>23</th>\n",
       "      <td>((Quantity, PINK REGENCY TEACUP AND SAUCER))</td>\n",
       "      <td>((Quantity, GREEN REGENCY TEACUP AND SAUCER))</td>\n",
       "      <td>0.826371</td>\n",
       "    </tr>\n",
       "    <tr>\n",
       "      <th>155</th>\n",
       "      <td>((Quantity, JUMBO STORAGE BAG SUKI), (Quantity...</td>\n",
       "      <td>((Quantity, JUMBO BAG RED RETROSPOT))</td>\n",
       "      <td>0.801942</td>\n",
       "    </tr>\n",
       "    <tr>\n",
       "      <th>137</th>\n",
       "      <td>((Quantity, PINK REGENCY TEACUP AND SAUCER))</td>\n",
       "      <td>((Quantity, ROSES REGENCY TEACUP AND SAUCER ))</td>\n",
       "      <td>0.781984</td>\n",
       "    </tr>\n",
       "    <tr>\n",
       "      <th>26</th>\n",
       "      <td>((Quantity, GREEN REGENCY TEACUP AND SAUCER))</td>\n",
       "      <td>((Quantity, ROSES REGENCY TEACUP AND SAUCER ))</td>\n",
       "      <td>0.756650</td>\n",
       "    </tr>\n",
       "    <tr>\n",
       "      <th>27</th>\n",
       "      <td>((Quantity, ROSES REGENCY TEACUP AND SAUCER ))</td>\n",
       "      <td>((Quantity, GREEN REGENCY TEACUP AND SAUCER))</td>\n",
       "      <td>0.720450</td>\n",
       "    </tr>\n",
       "    <tr>\n",
       "      <th>21</th>\n",
       "      <td>((Quantity, GARDENERS KNEELING PAD CUP OF TEA ))</td>\n",
       "      <td>((Quantity, GARDENERS KNEELING PAD KEEP CALM ))</td>\n",
       "      <td>0.720317</td>\n",
       "    </tr>\n",
       "    <tr>\n",
       "      <th>153</th>\n",
       "      <td>((Quantity, PINK REGENCY TEACUP AND SAUCER))</td>\n",
       "      <td>((Quantity, ROSES REGENCY TEACUP AND SAUCER ),...</td>\n",
       "      <td>0.707572</td>\n",
       "    </tr>\n",
       "    <tr>\n",
       "      <th>148</th>\n",
       "      <td>((Quantity, ROSES REGENCY TEACUP AND SAUCER ),...</td>\n",
       "      <td>((Quantity, PINK REGENCY TEACUP AND SAUCER))</td>\n",
       "      <td>0.705729</td>\n",
       "    </tr>\n",
       "  </tbody>\n",
       "</table>\n",
       "</div>"
      ],
      "text/plain": [
       "                                           antecedents  \\\n",
       "150  ((Quantity, ROSES REGENCY TEACUP AND SAUCER ),...   \n",
       "149  ((Quantity, GREEN REGENCY TEACUP AND SAUCER), ...   \n",
       "23        ((Quantity, PINK REGENCY TEACUP AND SAUCER))   \n",
       "155  ((Quantity, JUMBO STORAGE BAG SUKI), (Quantity...   \n",
       "137       ((Quantity, PINK REGENCY TEACUP AND SAUCER))   \n",
       "26       ((Quantity, GREEN REGENCY TEACUP AND SAUCER))   \n",
       "27      ((Quantity, ROSES REGENCY TEACUP AND SAUCER ))   \n",
       "21    ((Quantity, GARDENERS KNEELING PAD CUP OF TEA ))   \n",
       "153       ((Quantity, PINK REGENCY TEACUP AND SAUCER))   \n",
       "148  ((Quantity, ROSES REGENCY TEACUP AND SAUCER ),...   \n",
       "\n",
       "                                           consequents  confidence  \n",
       "150      ((Quantity, GREEN REGENCY TEACUP AND SAUCER))    0.904841  \n",
       "149     ((Quantity, ROSES REGENCY TEACUP AND SAUCER ))    0.856240  \n",
       "23       ((Quantity, GREEN REGENCY TEACUP AND SAUCER))    0.826371  \n",
       "155              ((Quantity, JUMBO BAG RED RETROSPOT))    0.801942  \n",
       "137     ((Quantity, ROSES REGENCY TEACUP AND SAUCER ))    0.781984  \n",
       "26      ((Quantity, ROSES REGENCY TEACUP AND SAUCER ))    0.756650  \n",
       "27       ((Quantity, GREEN REGENCY TEACUP AND SAUCER))    0.720450  \n",
       "21     ((Quantity, GARDENERS KNEELING PAD KEEP CALM ))    0.720317  \n",
       "153  ((Quantity, ROSES REGENCY TEACUP AND SAUCER ),...    0.707572  \n",
       "148       ((Quantity, PINK REGENCY TEACUP AND SAUCER))    0.705729  "
      ]
     },
     "execution_count": 124,
     "metadata": {},
     "output_type": "execute_result"
    }
   ],
   "source": [
    "MBA=pd.concat([end[\"antecedents\"], end[\"consequents\"], end[\"confidence\"]], axis = 1\n",
    "         ).sort_values(by = \"confidence\", ascending = False)[0:10]\n",
    "MBA"
   ]
  },
  {
   "cell_type": "markdown",
   "id": "fbebe793-34c9-4d13-930d-5966d00c6671",
   "metadata": {},
   "source": [
    "**Recommendation**"
   ]
  },
  {
   "cell_type": "markdown",
   "id": "be957906-ce61-4713-a853-2ad0e32ac538",
   "metadata": {},
   "source": [
    "Look at the confidences, it indicates the possibility that customers buying the X product will buy the Y product. We need to make a decision for them. Maybe in our website, when the customer click on first one, we need to show them the other item.\n",
    "\n",
    "For example: When our customer clicks on PINK REGENCY TEACUP AND SAUCER, we need to show them GREEN REGENCY TEACUP AND SAUCER and maximize our profit."
   ]
  },
  {
   "cell_type": "code",
   "execution_count": 125,
   "id": "ca3c9cde-0d44-4ec4-88cc-85962cfbf013",
   "metadata": {
    "tags": []
   },
   "outputs": [],
   "source": [
    "MBA.to_csv('MBA.csv', sep='\\t', index=False,header=True)"
   ]
  },
  {
   "cell_type": "code",
   "execution_count": 126,
   "id": "8b3a9196-39f6-4624-b9b1-8f562910635a",
   "metadata": {},
   "outputs": [],
   "source": [
    "end.to_csv('end.csv', sep='\\t', index=False,header=True)"
   ]
  },
  {
   "cell_type": "code",
   "execution_count": 130,
   "id": "911e58e4-1137-4aa6-b119-f7bff84faa28",
   "metadata": {},
   "outputs": [
    {
     "name": "stdout",
     "output_type": "stream",
     "text": [
      "Cross-Selling Recommendations:\n",
      "Customers who bought '('Quantity', 'PINK REGENCY TEACUP AND SAUCER')' also bought '('Quantity', 'GREEN REGENCY TEACUP AND SAUCER')'.\n",
      "Customers who bought '('Quantity', 'PINK REGENCY TEACUP AND SAUCER')' also bought '('Quantity', 'ROSES REGENCY TEACUP AND SAUCER ')'.\n",
      "Customers who bought '('Quantity', 'GREEN REGENCY TEACUP AND SAUCER')' also bought '('Quantity', 'ROSES REGENCY TEACUP AND SAUCER ')'.\n",
      "Customers who bought '('Quantity', 'ROSES REGENCY TEACUP AND SAUCER ')' also bought '('Quantity', 'GREEN REGENCY TEACUP AND SAUCER')'.\n",
      "Customers who bought '('Quantity', 'GARDENERS KNEELING PAD CUP OF TEA ')' also bought '('Quantity', 'GARDENERS KNEELING PAD KEEP CALM ')'.\n",
      "\n",
      "Upselling Recommendations:\n",
      "For customers who bought '('Quantity', 'PINK REGENCY TEACUP AND SAUCER')', recommend the following upgrades: ('Quantity', 'ROSES REGENCY TEACUP AND SAUCER '), ('Quantity', 'GREEN REGENCY TEACUP AND SAUCER').\n",
      "For customers who bought '('Quantity', 'GREEN REGENCY TEACUP AND SAUCER')', recommend the following upgrades: ('Quantity', 'ROSES REGENCY TEACUP AND SAUCER '), ('Quantity', 'PINK REGENCY TEACUP AND SAUCER').\n",
      "For customers who bought '('Quantity', 'ROSES REGENCY TEACUP AND SAUCER ')', recommend the following upgrades: ('Quantity', 'GREEN REGENCY TEACUP AND SAUCER'), ('Quantity', 'PINK REGENCY TEACUP AND SAUCER').\n",
      "For customers who bought '('Quantity', 'JUMBO STORAGE BAG SUKI')', recommend the following upgrades: ('Quantity', 'JUMBO BAG RED RETROSPOT'), ('Quantity', 'JUMBO BAG PINK POLKADOT').\n",
      "For customers who bought '('Quantity', 'JUMBO BAG PINK POLKADOT')', recommend the following upgrades: ('Quantity', 'JUMBO STORAGE BAG SUKI'), ('Quantity', 'JUMBO BAG RED RETROSPOT').\n"
     ]
    }
   ],
   "source": [
    "# Filter association rules for cross-selling opportunities\n",
    "cross_selling_rules = end[(end['antecedents'].apply(lambda x: len(x) == 1)) & (end['consequents'].apply(lambda x: len(x) == 1))]\n",
    "\n",
    "# Sort rules based on confidence and support\n",
    "cross_selling_rules = cross_selling_rules.sort_values(by=['confidence', 'support'], ascending=False)\n",
    "\n",
    "# Select top cross-selling recommendations\n",
    "top_cross_selling = cross_selling_rules.head(5)\n",
    "\n",
    "# Filter association rules for upselling opportunities\n",
    "upselling_rules = end[(end['antecedents'].apply(lambda x: len(x) == 1)) & (end['consequents'].apply(lambda x: len(x) > 1))]\n",
    "\n",
    "# Sort rules based on confidence and support\n",
    "upselling_rules = upselling_rules.sort_values(by=['confidence', 'support'], ascending=False)\n",
    "\n",
    "# Select top upselling recommendations\n",
    "top_upselling = upselling_rules.head(5)\n",
    "\n",
    "# Display cross-selling recommendations\n",
    "print(\"Cross-Selling Recommendations:\")\n",
    "for idx, row in top_cross_selling.iterrows():\n",
    "    antecedent = list(row['antecedents'])[0]\n",
    "    consequent = list(row['consequents'])[0]\n",
    "    print(f\"Customers who bought '{antecedent}' also bought '{consequent}'.\")\n",
    "\n",
    "# Display upselling recommendations\n",
    "print(\"\\nUpselling Recommendations:\")\n",
    "for idx, row in top_upselling.iterrows():\n",
    "    antecedent = list(row['antecedents'])[0]\n",
    "    consequents = [str(item) for item in list(row['consequents'])]\n",
    "    print(f\"For customers who bought '{antecedent}', recommend the following upgrades: {', '.join(consequents)}.\")\n",
    "\n"
   ]
  },
  {
   "cell_type": "code",
   "execution_count": 134,
   "id": "fec8bb00-bf01-437c-8c50-10b5f1893be3",
   "metadata": {
    "tags": []
   },
   "outputs": [
    {
     "name": "stdout",
     "output_type": "stream",
     "text": [
      "\n",
      "Upselling Recommendations:\n",
      "For customers who bought '('Quantity', 'PINK REGENCY TEACUP AND SAUCER')', recommend the following upgrades: ('Quantity', 'ROSES REGENCY TEACUP AND SAUCER '), ('Quantity', 'GREEN REGENCY TEACUP AND SAUCER').\n",
      "For customers who bought '('Quantity', 'GREEN REGENCY TEACUP AND SAUCER')', recommend the following upgrades: ('Quantity', 'ROSES REGENCY TEACUP AND SAUCER '), ('Quantity', 'PINK REGENCY TEACUP AND SAUCER').\n",
      "For customers who bought '('Quantity', 'ROSES REGENCY TEACUP AND SAUCER ')', recommend the following upgrades: ('Quantity', 'GREEN REGENCY TEACUP AND SAUCER'), ('Quantity', 'PINK REGENCY TEACUP AND SAUCER').\n",
      "For customers who bought '('Quantity', 'JUMBO STORAGE BAG SUKI')', recommend the following upgrades: ('Quantity', 'JUMBO BAG RED RETROSPOT'), ('Quantity', 'JUMBO BAG PINK POLKADOT').\n",
      "For customers who bought '('Quantity', 'JUMBO BAG PINK POLKADOT')', recommend the following upgrades: ('Quantity', 'JUMBO STORAGE BAG SUKI'), ('Quantity', 'JUMBO BAG RED RETROSPOT').\n"
     ]
    }
   ],
   "source": [
    "# Display upselling recommendations\n",
    "print(\"\\nUpselling Recommendations:\")\n",
    "for idx, row in top_upselling.iterrows():\n",
    "    antecedent = list(row['antecedents'])[0]\n",
    "    consequents = [str(item) for item in list(row['consequents'])]\n",
    "    \n",
    "    print(f\"For customers who bought '{antecedent}', recommend the following upgrades: {', '.join(consequents)}.\")\n"
   ]
  },
  {
   "cell_type": "markdown",
   "id": "3396fe38-4476-412e-bfe7-6d93b39a51a7",
   "metadata": {},
   "source": [
    "**Conclusion**"
   ]
  },
  {
   "cell_type": "markdown",
   "id": "4e7f88f3-4753-4dd3-a33e-ded2c56e1741",
   "metadata": {},
   "source": [
    "In summary, our project highlighted the substantial significance of association rules analysis, encompassing sales trend analysis and RFM-based customer segmentation, with applications spanning various domains such as marketing, product recommendations, cross-selling strategies, and process optimization. By unraveling intricate item associations, we provided businesses with the tools to make data-driven decisions, fostering improved sales strategies, customer satisfaction, and marketing campaign refinement, ultimately driving substantial business growth. The combination of sales trend analysis and RFM segmentation allowed for a more holistic understanding of customer behavior and preferences, empowering businesses to tailor their strategies to meet specific needs and achieve remarkable results."
   ]
  },
  {
   "cell_type": "code",
   "execution_count": null,
   "id": "42958f44-ed44-458c-a70b-4e5e3406d448",
   "metadata": {},
   "outputs": [],
   "source": []
  }
 ],
 "metadata": {
  "kernelspec": {
   "display_name": "Python 3 (ipykernel)",
   "language": "python",
   "name": "python3"
  },
  "language_info": {
   "codemirror_mode": {
    "name": "ipython",
    "version": 3
   },
   "file_extension": ".py",
   "mimetype": "text/x-python",
   "name": "python",
   "nbconvert_exporter": "python",
   "pygments_lexer": "ipython3",
   "version": "3.11.5"
  }
 },
 "nbformat": 4,
 "nbformat_minor": 5
}
